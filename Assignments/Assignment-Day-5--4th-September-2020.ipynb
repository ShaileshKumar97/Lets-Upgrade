{
 "cells": [
  {
   "cell_type": "markdown",
   "metadata": {},
   "source": [
    "### Question 1 :\n",
    "Write a Python program to find the first 20 non-even prime natural numbers."
   ]
  },
  {
   "cell_type": "code",
   "execution_count": 1,
   "metadata": {},
   "outputs": [
    {
     "data": {
      "text/plain": [
       "[3, 5, 7, 11, 13, 17, 19, 23, 29, 31, 37, 41, 43, 47, 53, 59, 61, 67, 71, 73]"
      ]
     },
     "execution_count": 1,
     "metadata": {},
     "output_type": "execute_result"
    }
   ],
   "source": [
    "prime_numbers = []\n",
    "for i in range(2,1000):\n",
    "    if i > 1: \n",
    "        for j in range(2, i):\n",
    "            if (i % j) == 0: \n",
    "                break\n",
    "        else: \n",
    "            prime_numbers.append(i)\n",
    "prime_numbers[1:21]"
   ]
  },
  {
   "cell_type": "markdown",
   "metadata": {},
   "source": [
    "### Question 2 :\n",
    "Write a Python program to implement 15 functions of string."
   ]
  },
  {
   "cell_type": "code",
   "execution_count": 2,
   "metadata": {},
   "outputs": [
    {
     "name": "stdout",
     "output_type": "stream",
     "text": [
      "This is 3rd assignment\n",
      "this is 3rd assignment\n",
      "True\n",
      "True\n",
      "True\n",
      "True\n",
      "True\n",
      "True\n",
      "e-l-e-m-e-n-t-s\n",
      "this is a assignment\n",
      "this is a python\n",
      "this is a assignment\n",
      "tHIS iS a aSSIGNMENT\n",
      "This Is A Assignment\n",
      "THIS IS A ASSIGNMENT\n"
     ]
    }
   ],
   "source": [
    "print('this is 3rd assignment'.capitalize()) #Converts the first character to upper case\n",
    "print('This IS 3rd ASSignment'.casefold()) #Converts string into lower case\n",
    "print('This1is3rdAssignment'.isalnum()) #Returns True if all characters in the string are alphanumeric\n",
    "print('Thisisaassignment'.isalpha()) #Returns True if all characters in the string are in the alphabet\n",
    "print('06092020'.isdigit()) #Returns True if all characters in the string are digits\n",
    "print('this is a assignment'.islower()) #Returns True if all characters in the string are lower case\n",
    "print('THIS IS A ASSIGNMENT'.isupper()) #Returns True if all characters in the string are upper case\n",
    "print('This Is A Assignment'.istitle()) #Returns True if the string follows the rules of a title\n",
    "print('-'.join('elements')) #Joins the elements of an iterable to the end of the string\n",
    "print('    this is a assignment'.lstrip()) #Returns a left trim version of the string\n",
    "print('this is a assignment'.replace('assignment','python')) #Returns a string where a specified value is replaced with a specified value\n",
    "print('this is a assignment    '.rstrip()) #Returns a right trim version of the string\n",
    "print('This Is A Assignment'.swapcase()) #Swaps cases, lower case becomes upper case and vice versa\n",
    "print('this is a assignment'.title()) #Converts the first character of each word to upper case\n",
    "print('this is a assignment'.upper()) #Converts a string into upper case"
   ]
  },
  {
   "cell_type": "markdown",
   "metadata": {},
   "source": [
    "### Question 3:\n",
    "Write a Python program to check if the given string is a Palindrome or Anagram or None of them. Display\n",
    "the message accordingly to the user."
   ]
  },
  {
   "cell_type": "code",
   "execution_count": 3,
   "metadata": {},
   "outputs": [
    {
     "name": "stdout",
     "output_type": "stream",
     "text": [
      "malayalam\n",
      "palindrome\n"
     ]
    }
   ],
   "source": [
    "# Palindrome\n",
    "a = input()\n",
    "if a == a[-1::-1]:\n",
    "    print('palindrome')\n",
    "else :\n",
    "    print('not palindrome')"
   ]
  },
  {
   "cell_type": "code",
   "execution_count": 4,
   "metadata": {},
   "outputs": [
    {
     "name": "stdout",
     "output_type": "stream",
     "text": [
      "True\n"
     ]
    }
   ],
   "source": [
    "# Anagram\n",
    "def is_anagram(str1, str2):\n",
    "    list_str1 = list(str1)\n",
    "    list_str1.sort()\n",
    "    list_str2 = list(str2)\n",
    "    list_str2.sort()\n",
    "    return (list_str1 == list_str2)\n",
    "print(is_anagram('anagram','nagaram'))"
   ]
  },
  {
   "cell_type": "markdown",
   "metadata": {},
   "source": [
    "### Question 4:\n",
    "Write a Python's user-defined function that removes all the additional characters from the string and\n",
    "convert it finally to lower case using built-in lower(). eg: If the string is \"Dr. Darshan Ingle @AIML Trainer\",\n",
    "then the output be \"drdarshaningleaimltrainer\"."
   ]
  },
  {
   "cell_type": "code",
   "execution_count": 5,
   "metadata": {},
   "outputs": [],
   "source": [
    "# here a has all possible special character \n",
    "a = ['<', '[', '^', '.', '.' ,']', '+', '>', '0', '1', '2', '3', '4', '5', '6', '7', '8', '9', '(', 'http', '|', 'https', ')', ':', '$', '-', '!', '#', '/', '/', '*', '%', '&', '?', \"@\", '//']"
   ]
  },
  {
   "cell_type": "code",
   "execution_count": 6,
   "metadata": {},
   "outputs": [
    {
     "name": "stdout",
     "output_type": "stream",
     "text": [
      "Dr. Darshan Ingle @AIML Trainer\n"
     ]
    },
    {
     "data": {
      "text/plain": [
       "'drdarshaningleaimltrainer'"
      ]
     },
     "execution_count": 6,
     "metadata": {},
     "output_type": "execute_result"
    }
   ],
   "source": [
    "input_string = input()\n",
    "input_string.replace(\" \", \"\") \n",
    "input_string = list(input_string)\n",
    "for i in a:\n",
    "    for j in input_string:\n",
    "        if i == j:\n",
    "            input_string.remove(j)\n",
    "str = ''\n",
    "for k in input_string:  \n",
    "        str += k  \n",
    "str = str.replace(' ','')\n",
    "str.lower()"
   ]
  }
 ],
 "metadata": {
  "kernelspec": {
   "display_name": "Python 3",
   "language": "python",
   "name": "python3"
  },
  "language_info": {
   "codemirror_mode": {
    "name": "ipython",
    "version": 3
   },
   "file_extension": ".py",
   "mimetype": "text/x-python",
   "name": "python",
   "nbconvert_exporter": "python",
   "pygments_lexer": "ipython3",
   "version": "3.7.4"
  }
 },
 "nbformat": 4,
 "nbformat_minor": 2
}
