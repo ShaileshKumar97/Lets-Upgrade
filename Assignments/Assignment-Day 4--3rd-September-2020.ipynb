{
 "cells": [
  {
   "cell_type": "markdown",
   "metadata": {},
   "source": [
    "### Question 1 :\n",
    "Research on whether addition, subtraction, multiplication, division, floor division, and modulo operations\n",
    "be performed on complex numbers. Based on your study, implement a Python program to demonstrate\n",
    "these operations.\n"
   ]
  },
  {
   "cell_type": "code",
   "execution_count": 1,
   "metadata": {},
   "outputs": [
    {
     "name": "stdout",
     "output_type": "stream",
     "text": [
      "Addition of two Complex no.: (10+8j)\n",
      "Substraction of two Complex no.: (-6-2j)\n",
      "Multiplication of two Complex no.: (1+34j)\n",
      "Division of two Complex no.: (0.34831460674157305+0.15730337078651685j)\n",
      "Modulo of Complex no.: (3.605551275463989, 9.433981132056603)\n"
     ]
    }
   ],
   "source": [
    "a = 2+3j #or we can simply use complex(2, 3) takes two values x,y-real value and automatically coverts to complex no. x=2, y=3 \n",
    "b = 8+5j #or we can simply use complex(8, 5) takes two values x,y-real value and automatically coverts to complex no. x=8, y=5\n",
    "print(f'Addition of two Complex no.: {a+b}')\n",
    "print(f'Substraction of two Complex no.: {a-b}')\n",
    "print(f'Multiplication of two Complex no.: {a*b}')\n",
    "print(f'Division of two Complex no.: {a/b}')\n",
    "'''print(f'Floor Division of two Complex no.: {a//b}') #In Python 3 you can't compute floor division of complex numbers anymore'''\n",
    "print(f'Modulo of Complex no.: {abs(a), abs(b)}')"
   ]
  },
  {
   "cell_type": "markdown",
   "metadata": {},
   "source": [
    "### Question 2 :\n",
    "Research on range() functions and its parameters. Create a markdown cell and write in your own words\n",
    "(no copy-paste from google please) what you understand about it. Implement a small program of your\n",
    "choice on the same."
   ]
  },
  {
   "cell_type": "markdown",
   "metadata": {},
   "source": [
    "## range() function:\n",
    "* range(stop) takes one argument.\n",
    "* range(start, stop) takes two arguments.\n",
    "* range(start, stop, step) takes three arguments."
   ]
  },
  {
   "cell_type": "markdown",
   "metadata": {},
   "source": [
    "**start:** integer starting from which the sequence of integers is to be returned.\n",
    "\n",
    "**stop:** integer before which the sequence of integers is to be returned.The range of integers end at stop – 1.\n",
    "\n",
    "**step:** integer value which determines the increment between each integer in the sequence"
   ]
  },
  {
   "cell_type": "code",
   "execution_count": 2,
   "metadata": {},
   "outputs": [
    {
     "name": "stdout",
     "output_type": "stream",
     "text": [
      "0,1,2,3,4,5,\n",
      "1,2,3,4,5,\n",
      "1,3,5,7,9,"
     ]
    }
   ],
   "source": [
    "# range(stop)\n",
    "for i in range(6):\n",
    "    print(i, end=',')\n",
    "print()\n",
    "# range(start, stop)\n",
    "for i in range(1,6):\n",
    "    print(i, end=',')\n",
    "print()\n",
    "# range(start, stop, step)\n",
    "for i in range(1,10,2):\n",
    "    print(i, end=',')"
   ]
  },
  {
   "cell_type": "markdown",
   "metadata": {},
   "source": [
    "### Question 3:\n",
    "Consider two numbers. Perform their subtraction and if the result of subtraction is greater than 25, print\n",
    "their multiplication result else print their division result."
   ]
  },
  {
   "cell_type": "code",
   "execution_count": 3,
   "metadata": {},
   "outputs": [
    {
     "name": "stdout",
     "output_type": "stream",
     "text": [
      "78\n",
      "45\n",
      "3510\n"
     ]
    }
   ],
   "source": [
    "a = int(input()) # Enter the number\n",
    "b = int(input()) # Enter the number\n",
    "if a-b>25:\n",
    "    print(a*b)\n",
    "else:\n",
    "    print(a/b)"
   ]
  },
  {
   "cell_type": "markdown",
   "metadata": {},
   "source": [
    "### Question 4:\n",
    "Consider a list of 10 elements of integer values. If the number in the list is divisible by 2, print the result as\n",
    "\"square of that number minus 2\"."
   ]
  },
  {
   "cell_type": "code",
   "execution_count": 4,
   "metadata": {},
   "outputs": [
    {
     "name": "stdout",
     "output_type": "stream",
     "text": [
      "7 2 9 8 12 56 31 46 86 79\n",
      "the value at index 1 is divisible by 2 and then we perform (a[i]**2), 2\n",
      "the value at index 3 is divisible by 2 and then we perform (a[i]**2), 62\n",
      "the value at index 4 is divisible by 2 and then we perform (a[i]**2), 142\n",
      "the value at index 5 is divisible by 2 and then we perform (a[i]**2), 3134\n",
      "the value at index 7 is divisible by 2 and then we perform (a[i]**2), 2114\n",
      "the value at index 8 is divisible by 2 and then we perform (a[i]**2), 7394\n"
     ]
    }
   ],
   "source": [
    "a = list(map(int, input().split())) #Given input should be space-separated values, here map(function, iterables) is used to \n",
    "                                    #reduce extralines to take inputs and list() will take that inputs in list\n",
    "for i in range(len(a)):\n",
    "    if a[i]%2==0:\n",
    "        print(f'the value at index {i} is divisible by 2 and then we perform (a[i]**2), {a[i]**2 - 2}')"
   ]
  },
  {
   "cell_type": "markdown",
   "metadata": {},
   "source": [
    "### Question 5:\n",
    "Consider a list of 10 elements. Print all the elements in the list which are greater than 7 when that number\n",
    "is divided 2."
   ]
  },
  {
   "cell_type": "code",
   "execution_count": 5,
   "metadata": {},
   "outputs": [
    {
     "name": "stdout",
     "output_type": "stream",
     "text": [
      "7 2 9 8 12 56 31 46 86 79\n",
      "Element that is greater than 7 when divided by 2 is 56\n",
      "Element that is greater than 7 when divided by 2 is 31\n",
      "Element that is greater than 7 when divided by 2 is 46\n",
      "Element that is greater than 7 when divided by 2 is 86\n",
      "Element that is greater than 7 when divided by 2 is 79\n"
     ]
    }
   ],
   "source": [
    "a = list(map(int, input().split()))#Given input should be space-separated values, here map(function, iterables) is used to \n",
    "                                    #reduce extralines to take inputs and list() will take that inputs in list\n",
    "for i in range(len(a)):\n",
    "    if a[i]/2>7:\n",
    "        print(f'Element that is greater than 7 when divided by 2 is {a[i]}')"
   ]
  }
 ],
 "metadata": {
  "kernelspec": {
   "display_name": "Python 3",
   "language": "python",
   "name": "python3"
  },
  "language_info": {
   "codemirror_mode": {
    "name": "ipython",
    "version": 3
   },
   "file_extension": ".py",
   "mimetype": "text/x-python",
   "name": "python",
   "nbconvert_exporter": "python",
   "pygments_lexer": "ipython3",
   "version": "3.7.4"
  }
 },
 "nbformat": 4,
 "nbformat_minor": 2
}
