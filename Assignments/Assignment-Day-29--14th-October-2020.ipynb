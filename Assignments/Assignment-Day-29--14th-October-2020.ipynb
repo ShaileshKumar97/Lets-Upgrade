{
 "cells": [
  {
   "cell_type": "markdown",
   "metadata": {},
   "source": [
    "# Question 1:\n",
    "Try to create the backpropagation and feedforward in python by creating function."
   ]
  },
  {
   "cell_type": "code",
   "execution_count": 1,
   "metadata": {},
   "outputs": [],
   "source": [
    "import numpy as np"
   ]
  },
  {
   "cell_type": "code",
   "execution_count": 2,
   "metadata": {},
   "outputs": [],
   "source": [
    "#initialize parameters\n",
    "A = np.random.randn(3,2) #shape-3x2 # Input\n",
    "W = np.random.randn(1,3) #shape-1x3 # Weights\n",
    "b = np.random.randn(1,1) #shape-1x1 # Bias\n",
    "\n",
    "#sigmoid\n",
    "def sigmoid(Z):\n",
    "    A = 1/(1+np.exp(-Z))\n",
    "    return A\n",
    "\n",
    "#feedforward\n",
    "def feedforward(A, W, b):\n",
    "    Z = np.dot(W,A) + b\n",
    "    A = sigmoid(Z)\n",
    "    return A"
   ]
  },
  {
   "cell_type": "code",
   "execution_count": 3,
   "metadata": {},
   "outputs": [
    {
     "name": "stdout",
     "output_type": "stream",
     "text": [
      "Feedforward Network Output: [[0.40952981 0.99178455]]\n"
     ]
    }
   ],
   "source": [
    "print(f'Feedforward Network Output: {feedforward(A,W,b)}') # shape-1x2"
   ]
  },
  {
   "cell_type": "code",
   "execution_count": 4,
   "metadata": {},
   "outputs": [],
   "source": [
    "# initialize parameters\n",
    "A = np.random.randn(3,2) #shape-3x2 # Input\n",
    "W = np.random.randn(1,3) #shape-1x3 # Weights\n",
    "b = np.random.randn(1,1) #shape-1x1 # Bias\n",
    "#To calculate dA = - (np.divide(Y, A) - np.divide(1 - Y, 1 - A)) formula should use where Y is actual o/p, A is predicted o/p\n",
    "#but for demonstration i just make this function values as a random no.\n",
    "dA_prev = np.random.randn(1,2)\n",
    "m = A.shape[1] # here m is the no. of examples"
   ]
  },
  {
   "cell_type": "code",
   "execution_count": 5,
   "metadata": {},
   "outputs": [],
   "source": [
    "#backpropagation\n",
    "def backpropagation(dA, A, W, b):\n",
    "    Z = np.dot(W,A) + b # here A is the predicted o/p\n",
    "    s = sigmoid(Z)\n",
    "    dZ = dA*s*(1-s)\n",
    "    dW = 1 / m * np.dot(dZ, A.T) # while here A is the previous A i.e. A from previous iteration but here only single \n",
    "    db = 1/m * np.sum(dZ, axis = 1, keepdims=True) # iteration is there so i appoint as same\n",
    "    dA_prev = np.dot(W.T, dZ)\n",
    "    return dZ, dW, db, dA"
   ]
  },
  {
   "cell_type": "code",
   "execution_count": 6,
   "metadata": {},
   "outputs": [
    {
     "name": "stdout",
     "output_type": "stream",
     "text": [
      "Parameters after backpropogation: \n",
      "dZ = \t[[-0.04273953 -0.11801974]]\n",
      "dA_prev = [[-0.20392719 -1.32817952]]\n",
      "dW = \t[[-0.11509406 -0.01517241 -0.05255065]]\n",
      "db = \t[[-0.08037963]]\n"
     ]
    }
   ],
   "source": [
    "dZ, dW, db, dA = backpropagation(dA_prev, A, W, b)\n",
    "print(f'Parameters after backpropogation: ')\n",
    "print(f'dZ = \\t{dZ}')\n",
    "print (f'dA_prev = {dA_prev}')\n",
    "print (f'dW = \\t{dW}')\n",
    "print (f'db = \\t{db}')"
   ]
  }
 ],
 "metadata": {
  "kernelspec": {
   "display_name": "Python 3",
   "language": "python",
   "name": "python3"
  },
  "language_info": {
   "codemirror_mode": {
    "name": "ipython",
    "version": 3
   },
   "file_extension": ".py",
   "mimetype": "text/x-python",
   "name": "python",
   "nbconvert_exporter": "python",
   "pygments_lexer": "ipython3",
   "version": "3.7.4"
  },
  "toc": {
   "base_numbering": 1,
   "nav_menu": {},
   "number_sections": true,
   "sideBar": true,
   "skip_h1_title": false,
   "title_cell": "Table of Contents",
   "title_sidebar": "Contents",
   "toc_cell": false,
   "toc_position": {},
   "toc_section_display": true,
   "toc_window_display": false
  }
 },
 "nbformat": 4,
 "nbformat_minor": 2
}
