{
 "cells": [
  {
   "cell_type": "markdown",
   "metadata": {},
   "source": [
    "# Problem Statement:\n",
    "\n",
    "You want to collect text data using Twitter API.\n",
    "\n",
    "https://developer.twitter.com/en\n",
    "\n",
    "# AIML Batch2:\n",
    "\n",
    "__Consumer API keys__\n",
    "\n",
    "__API key:__\n",
    "\n",
    "nucwiQk9GtsJfWFSGQjXFicnq\n",
    "\n",
    "__API secret key:__\n",
    "\n",
    "psbIvsTINgr6eEu89jMe2FwsOM28Cs3KaVLWUfBjADkAfFfhZV\n",
    "\n",
    "__Access token:__\n",
    "\n",
    "296102538-4rqAPJBZSl2dQW2Wd1qvciWfkNKFpv9GZ3IBp5t7\n",
    "\n",
    "__Access token secret:__\n",
    "\n",
    "FoCmyrWsWVeyxjksdRwqujVyzQGT9tZVjRGqJoav021MU\n",
    "\n",
    "https://anaconda.org/conda-forge/tweepy\n",
    "\n",
    "https://anaconda.org/anaconda/openpyxl"
   ]
  },
  {
   "cell_type": "code",
   "execution_count": 1,
   "metadata": {},
   "outputs": [],
   "source": [
    "import warnings\n",
    "\n",
    "warnings.filterwarnings('ignore')"
   ]
  },
  {
   "cell_type": "code",
   "execution_count": 2,
   "metadata": {},
   "outputs": [],
   "source": [
    "import numpy as np\n",
    "import pandas as pd\n",
    "import warnings\n",
    "warnings.filterwarnings('ignore')\n",
    "import json"
   ]
  },
  {
   "cell_type": "code",
   "execution_count": 4,
   "metadata": {},
   "outputs": [],
   "source": [
    "import tweepy\n",
    "import openpyxl\n",
    "from tweepy import OAuthHandler"
   ]
  },
  {
   "cell_type": "code",
   "execution_count": 5,
   "metadata": {},
   "outputs": [],
   "source": [
    "# credentials\n",
    "\n",
    "consumer_key = \"nucwiQk9GtsJfWFSGQjXFicnq\"\n",
    "consumer_secret = \"psbIvsTINgr6eEu89jMe2FwsOM28Cs3KaVLWUfBjADkAfFfhZV\"\n",
    "access_token = \"296102538-4rqAPJBZSl2dQW2Wd1qvciWfkNKFpv9GZ3IBp5t7\"\n",
    "access_token_secret = \"FoCmyrWsWVeyxjksdRwqujVyzQGT9tZVjRGqJoav021MU\""
   ]
  },
  {
   "cell_type": "code",
   "execution_count": 6,
   "metadata": {},
   "outputs": [],
   "source": [
    "# call API\n",
    "auth = tweepy.OAuthHandler(consumer_key, consumer_secret)\n",
    "auth.set_access_token(access_token, access_token_secret)\n",
    "api = tweepy.API(auth)"
   ]
  },
  {
   "cell_type": "code",
   "execution_count": 7,
   "metadata": {},
   "outputs": [
    {
     "name": "stdout",
     "output_type": "stream",
     "text": [
      "Status(_api=<tweepy.api.API object at 0x000001C06D366EC8>, _json={'created_at': 'Wed Mar 10 18:24:42 +0000 2021', 'id': 1369715854913441794, 'id_str': '1369715854913441794', 'full_text': '@DaveMason25 @HouseGOP Were you paying attention to FBI Director Wray’s testimony to Congress 24 weeks ago?\\n\\nHe warned us.\\n\\nRepublicans, sadly, unforgivably, are focused on helping Russia divide &amp; weaken our country.\\n\\nhttps://t.co/m16W5aKeY5 https://t.co/61sTvRUbBJ', 'truncated': False, 'display_text_range': [23, 245], 'entities': {'hashtags': [], 'symbols': [], 'user_mentions': [{'screen_name': 'DaveMason25', 'name': 'DaveMason25', 'id': 1059115585466822657, 'id_str': '1059115585466822657', 'indices': [0, 12]}, {'screen_name': 'HouseGOP', 'name': 'House Republicans', 'id': 15207668, 'id_str': '15207668', 'indices': [13, 22]}], 'urls': [{'url': 'https://t.co/m16W5aKeY5', 'expanded_url': 'https://www.msn.com/en-us/news/politics/fbi-director-christopher-wray-says-russia-is-meddling-in-the-2020-election-to-denigrate-joe-biden/ar-BB199xcz?ocid=uxbndlbing', 'display_url': 'msn.com/en-us/news/pol…', 'indices': [222, 245]}], 'media': [{'id': 1369715849003696134, 'id_str': '1369715849003696134', 'indices': [246, 269], 'media_url': 'http://pbs.twimg.com/media/EwI1Tr8WgAYsDqg.jpg', 'media_url_https': 'https://pbs.twimg.com/media/EwI1Tr8WgAYsDqg.jpg', 'url': 'https://t.co/61sTvRUbBJ', 'display_url': 'pic.twitter.com/61sTvRUbBJ', 'expanded_url': 'https://twitter.com/HappyChichester/status/1369715854913441794/photo/1', 'type': 'photo', 'sizes': {'medium': {'w': 700, 'h': 700, 'resize': 'fit'}, 'thumb': {'w': 150, 'h': 150, 'resize': 'crop'}, 'large': {'w': 700, 'h': 700, 'resize': 'fit'}, 'small': {'w': 680, 'h': 680, 'resize': 'fit'}}}]}, 'extended_entities': {'media': [{'id': 1369715849003696134, 'id_str': '1369715849003696134', 'indices': [246, 269], 'media_url': 'http://pbs.twimg.com/media/EwI1Tr8WgAYsDqg.jpg', 'media_url_https': 'https://pbs.twimg.com/media/EwI1Tr8WgAYsDqg.jpg', 'url': 'https://t.co/61sTvRUbBJ', 'display_url': 'pic.twitter.com/61sTvRUbBJ', 'expanded_url': 'https://twitter.com/HappyChichester/status/1369715854913441794/photo/1', 'type': 'photo', 'sizes': {'medium': {'w': 700, 'h': 700, 'resize': 'fit'}, 'thumb': {'w': 150, 'h': 150, 'resize': 'crop'}, 'large': {'w': 700, 'h': 700, 'resize': 'fit'}, 'small': {'w': 680, 'h': 680, 'resize': 'fit'}}}]}, 'metadata': {'iso_language_code': 'en', 'result_type': 'recent'}, 'source': '<a href=\"http://twitter.com/#!/download/ipad\" rel=\"nofollow\">Twitter for iPad</a>', 'in_reply_to_status_id': 1369715667058974723, 'in_reply_to_status_id_str': '1369715667058974723', 'in_reply_to_user_id': 1059115585466822657, 'in_reply_to_user_id_str': '1059115585466822657', 'in_reply_to_screen_name': 'DaveMason25', 'user': {'id': 1260440701, 'id_str': '1260440701', 'name': 'Happy Chichester', 'screen_name': 'HappyChichester', 'location': 'Columbus, Ohio', 'description': 'Singer, songwriter, multi-instrumental', 'url': 'https://t.co/6EznA88ph7', 'entities': {'url': {'urls': [{'url': 'https://t.co/6EznA88ph7', 'expanded_url': 'https://happychichester.bandcamp.com/music', 'display_url': 'happychichester.bandcamp.com/music', 'indices': [0, 23]}]}, 'description': {'urls': []}}, 'protected': False, 'followers_count': 4884, 'friends_count': 4633, 'listed_count': 95, 'created_at': 'Mon Mar 11 21:16:14 +0000 2013', 'favourites_count': 385435, 'utc_offset': None, 'time_zone': None, 'geo_enabled': False, 'verified': False, 'statuses_count': 114088, 'lang': None, 'contributors_enabled': False, 'is_translator': False, 'is_translation_enabled': False, 'profile_background_color': 'C0DEED', 'profile_background_image_url': 'http://abs.twimg.com/images/themes/theme1/bg.png', 'profile_background_image_url_https': 'https://abs.twimg.com/images/themes/theme1/bg.png', 'profile_background_tile': False, 'profile_image_url': 'http://pbs.twimg.com/profile_images/1254629281566789637/cpvCJlOo_normal.jpg', 'profile_image_url_https': 'https://pbs.twimg.com/profile_images/1254629281566789637/cpvCJlOo_normal.jpg', 'profile_banner_url': 'https://pbs.twimg.com/profile_banners/1260440701/1534748307', 'profile_link_color': '1DA1F2', 'profile_sidebar_border_color': 'C0DEED', 'profile_sidebar_fill_color': 'DDEEF6', 'profile_text_color': '333333', 'profile_use_background_image': True, 'has_extended_profile': False, 'default_profile': True, 'default_profile_image': False, 'following': False, 'follow_request_sent': False, 'notifications': False, 'translator_type': 'none'}, 'geo': None, 'coordinates': None, 'place': None, 'contributors': None, 'is_quote_status': False, 'retweet_count': 0, 'favorite_count': 0, 'favorited': False, 'retweeted': False, 'possibly_sensitive': False, 'lang': 'en'}, created_at=datetime.datetime(2021, 3, 10, 18, 24, 42), id=1369715854913441794, id_str='1369715854913441794', full_text='@DaveMason25 @HouseGOP Were you paying attention to FBI Director Wray’s testimony to Congress 24 weeks ago?\\n\\nHe warned us.\\n\\nRepublicans, sadly, unforgivably, are focused on helping Russia divide &amp; weaken our country.\\n\\nhttps://t.co/m16W5aKeY5 https://t.co/61sTvRUbBJ', truncated=False, display_text_range=[23, 245], entities={'hashtags': [], 'symbols': [], 'user_mentions': [{'screen_name': 'DaveMason25', 'name': 'DaveMason25', 'id': 1059115585466822657, 'id_str': '1059115585466822657', 'indices': [0, 12]}, {'screen_name': 'HouseGOP', 'name': 'House Republicans', 'id': 15207668, 'id_str': '15207668', 'indices': [13, 22]}], 'urls': [{'url': 'https://t.co/m16W5aKeY5', 'expanded_url': 'https://www.msn.com/en-us/news/politics/fbi-director-christopher-wray-says-russia-is-meddling-in-the-2020-election-to-denigrate-joe-biden/ar-BB199xcz?ocid=uxbndlbing', 'display_url': 'msn.com/en-us/news/pol…', 'indices': [222, 245]}], 'media': [{'id': 1369715849003696134, 'id_str': '1369715849003696134', 'indices': [246, 269], 'media_url': 'http://pbs.twimg.com/media/EwI1Tr8WgAYsDqg.jpg', 'media_url_https': 'https://pbs.twimg.com/media/EwI1Tr8WgAYsDqg.jpg', 'url': 'https://t.co/61sTvRUbBJ', 'display_url': 'pic.twitter.com/61sTvRUbBJ', 'expanded_url': 'https://twitter.com/HappyChichester/status/1369715854913441794/photo/1', 'type': 'photo', 'sizes': {'medium': {'w': 700, 'h': 700, 'resize': 'fit'}, 'thumb': {'w': 150, 'h': 150, 'resize': 'crop'}, 'large': {'w': 700, 'h': 700, 'resize': 'fit'}, 'small': {'w': 680, 'h': 680, 'resize': 'fit'}}}]}, extended_entities={'media': [{'id': 1369715849003696134, 'id_str': '1369715849003696134', 'indices': [246, 269], 'media_url': 'http://pbs.twimg.com/media/EwI1Tr8WgAYsDqg.jpg', 'media_url_https': 'https://pbs.twimg.com/media/EwI1Tr8WgAYsDqg.jpg', 'url': 'https://t.co/61sTvRUbBJ', 'display_url': 'pic.twitter.com/61sTvRUbBJ', 'expanded_url': 'https://twitter.com/HappyChichester/status/1369715854913441794/photo/1', 'type': 'photo', 'sizes': {'medium': {'w': 700, 'h': 700, 'resize': 'fit'}, 'thumb': {'w': 150, 'h': 150, 'resize': 'crop'}, 'large': {'w': 700, 'h': 700, 'resize': 'fit'}, 'small': {'w': 680, 'h': 680, 'resize': 'fit'}}}]}, metadata={'iso_language_code': 'en', 'result_type': 'recent'}, source='Twitter for iPad', source_url='http://twitter.com/#!/download/ipad', in_reply_to_status_id=1369715667058974723, in_reply_to_status_id_str='1369715667058974723', in_reply_to_user_id=1059115585466822657, in_reply_to_user_id_str='1059115585466822657', in_reply_to_screen_name='DaveMason25', author=User(_api=<tweepy.api.API object at 0x000001C06D366EC8>, _json={'id': 1260440701, 'id_str': '1260440701', 'name': 'Happy Chichester', 'screen_name': 'HappyChichester', 'location': 'Columbus, Ohio', 'description': 'Singer, songwriter, multi-instrumental', 'url': 'https://t.co/6EznA88ph7', 'entities': {'url': {'urls': [{'url': 'https://t.co/6EznA88ph7', 'expanded_url': 'https://happychichester.bandcamp.com/music', 'display_url': 'happychichester.bandcamp.com/music', 'indices': [0, 23]}]}, 'description': {'urls': []}}, 'protected': False, 'followers_count': 4884, 'friends_count': 4633, 'listed_count': 95, 'created_at': 'Mon Mar 11 21:16:14 +0000 2013', 'favourites_count': 385435, 'utc_offset': None, 'time_zone': None, 'geo_enabled': False, 'verified': False, 'statuses_count': 114088, 'lang': None, 'contributors_enabled': False, 'is_translator': False, 'is_translation_enabled': False, 'profile_background_color': 'C0DEED', 'profile_background_image_url': 'http://abs.twimg.com/images/themes/theme1/bg.png', 'profile_background_image_url_https': 'https://abs.twimg.com/images/themes/theme1/bg.png', 'profile_background_tile': False, 'profile_image_url': 'http://pbs.twimg.com/profile_images/1254629281566789637/cpvCJlOo_normal.jpg', 'profile_image_url_https': 'https://pbs.twimg.com/profile_images/1254629281566789637/cpvCJlOo_normal.jpg', 'profile_banner_url': 'https://pbs.twimg.com/profile_banners/1260440701/1534748307', 'profile_link_color': '1DA1F2', 'profile_sidebar_border_color': 'C0DEED', 'profile_sidebar_fill_color': 'DDEEF6', 'profile_text_color': '333333', 'profile_use_background_image': True, 'has_extended_profile': False, 'default_profile': True, 'default_profile_image': False, 'following': False, 'follow_request_sent': False, 'notifications': False, 'translator_type': 'none'}, id=1260440701, id_str='1260440701', name='Happy Chichester', screen_name='HappyChichester', location='Columbus, Ohio', description='Singer, songwriter, multi-instrumental', url='https://t.co/6EznA88ph7', entities={'url': {'urls': [{'url': 'https://t.co/6EznA88ph7', 'expanded_url': 'https://happychichester.bandcamp.com/music', 'display_url': 'happychichester.bandcamp.com/music', 'indices': [0, 23]}]}, 'description': {'urls': []}}, protected=False, followers_count=4884, friends_count=4633, listed_count=95, created_at=datetime.datetime(2013, 3, 11, 21, 16, 14), favourites_count=385435, utc_offset=None, time_zone=None, geo_enabled=False, verified=False, statuses_count=114088, lang=None, contributors_enabled=False, is_translator=False, is_translation_enabled=False, profile_background_color='C0DEED', profile_background_image_url='http://abs.twimg.com/images/themes/theme1/bg.png', profile_background_image_url_https='https://abs.twimg.com/images/themes/theme1/bg.png', profile_background_tile=False, profile_image_url='http://pbs.twimg.com/profile_images/1254629281566789637/cpvCJlOo_normal.jpg', profile_image_url_https='https://pbs.twimg.com/profile_images/1254629281566789637/cpvCJlOo_normal.jpg', profile_banner_url='https://pbs.twimg.com/profile_banners/1260440701/1534748307', profile_link_color='1DA1F2', profile_sidebar_border_color='C0DEED', profile_sidebar_fill_color='DDEEF6', profile_text_color='333333', profile_use_background_image=True, has_extended_profile=False, default_profile=True, default_profile_image=False, following=False, follow_request_sent=False, notifications=False, translator_type='none'), user=User(_api=<tweepy.api.API object at 0x000001C06D366EC8>, _json={'id': 1260440701, 'id_str': '1260440701', 'name': 'Happy Chichester', 'screen_name': 'HappyChichester', 'location': 'Columbus, Ohio', 'description': 'Singer, songwriter, multi-instrumental', 'url': 'https://t.co/6EznA88ph7', 'entities': {'url': {'urls': [{'url': 'https://t.co/6EznA88ph7', 'expanded_url': 'https://happychichester.bandcamp.com/music', 'display_url': 'happychichester.bandcamp.com/music', 'indices': [0, 23]}]}, 'description': {'urls': []}}, 'protected': False, 'followers_count': 4884, 'friends_count': 4633, 'listed_count': 95, 'created_at': 'Mon Mar 11 21:16:14 +0000 2013', 'favourites_count': 385435, 'utc_offset': None, 'time_zone': None, 'geo_enabled': False, 'verified': False, 'statuses_count': 114088, 'lang': None, 'contributors_enabled': False, 'is_translator': False, 'is_translation_enabled': False, 'profile_background_color': 'C0DEED', 'profile_background_image_url': 'http://abs.twimg.com/images/themes/theme1/bg.png', 'profile_background_image_url_https': 'https://abs.twimg.com/images/themes/theme1/bg.png', 'profile_background_tile': False, 'profile_image_url': 'http://pbs.twimg.com/profile_images/1254629281566789637/cpvCJlOo_normal.jpg', 'profile_image_url_https': 'https://pbs.twimg.com/profile_images/1254629281566789637/cpvCJlOo_normal.jpg', 'profile_banner_url': 'https://pbs.twimg.com/profile_banners/1260440701/1534748307', 'profile_link_color': '1DA1F2', 'profile_sidebar_border_color': 'C0DEED', 'profile_sidebar_fill_color': 'DDEEF6', 'profile_text_color': '333333', 'profile_use_background_image': True, 'has_extended_profile': False, 'default_profile': True, 'default_profile_image': False, 'following': False, 'follow_request_sent': False, 'notifications': False, 'translator_type': 'none'}, id=1260440701, id_str='1260440701', name='Happy Chichester', screen_name='HappyChichester', location='Columbus, Ohio', description='Singer, songwriter, multi-instrumental', url='https://t.co/6EznA88ph7', entities={'url': {'urls': [{'url': 'https://t.co/6EznA88ph7', 'expanded_url': 'https://happychichester.bandcamp.com/music', 'display_url': 'happychichester.bandcamp.com/music', 'indices': [0, 23]}]}, 'description': {'urls': []}}, protected=False, followers_count=4884, friends_count=4633, listed_count=95, created_at=datetime.datetime(2013, 3, 11, 21, 16, 14), favourites_count=385435, utc_offset=None, time_zone=None, geo_enabled=False, verified=False, statuses_count=114088, lang=None, contributors_enabled=False, is_translator=False, is_translation_enabled=False, profile_background_color='C0DEED', profile_background_image_url='http://abs.twimg.com/images/themes/theme1/bg.png', profile_background_image_url_https='https://abs.twimg.com/images/themes/theme1/bg.png', profile_background_tile=False, profile_image_url='http://pbs.twimg.com/profile_images/1254629281566789637/cpvCJlOo_normal.jpg', profile_image_url_https='https://pbs.twimg.com/profile_images/1254629281566789637/cpvCJlOo_normal.jpg', profile_banner_url='https://pbs.twimg.com/profile_banners/1260440701/1534748307', profile_link_color='1DA1F2', profile_sidebar_border_color='C0DEED', profile_sidebar_fill_color='DDEEF6', profile_text_color='333333', profile_use_background_image=True, has_extended_profile=False, default_profile=True, default_profile_image=False, following=False, follow_request_sent=False, notifications=False, translator_type='none'), geo=None, coordinates=None, place=None, contributors=None, is_quote_status=False, retweet_count=0, favorite_count=0, favorited=False, retweeted=False, possibly_sensitive=False, lang='en')\n",
      "=================================================\n",
      "Status(_api=<tweepy.api.API object at 0x000001C06D366EC8>, _json={'created_at': 'Wed Mar 10 18:21:13 +0000 2021', 'id': 1369714980048801792, 'id_str': '1369714980048801792', 'full_text': 'NOKO Australia Russia Ukraine all publically berate Joe Biden, and the US for such a sham election outcome.\\nWith Biden expect to be laughed at and truly mocked. https://t.co/FwSepaWPNG', 'truncated': False, 'display_text_range': [0, 160], 'entities': {'hashtags': [], 'symbols': [], 'user_mentions': [], 'urls': [{'url': 'https://t.co/FwSepaWPNG', 'expanded_url': 'https://twitter.com/LadyRedWave/status/1369468146428510213', 'display_url': 'twitter.com/LadyRedWave/st…', 'indices': [161, 184]}]}, 'metadata': {'iso_language_code': 'en', 'result_type': 'recent'}, 'source': '<a href=\"http://twitter.com/download/android\" rel=\"nofollow\">Twitter for Android</a>', 'in_reply_to_status_id': None, 'in_reply_to_status_id_str': None, 'in_reply_to_user_id': None, 'in_reply_to_user_id_str': None, 'in_reply_to_screen_name': None, 'user': {'id': 1236415806419935232, 'id_str': '1236415806419935232', 'name': 'Rep.Richard Littlefield', 'screen_name': 'Richard94963415', 'location': 'United States', 'description': 'Republican State Represenative\\ndistrict 3 Laconia \\nplease Visit https://t.co/c5hkQVNVO4 to donate and learn more.', 'url': 'https://t.co/c5hkQVNVO4', 'entities': {'url': {'urls': [{'url': 'https://t.co/c5hkQVNVO4', 'expanded_url': 'http://Littlefieldfornh.com', 'display_url': 'Littlefieldfornh.com', 'indices': [0, 23]}]}, 'description': {'urls': [{'url': 'https://t.co/c5hkQVNVO4', 'expanded_url': 'http://Littlefieldfornh.com', 'display_url': 'Littlefieldfornh.com', 'indices': [64, 87]}]}}, 'protected': False, 'followers_count': 873, 'friends_count': 1880, 'listed_count': 6, 'created_at': 'Sat Mar 07 22:18:19 +0000 2020', 'favourites_count': 11409, 'utc_offset': None, 'time_zone': None, 'geo_enabled': True, 'verified': False, 'statuses_count': 6921, 'lang': None, 'contributors_enabled': False, 'is_translator': False, 'is_translation_enabled': False, 'profile_background_color': 'F5F8FA', 'profile_background_image_url': None, 'profile_background_image_url_https': None, 'profile_background_tile': False, 'profile_image_url': 'http://pbs.twimg.com/profile_images/1315363076074606593/5Ne7xYEb_normal.jpg', 'profile_image_url_https': 'https://pbs.twimg.com/profile_images/1315363076074606593/5Ne7xYEb_normal.jpg', 'profile_banner_url': 'https://pbs.twimg.com/profile_banners/1236415806419935232/1614651459', 'profile_link_color': '1DA1F2', 'profile_sidebar_border_color': 'C0DEED', 'profile_sidebar_fill_color': 'DDEEF6', 'profile_text_color': '333333', 'profile_use_background_image': True, 'has_extended_profile': True, 'default_profile': True, 'default_profile_image': False, 'following': False, 'follow_request_sent': False, 'notifications': False, 'translator_type': 'none'}, 'geo': None, 'coordinates': None, 'place': {'id': '7ff868efb1aa7149', 'url': 'https://api.twitter.com/1.1/geo/id/7ff868efb1aa7149.json', 'place_type': 'city', 'name': 'Laconia', 'full_name': 'Laconia, NH', 'country_code': 'US', 'country': 'United States', 'contained_within': [], 'bounding_box': {'type': 'Polygon', 'coordinates': [[[-71.5267628, 43.477015], [-71.429442, 43.477015], [-71.429442, 43.61032], [-71.5267628, 43.61032]]]}, 'attributes': {}}, 'contributors': None, 'is_quote_status': True, 'retweet_count': 0, 'favorite_count': 0, 'favorited': False, 'retweeted': False, 'possibly_sensitive': False, 'lang': 'en'}, created_at=datetime.datetime(2021, 3, 10, 18, 21, 13), id=1369714980048801792, id_str='1369714980048801792', full_text='NOKO Australia Russia Ukraine all publically berate Joe Biden, and the US for such a sham election outcome.\\nWith Biden expect to be laughed at and truly mocked. https://t.co/FwSepaWPNG', truncated=False, display_text_range=[0, 160], entities={'hashtags': [], 'symbols': [], 'user_mentions': [], 'urls': [{'url': 'https://t.co/FwSepaWPNG', 'expanded_url': 'https://twitter.com/LadyRedWave/status/1369468146428510213', 'display_url': 'twitter.com/LadyRedWave/st…', 'indices': [161, 184]}]}, metadata={'iso_language_code': 'en', 'result_type': 'recent'}, source='Twitter for Android', source_url='http://twitter.com/download/android', in_reply_to_status_id=None, in_reply_to_status_id_str=None, in_reply_to_user_id=None, in_reply_to_user_id_str=None, in_reply_to_screen_name=None, author=User(_api=<tweepy.api.API object at 0x000001C06D366EC8>, _json={'id': 1236415806419935232, 'id_str': '1236415806419935232', 'name': 'Rep.Richard Littlefield', 'screen_name': 'Richard94963415', 'location': 'United States', 'description': 'Republican State Represenative\\ndistrict 3 Laconia \\nplease Visit https://t.co/c5hkQVNVO4 to donate and learn more.', 'url': 'https://t.co/c5hkQVNVO4', 'entities': {'url': {'urls': [{'url': 'https://t.co/c5hkQVNVO4', 'expanded_url': 'http://Littlefieldfornh.com', 'display_url': 'Littlefieldfornh.com', 'indices': [0, 23]}]}, 'description': {'urls': [{'url': 'https://t.co/c5hkQVNVO4', 'expanded_url': 'http://Littlefieldfornh.com', 'display_url': 'Littlefieldfornh.com', 'indices': [64, 87]}]}}, 'protected': False, 'followers_count': 873, 'friends_count': 1880, 'listed_count': 6, 'created_at': 'Sat Mar 07 22:18:19 +0000 2020', 'favourites_count': 11409, 'utc_offset': None, 'time_zone': None, 'geo_enabled': True, 'verified': False, 'statuses_count': 6921, 'lang': None, 'contributors_enabled': False, 'is_translator': False, 'is_translation_enabled': False, 'profile_background_color': 'F5F8FA', 'profile_background_image_url': None, 'profile_background_image_url_https': None, 'profile_background_tile': False, 'profile_image_url': 'http://pbs.twimg.com/profile_images/1315363076074606593/5Ne7xYEb_normal.jpg', 'profile_image_url_https': 'https://pbs.twimg.com/profile_images/1315363076074606593/5Ne7xYEb_normal.jpg', 'profile_banner_url': 'https://pbs.twimg.com/profile_banners/1236415806419935232/1614651459', 'profile_link_color': '1DA1F2', 'profile_sidebar_border_color': 'C0DEED', 'profile_sidebar_fill_color': 'DDEEF6', 'profile_text_color': '333333', 'profile_use_background_image': True, 'has_extended_profile': True, 'default_profile': True, 'default_profile_image': False, 'following': False, 'follow_request_sent': False, 'notifications': False, 'translator_type': 'none'}, id=1236415806419935232, id_str='1236415806419935232', name='Rep.Richard Littlefield', screen_name='Richard94963415', location='United States', description='Republican State Represenative\\ndistrict 3 Laconia \\nplease Visit https://t.co/c5hkQVNVO4 to donate and learn more.', url='https://t.co/c5hkQVNVO4', entities={'url': {'urls': [{'url': 'https://t.co/c5hkQVNVO4', 'expanded_url': 'http://Littlefieldfornh.com', 'display_url': 'Littlefieldfornh.com', 'indices': [0, 23]}]}, 'description': {'urls': [{'url': 'https://t.co/c5hkQVNVO4', 'expanded_url': 'http://Littlefieldfornh.com', 'display_url': 'Littlefieldfornh.com', 'indices': [64, 87]}]}}, protected=False, followers_count=873, friends_count=1880, listed_count=6, created_at=datetime.datetime(2020, 3, 7, 22, 18, 19), favourites_count=11409, utc_offset=None, time_zone=None, geo_enabled=True, verified=False, statuses_count=6921, lang=None, contributors_enabled=False, is_translator=False, is_translation_enabled=False, profile_background_color='F5F8FA', profile_background_image_url=None, profile_background_image_url_https=None, profile_background_tile=False, profile_image_url='http://pbs.twimg.com/profile_images/1315363076074606593/5Ne7xYEb_normal.jpg', profile_image_url_https='https://pbs.twimg.com/profile_images/1315363076074606593/5Ne7xYEb_normal.jpg', profile_banner_url='https://pbs.twimg.com/profile_banners/1236415806419935232/1614651459', profile_link_color='1DA1F2', profile_sidebar_border_color='C0DEED', profile_sidebar_fill_color='DDEEF6', profile_text_color='333333', profile_use_background_image=True, has_extended_profile=True, default_profile=True, default_profile_image=False, following=False, follow_request_sent=False, notifications=False, translator_type='none'), user=User(_api=<tweepy.api.API object at 0x000001C06D366EC8>, _json={'id': 1236415806419935232, 'id_str': '1236415806419935232', 'name': 'Rep.Richard Littlefield', 'screen_name': 'Richard94963415', 'location': 'United States', 'description': 'Republican State Represenative\\ndistrict 3 Laconia \\nplease Visit https://t.co/c5hkQVNVO4 to donate and learn more.', 'url': 'https://t.co/c5hkQVNVO4', 'entities': {'url': {'urls': [{'url': 'https://t.co/c5hkQVNVO4', 'expanded_url': 'http://Littlefieldfornh.com', 'display_url': 'Littlefieldfornh.com', 'indices': [0, 23]}]}, 'description': {'urls': [{'url': 'https://t.co/c5hkQVNVO4', 'expanded_url': 'http://Littlefieldfornh.com', 'display_url': 'Littlefieldfornh.com', 'indices': [64, 87]}]}}, 'protected': False, 'followers_count': 873, 'friends_count': 1880, 'listed_count': 6, 'created_at': 'Sat Mar 07 22:18:19 +0000 2020', 'favourites_count': 11409, 'utc_offset': None, 'time_zone': None, 'geo_enabled': True, 'verified': False, 'statuses_count': 6921, 'lang': None, 'contributors_enabled': False, 'is_translator': False, 'is_translation_enabled': False, 'profile_background_color': 'F5F8FA', 'profile_background_image_url': None, 'profile_background_image_url_https': None, 'profile_background_tile': False, 'profile_image_url': 'http://pbs.twimg.com/profile_images/1315363076074606593/5Ne7xYEb_normal.jpg', 'profile_image_url_https': 'https://pbs.twimg.com/profile_images/1315363076074606593/5Ne7xYEb_normal.jpg', 'profile_banner_url': 'https://pbs.twimg.com/profile_banners/1236415806419935232/1614651459', 'profile_link_color': '1DA1F2', 'profile_sidebar_border_color': 'C0DEED', 'profile_sidebar_fill_color': 'DDEEF6', 'profile_text_color': '333333', 'profile_use_background_image': True, 'has_extended_profile': True, 'default_profile': True, 'default_profile_image': False, 'following': False, 'follow_request_sent': False, 'notifications': False, 'translator_type': 'none'}, id=1236415806419935232, id_str='1236415806419935232', name='Rep.Richard Littlefield', screen_name='Richard94963415', location='United States', description='Republican State Represenative\\ndistrict 3 Laconia \\nplease Visit https://t.co/c5hkQVNVO4 to donate and learn more.', url='https://t.co/c5hkQVNVO4', entities={'url': {'urls': [{'url': 'https://t.co/c5hkQVNVO4', 'expanded_url': 'http://Littlefieldfornh.com', 'display_url': 'Littlefieldfornh.com', 'indices': [0, 23]}]}, 'description': {'urls': [{'url': 'https://t.co/c5hkQVNVO4', 'expanded_url': 'http://Littlefieldfornh.com', 'display_url': 'Littlefieldfornh.com', 'indices': [64, 87]}]}}, protected=False, followers_count=873, friends_count=1880, listed_count=6, created_at=datetime.datetime(2020, 3, 7, 22, 18, 19), favourites_count=11409, utc_offset=None, time_zone=None, geo_enabled=True, verified=False, statuses_count=6921, lang=None, contributors_enabled=False, is_translator=False, is_translation_enabled=False, profile_background_color='F5F8FA', profile_background_image_url=None, profile_background_image_url_https=None, profile_background_tile=False, profile_image_url='http://pbs.twimg.com/profile_images/1315363076074606593/5Ne7xYEb_normal.jpg', profile_image_url_https='https://pbs.twimg.com/profile_images/1315363076074606593/5Ne7xYEb_normal.jpg', profile_banner_url='https://pbs.twimg.com/profile_banners/1236415806419935232/1614651459', profile_link_color='1DA1F2', profile_sidebar_border_color='C0DEED', profile_sidebar_fill_color='DDEEF6', profile_text_color='333333', profile_use_background_image=True, has_extended_profile=True, default_profile=True, default_profile_image=False, following=False, follow_request_sent=False, notifications=False, translator_type='none'), geo=None, coordinates=None, place=Place(_api=<tweepy.api.API object at 0x000001C06D366EC8>, id='7ff868efb1aa7149', url='https://api.twitter.com/1.1/geo/id/7ff868efb1aa7149.json', place_type='city', name='Laconia', full_name='Laconia, NH', country_code='US', country='United States', contained_within=[], bounding_box=BoundingBox(_api=<tweepy.api.API object at 0x000001C06D366EC8>, type='Polygon', coordinates=[[[-71.5267628, 43.477015], [-71.429442, 43.477015], [-71.429442, 43.61032], [-71.5267628, 43.61032]]]), attributes={}), contributors=None, is_quote_status=True, retweet_count=0, favorite_count=0, favorited=False, retweeted=False, possibly_sensitive=False, lang='en')\n",
      "=================================================\n",
      "Status(_api=<tweepy.api.API object at 0x000001C06D366EC8>, _json={'created_at': 'Wed Mar 10 17:40:22 +0000 2021', 'id': 1369704698702336000, 'id_str': '1369704698702336000', 'full_text': \"If they can install Joe Biden they can install anyone.\\n\\nWith an election rigging machine like they have why couldn't they install president Xi as the president of the US?\\n\\nFor all we know he's covertly running the country anyway.. https://t.co/yQLIta87yF\", 'truncated': False, 'display_text_range': [0, 230], 'entities': {'hashtags': [], 'symbols': [], 'user_mentions': [], 'urls': [{'url': 'https://t.co/yQLIta87yF', 'expanded_url': 'https://twitter.com/DonMcglashen/status/1369701710084640771', 'display_url': 'twitter.com/DonMcglashen/s…', 'indices': [231, 254]}]}, 'metadata': {'iso_language_code': 'en', 'result_type': 'recent'}, 'source': '<a href=\"http://twitter.com/download/android\" rel=\"nofollow\">Twitter for Android</a>', 'in_reply_to_status_id': None, 'in_reply_to_status_id_str': None, 'in_reply_to_user_id': None, 'in_reply_to_user_id_str': None, 'in_reply_to_screen_name': None, 'user': {'id': 882092993481768960, 'id_str': '882092993481768960', 'name': 'Don McGlashen', 'screen_name': 'DonMcglashen', 'location': 'Michigan, USA', 'description': 'Great spirits often encounter violent opposition from mediocre minds. Einstein.\\nOne nation under God\\nConstitution\\nDeclaration of Independence', 'url': None, 'entities': {'description': {'urls': []}}, 'protected': False, 'followers_count': 2689, 'friends_count': 3545, 'listed_count': 3, 'created_at': 'Tue Jul 04 04:25:32 +0000 2017', 'favourites_count': 209117, 'utc_offset': None, 'time_zone': None, 'geo_enabled': False, 'verified': False, 'statuses_count': 181459, 'lang': None, 'contributors_enabled': False, 'is_translator': False, 'is_translation_enabled': False, 'profile_background_color': 'F5F8FA', 'profile_background_image_url': None, 'profile_background_image_url_https': None, 'profile_background_tile': False, 'profile_image_url': 'http://pbs.twimg.com/profile_images/883157790080073728/vBNt44IB_normal.jpg', 'profile_image_url_https': 'https://pbs.twimg.com/profile_images/883157790080073728/vBNt44IB_normal.jpg', 'profile_banner_url': 'https://pbs.twimg.com/profile_banners/882092993481768960/1538741424', 'profile_link_color': '1DA1F2', 'profile_sidebar_border_color': 'C0DEED', 'profile_sidebar_fill_color': 'DDEEF6', 'profile_text_color': '333333', 'profile_use_background_image': True, 'has_extended_profile': False, 'default_profile': True, 'default_profile_image': False, 'following': False, 'follow_request_sent': False, 'notifications': False, 'translator_type': 'none'}, 'geo': None, 'coordinates': None, 'place': None, 'contributors': None, 'is_quote_status': True, 'quoted_status_id': 1369701710084640771, 'quoted_status_id_str': '1369701710084640771', 'quoted_status': {'created_at': 'Wed Mar 10 17:28:30 +0000 2021', 'id': 1369701710084640771, 'id_str': '1369701710084640771', 'full_text': '1/2 \\n\\nAgain I ask.\\n\\nDemocrats most recent presidents were two Illigitimati Manchurian presidents.\\n\\nWill president XI step out from behind the curtain and be their Illigitimati presidential candidate in 2024?\\n\\nWill they officialy make him the Democrat Party nominee?', 'truncated': False, 'display_text_range': [0, 265], 'entities': {'hashtags': [], 'symbols': [], 'user_mentions': [], 'urls': []}, 'metadata': {'iso_language_code': 'en', 'result_type': 'recent'}, 'source': '<a href=\"http://twitter.com/download/android\" rel=\"nofollow\">Twitter for Android</a>', 'in_reply_to_status_id': None, 'in_reply_to_status_id_str': None, 'in_reply_to_user_id': None, 'in_reply_to_user_id_str': None, 'in_reply_to_screen_name': None, 'user': {'id': 882092993481768960, 'id_str': '882092993481768960', 'name': 'Don McGlashen', 'screen_name': 'DonMcglashen', 'location': 'Michigan, USA', 'description': 'Great spirits often encounter violent opposition from mediocre minds. Einstein.\\nOne nation under God\\nConstitution\\nDeclaration of Independence', 'url': None, 'entities': {'description': {'urls': []}}, 'protected': False, 'followers_count': 2689, 'friends_count': 3545, 'listed_count': 3, 'created_at': 'Tue Jul 04 04:25:32 +0000 2017', 'favourites_count': 209117, 'utc_offset': None, 'time_zone': None, 'geo_enabled': False, 'verified': False, 'statuses_count': 181459, 'lang': None, 'contributors_enabled': False, 'is_translator': False, 'is_translation_enabled': False, 'profile_background_color': 'F5F8FA', 'profile_background_image_url': None, 'profile_background_image_url_https': None, 'profile_background_tile': False, 'profile_image_url': 'http://pbs.twimg.com/profile_images/883157790080073728/vBNt44IB_normal.jpg', 'profile_image_url_https': 'https://pbs.twimg.com/profile_images/883157790080073728/vBNt44IB_normal.jpg', 'profile_banner_url': 'https://pbs.twimg.com/profile_banners/882092993481768960/1538741424', 'profile_link_color': '1DA1F2', 'profile_sidebar_border_color': 'C0DEED', 'profile_sidebar_fill_color': 'DDEEF6', 'profile_text_color': '333333', 'profile_use_background_image': True, 'has_extended_profile': False, 'default_profile': True, 'default_profile_image': False, 'following': False, 'follow_request_sent': False, 'notifications': False, 'translator_type': 'none'}, 'geo': None, 'coordinates': None, 'place': None, 'contributors': None, 'is_quote_status': False, 'retweet_count': 0, 'favorite_count': 0, 'favorited': False, 'retweeted': False, 'lang': 'en'}, 'retweet_count': 0, 'favorite_count': 1, 'favorited': False, 'retweeted': False, 'possibly_sensitive': False, 'lang': 'en'}, created_at=datetime.datetime(2021, 3, 10, 17, 40, 22), id=1369704698702336000, id_str='1369704698702336000', full_text=\"If they can install Joe Biden they can install anyone.\\n\\nWith an election rigging machine like they have why couldn't they install president Xi as the president of the US?\\n\\nFor all we know he's covertly running the country anyway.. https://t.co/yQLIta87yF\", truncated=False, display_text_range=[0, 230], entities={'hashtags': [], 'symbols': [], 'user_mentions': [], 'urls': [{'url': 'https://t.co/yQLIta87yF', 'expanded_url': 'https://twitter.com/DonMcglashen/status/1369701710084640771', 'display_url': 'twitter.com/DonMcglashen/s…', 'indices': [231, 254]}]}, metadata={'iso_language_code': 'en', 'result_type': 'recent'}, source='Twitter for Android', source_url='http://twitter.com/download/android', in_reply_to_status_id=None, in_reply_to_status_id_str=None, in_reply_to_user_id=None, in_reply_to_user_id_str=None, in_reply_to_screen_name=None, author=User(_api=<tweepy.api.API object at 0x000001C06D366EC8>, _json={'id': 882092993481768960, 'id_str': '882092993481768960', 'name': 'Don McGlashen', 'screen_name': 'DonMcglashen', 'location': 'Michigan, USA', 'description': 'Great spirits often encounter violent opposition from mediocre minds. Einstein.\\nOne nation under God\\nConstitution\\nDeclaration of Independence', 'url': None, 'entities': {'description': {'urls': []}}, 'protected': False, 'followers_count': 2689, 'friends_count': 3545, 'listed_count': 3, 'created_at': 'Tue Jul 04 04:25:32 +0000 2017', 'favourites_count': 209117, 'utc_offset': None, 'time_zone': None, 'geo_enabled': False, 'verified': False, 'statuses_count': 181459, 'lang': None, 'contributors_enabled': False, 'is_translator': False, 'is_translation_enabled': False, 'profile_background_color': 'F5F8FA', 'profile_background_image_url': None, 'profile_background_image_url_https': None, 'profile_background_tile': False, 'profile_image_url': 'http://pbs.twimg.com/profile_images/883157790080073728/vBNt44IB_normal.jpg', 'profile_image_url_https': 'https://pbs.twimg.com/profile_images/883157790080073728/vBNt44IB_normal.jpg', 'profile_banner_url': 'https://pbs.twimg.com/profile_banners/882092993481768960/1538741424', 'profile_link_color': '1DA1F2', 'profile_sidebar_border_color': 'C0DEED', 'profile_sidebar_fill_color': 'DDEEF6', 'profile_text_color': '333333', 'profile_use_background_image': True, 'has_extended_profile': False, 'default_profile': True, 'default_profile_image': False, 'following': False, 'follow_request_sent': False, 'notifications': False, 'translator_type': 'none'}, id=882092993481768960, id_str='882092993481768960', name='Don McGlashen', screen_name='DonMcglashen', location='Michigan, USA', description='Great spirits often encounter violent opposition from mediocre minds. Einstein.\\nOne nation under God\\nConstitution\\nDeclaration of Independence', url=None, entities={'description': {'urls': []}}, protected=False, followers_count=2689, friends_count=3545, listed_count=3, created_at=datetime.datetime(2017, 7, 4, 4, 25, 32), favourites_count=209117, utc_offset=None, time_zone=None, geo_enabled=False, verified=False, statuses_count=181459, lang=None, contributors_enabled=False, is_translator=False, is_translation_enabled=False, profile_background_color='F5F8FA', profile_background_image_url=None, profile_background_image_url_https=None, profile_background_tile=False, profile_image_url='http://pbs.twimg.com/profile_images/883157790080073728/vBNt44IB_normal.jpg', profile_image_url_https='https://pbs.twimg.com/profile_images/883157790080073728/vBNt44IB_normal.jpg', profile_banner_url='https://pbs.twimg.com/profile_banners/882092993481768960/1538741424', profile_link_color='1DA1F2', profile_sidebar_border_color='C0DEED', profile_sidebar_fill_color='DDEEF6', profile_text_color='333333', profile_use_background_image=True, has_extended_profile=False, default_profile=True, default_profile_image=False, following=False, follow_request_sent=False, notifications=False, translator_type='none'), user=User(_api=<tweepy.api.API object at 0x000001C06D366EC8>, _json={'id': 882092993481768960, 'id_str': '882092993481768960', 'name': 'Don McGlashen', 'screen_name': 'DonMcglashen', 'location': 'Michigan, USA', 'description': 'Great spirits often encounter violent opposition from mediocre minds. Einstein.\\nOne nation under God\\nConstitution\\nDeclaration of Independence', 'url': None, 'entities': {'description': {'urls': []}}, 'protected': False, 'followers_count': 2689, 'friends_count': 3545, 'listed_count': 3, 'created_at': 'Tue Jul 04 04:25:32 +0000 2017', 'favourites_count': 209117, 'utc_offset': None, 'time_zone': None, 'geo_enabled': False, 'verified': False, 'statuses_count': 181459, 'lang': None, 'contributors_enabled': False, 'is_translator': False, 'is_translation_enabled': False, 'profile_background_color': 'F5F8FA', 'profile_background_image_url': None, 'profile_background_image_url_https': None, 'profile_background_tile': False, 'profile_image_url': 'http://pbs.twimg.com/profile_images/883157790080073728/vBNt44IB_normal.jpg', 'profile_image_url_https': 'https://pbs.twimg.com/profile_images/883157790080073728/vBNt44IB_normal.jpg', 'profile_banner_url': 'https://pbs.twimg.com/profile_banners/882092993481768960/1538741424', 'profile_link_color': '1DA1F2', 'profile_sidebar_border_color': 'C0DEED', 'profile_sidebar_fill_color': 'DDEEF6', 'profile_text_color': '333333', 'profile_use_background_image': True, 'has_extended_profile': False, 'default_profile': True, 'default_profile_image': False, 'following': False, 'follow_request_sent': False, 'notifications': False, 'translator_type': 'none'}, id=882092993481768960, id_str='882092993481768960', name='Don McGlashen', screen_name='DonMcglashen', location='Michigan, USA', description='Great spirits often encounter violent opposition from mediocre minds. Einstein.\\nOne nation under God\\nConstitution\\nDeclaration of Independence', url=None, entities={'description': {'urls': []}}, protected=False, followers_count=2689, friends_count=3545, listed_count=3, created_at=datetime.datetime(2017, 7, 4, 4, 25, 32), favourites_count=209117, utc_offset=None, time_zone=None, geo_enabled=False, verified=False, statuses_count=181459, lang=None, contributors_enabled=False, is_translator=False, is_translation_enabled=False, profile_background_color='F5F8FA', profile_background_image_url=None, profile_background_image_url_https=None, profile_background_tile=False, profile_image_url='http://pbs.twimg.com/profile_images/883157790080073728/vBNt44IB_normal.jpg', profile_image_url_https='https://pbs.twimg.com/profile_images/883157790080073728/vBNt44IB_normal.jpg', profile_banner_url='https://pbs.twimg.com/profile_banners/882092993481768960/1538741424', profile_link_color='1DA1F2', profile_sidebar_border_color='C0DEED', profile_sidebar_fill_color='DDEEF6', profile_text_color='333333', profile_use_background_image=True, has_extended_profile=False, default_profile=True, default_profile_image=False, following=False, follow_request_sent=False, notifications=False, translator_type='none'), geo=None, coordinates=None, place=None, contributors=None, is_quote_status=True, quoted_status_id=1369701710084640771, quoted_status_id_str='1369701710084640771', quoted_status=Status(_api=<tweepy.api.API object at 0x000001C06D366EC8>, _json={'created_at': 'Wed Mar 10 17:28:30 +0000 2021', 'id': 1369701710084640771, 'id_str': '1369701710084640771', 'full_text': '1/2 \\n\\nAgain I ask.\\n\\nDemocrats most recent presidents were two Illigitimati Manchurian presidents.\\n\\nWill president XI step out from behind the curtain and be their Illigitimati presidential candidate in 2024?\\n\\nWill they officialy make him the Democrat Party nominee?', 'truncated': False, 'display_text_range': [0, 265], 'entities': {'hashtags': [], 'symbols': [], 'user_mentions': [], 'urls': []}, 'metadata': {'iso_language_code': 'en', 'result_type': 'recent'}, 'source': '<a href=\"http://twitter.com/download/android\" rel=\"nofollow\">Twitter for Android</a>', 'in_reply_to_status_id': None, 'in_reply_to_status_id_str': None, 'in_reply_to_user_id': None, 'in_reply_to_user_id_str': None, 'in_reply_to_screen_name': None, 'user': {'id': 882092993481768960, 'id_str': '882092993481768960', 'name': 'Don McGlashen', 'screen_name': 'DonMcglashen', 'location': 'Michigan, USA', 'description': 'Great spirits often encounter violent opposition from mediocre minds. Einstein.\\nOne nation under God\\nConstitution\\nDeclaration of Independence', 'url': None, 'entities': {'description': {'urls': []}}, 'protected': False, 'followers_count': 2689, 'friends_count': 3545, 'listed_count': 3, 'created_at': 'Tue Jul 04 04:25:32 +0000 2017', 'favourites_count': 209117, 'utc_offset': None, 'time_zone': None, 'geo_enabled': False, 'verified': False, 'statuses_count': 181459, 'lang': None, 'contributors_enabled': False, 'is_translator': False, 'is_translation_enabled': False, 'profile_background_color': 'F5F8FA', 'profile_background_image_url': None, 'profile_background_image_url_https': None, 'profile_background_tile': False, 'profile_image_url': 'http://pbs.twimg.com/profile_images/883157790080073728/vBNt44IB_normal.jpg', 'profile_image_url_https': 'https://pbs.twimg.com/profile_images/883157790080073728/vBNt44IB_normal.jpg', 'profile_banner_url': 'https://pbs.twimg.com/profile_banners/882092993481768960/1538741424', 'profile_link_color': '1DA1F2', 'profile_sidebar_border_color': 'C0DEED', 'profile_sidebar_fill_color': 'DDEEF6', 'profile_text_color': '333333', 'profile_use_background_image': True, 'has_extended_profile': False, 'default_profile': True, 'default_profile_image': False, 'following': False, 'follow_request_sent': False, 'notifications': False, 'translator_type': 'none'}, 'geo': None, 'coordinates': None, 'place': None, 'contributors': None, 'is_quote_status': False, 'retweet_count': 0, 'favorite_count': 0, 'favorited': False, 'retweeted': False, 'lang': 'en'}, created_at=datetime.datetime(2021, 3, 10, 17, 28, 30), id=1369701710084640771, id_str='1369701710084640771', full_text='1/2 \\n\\nAgain I ask.\\n\\nDemocrats most recent presidents were two Illigitimati Manchurian presidents.\\n\\nWill president XI step out from behind the curtain and be their Illigitimati presidential candidate in 2024?\\n\\nWill they officialy make him the Democrat Party nominee?', truncated=False, display_text_range=[0, 265], entities={'hashtags': [], 'symbols': [], 'user_mentions': [], 'urls': []}, metadata={'iso_language_code': 'en', 'result_type': 'recent'}, source='Twitter for Android', source_url='http://twitter.com/download/android', in_reply_to_status_id=None, in_reply_to_status_id_str=None, in_reply_to_user_id=None, in_reply_to_user_id_str=None, in_reply_to_screen_name=None, author=User(_api=<tweepy.api.API object at 0x000001C06D366EC8>, _json={'id': 882092993481768960, 'id_str': '882092993481768960', 'name': 'Don McGlashen', 'screen_name': 'DonMcglashen', 'location': 'Michigan, USA', 'description': 'Great spirits often encounter violent opposition from mediocre minds. Einstein.\\nOne nation under God\\nConstitution\\nDeclaration of Independence', 'url': None, 'entities': {'description': {'urls': []}}, 'protected': False, 'followers_count': 2689, 'friends_count': 3545, 'listed_count': 3, 'created_at': 'Tue Jul 04 04:25:32 +0000 2017', 'favourites_count': 209117, 'utc_offset': None, 'time_zone': None, 'geo_enabled': False, 'verified': False, 'statuses_count': 181459, 'lang': None, 'contributors_enabled': False, 'is_translator': False, 'is_translation_enabled': False, 'profile_background_color': 'F5F8FA', 'profile_background_image_url': None, 'profile_background_image_url_https': None, 'profile_background_tile': False, 'profile_image_url': 'http://pbs.twimg.com/profile_images/883157790080073728/vBNt44IB_normal.jpg', 'profile_image_url_https': 'https://pbs.twimg.com/profile_images/883157790080073728/vBNt44IB_normal.jpg', 'profile_banner_url': 'https://pbs.twimg.com/profile_banners/882092993481768960/1538741424', 'profile_link_color': '1DA1F2', 'profile_sidebar_border_color': 'C0DEED', 'profile_sidebar_fill_color': 'DDEEF6', 'profile_text_color': '333333', 'profile_use_background_image': True, 'has_extended_profile': False, 'default_profile': True, 'default_profile_image': False, 'following': False, 'follow_request_sent': False, 'notifications': False, 'translator_type': 'none'}, id=882092993481768960, id_str='882092993481768960', name='Don McGlashen', screen_name='DonMcglashen', location='Michigan, USA', description='Great spirits often encounter violent opposition from mediocre minds. Einstein.\\nOne nation under God\\nConstitution\\nDeclaration of Independence', url=None, entities={'description': {'urls': []}}, protected=False, followers_count=2689, friends_count=3545, listed_count=3, created_at=datetime.datetime(2017, 7, 4, 4, 25, 32), favourites_count=209117, utc_offset=None, time_zone=None, geo_enabled=False, verified=False, statuses_count=181459, lang=None, contributors_enabled=False, is_translator=False, is_translation_enabled=False, profile_background_color='F5F8FA', profile_background_image_url=None, profile_background_image_url_https=None, profile_background_tile=False, profile_image_url='http://pbs.twimg.com/profile_images/883157790080073728/vBNt44IB_normal.jpg', profile_image_url_https='https://pbs.twimg.com/profile_images/883157790080073728/vBNt44IB_normal.jpg', profile_banner_url='https://pbs.twimg.com/profile_banners/882092993481768960/1538741424', profile_link_color='1DA1F2', profile_sidebar_border_color='C0DEED', profile_sidebar_fill_color='DDEEF6', profile_text_color='333333', profile_use_background_image=True, has_extended_profile=False, default_profile=True, default_profile_image=False, following=False, follow_request_sent=False, notifications=False, translator_type='none'), user=User(_api=<tweepy.api.API object at 0x000001C06D366EC8>, _json={'id': 882092993481768960, 'id_str': '882092993481768960', 'name': 'Don McGlashen', 'screen_name': 'DonMcglashen', 'location': 'Michigan, USA', 'description': 'Great spirits often encounter violent opposition from mediocre minds. Einstein.\\nOne nation under God\\nConstitution\\nDeclaration of Independence', 'url': None, 'entities': {'description': {'urls': []}}, 'protected': False, 'followers_count': 2689, 'friends_count': 3545, 'listed_count': 3, 'created_at': 'Tue Jul 04 04:25:32 +0000 2017', 'favourites_count': 209117, 'utc_offset': None, 'time_zone': None, 'geo_enabled': False, 'verified': False, 'statuses_count': 181459, 'lang': None, 'contributors_enabled': False, 'is_translator': False, 'is_translation_enabled': False, 'profile_background_color': 'F5F8FA', 'profile_background_image_url': None, 'profile_background_image_url_https': None, 'profile_background_tile': False, 'profile_image_url': 'http://pbs.twimg.com/profile_images/883157790080073728/vBNt44IB_normal.jpg', 'profile_image_url_https': 'https://pbs.twimg.com/profile_images/883157790080073728/vBNt44IB_normal.jpg', 'profile_banner_url': 'https://pbs.twimg.com/profile_banners/882092993481768960/1538741424', 'profile_link_color': '1DA1F2', 'profile_sidebar_border_color': 'C0DEED', 'profile_sidebar_fill_color': 'DDEEF6', 'profile_text_color': '333333', 'profile_use_background_image': True, 'has_extended_profile': False, 'default_profile': True, 'default_profile_image': False, 'following': False, 'follow_request_sent': False, 'notifications': False, 'translator_type': 'none'}, id=882092993481768960, id_str='882092993481768960', name='Don McGlashen', screen_name='DonMcglashen', location='Michigan, USA', description='Great spirits often encounter violent opposition from mediocre minds. Einstein.\\nOne nation under God\\nConstitution\\nDeclaration of Independence', url=None, entities={'description': {'urls': []}}, protected=False, followers_count=2689, friends_count=3545, listed_count=3, created_at=datetime.datetime(2017, 7, 4, 4, 25, 32), favourites_count=209117, utc_offset=None, time_zone=None, geo_enabled=False, verified=False, statuses_count=181459, lang=None, contributors_enabled=False, is_translator=False, is_translation_enabled=False, profile_background_color='F5F8FA', profile_background_image_url=None, profile_background_image_url_https=None, profile_background_tile=False, profile_image_url='http://pbs.twimg.com/profile_images/883157790080073728/vBNt44IB_normal.jpg', profile_image_url_https='https://pbs.twimg.com/profile_images/883157790080073728/vBNt44IB_normal.jpg', profile_banner_url='https://pbs.twimg.com/profile_banners/882092993481768960/1538741424', profile_link_color='1DA1F2', profile_sidebar_border_color='C0DEED', profile_sidebar_fill_color='DDEEF6', profile_text_color='333333', profile_use_background_image=True, has_extended_profile=False, default_profile=True, default_profile_image=False, following=False, follow_request_sent=False, notifications=False, translator_type='none'), geo=None, coordinates=None, place=None, contributors=None, is_quote_status=False, retweet_count=0, favorite_count=0, favorited=False, retweeted=False, lang='en'), retweet_count=0, favorite_count=1, favorited=False, retweeted=False, possibly_sensitive=False, lang='en')\n",
      "=================================================\n",
      "Status(_api=<tweepy.api.API object at 0x000001C06D366EC8>, _json={'created_at': 'Wed Mar 10 16:51:17 +0000 2021', 'id': 1369692345906716672, 'id_str': '1369692345906716672', 'full_text': '@splicedenergy @RedemptionUBI @ProudSocialist @JoeBiden Plus:\\n\\nYeah, all lies. Notice how fast he ran away from the \"most progressive platform ever\"? M4A, $15 minimum, no more kids in cages--hahaha.\\nhttps://t.co/7w4vpOCJuu', 'truncated': False, 'display_text_range': [56, 222], 'entities': {'hashtags': [], 'symbols': [], 'user_mentions': [{'screen_name': 'splicedenergy', 'name': 'Natilie Roof', 'id': 95338782, 'id_str': '95338782', 'indices': [0, 14]}, {'screen_name': 'RedemptionUBI', 'name': 'M4AUBICANCELRENT', 'id': 1290135807899185152, 'id_str': '1290135807899185152', 'indices': [15, 29]}, {'screen_name': 'ProudSocialist', 'name': 'Ryan Knight ☭🌹', 'id': 755057897583804416, 'id_str': '755057897583804416', 'indices': [30, 45]}, {'screen_name': 'JoeBiden', 'name': 'Joe Biden', 'id': 939091, 'id_str': '939091', 'indices': [46, 55]}], 'urls': [{'url': 'https://t.co/7w4vpOCJuu', 'expanded_url': 'https://inews.co.uk/news/analysis/joe-biden-policy-platform-democrats-progressive-us-presidential-election-candidate-741678', 'display_url': 'inews.co.uk/news/analysis/…', 'indices': [199, 222]}]}, 'metadata': {'iso_language_code': 'en', 'result_type': 'recent'}, 'source': '<a href=\"https://mobile.twitter.com\" rel=\"nofollow\">Twitter Web App</a>', 'in_reply_to_status_id': 1369691705436475401, 'in_reply_to_status_id_str': '1369691705436475401', 'in_reply_to_user_id': 40406265, 'in_reply_to_user_id_str': '40406265', 'in_reply_to_screen_name': 'RandyEischer', 'user': {'id': 40406265, 'id_str': '40406265', 'name': 'Randy Eischer', 'screen_name': 'RandyEischer', 'location': 'Radiant City', 'description': '#BelieveWomen #BernieWouldHaveWon #M4A #LivingWage #GreenNewDeal #BLM #FreePalestine #Socialist #Writer #Retail #Education', 'url': None, 'entities': {'description': {'urls': []}}, 'protected': False, 'followers_count': 409, 'friends_count': 127, 'listed_count': 5, 'created_at': 'Sat May 16 04:06:43 +0000 2009', 'favourites_count': 43445, 'utc_offset': None, 'time_zone': None, 'geo_enabled': False, 'verified': False, 'statuses_count': 11643, 'lang': None, 'contributors_enabled': False, 'is_translator': False, 'is_translation_enabled': False, 'profile_background_color': 'C0DEED', 'profile_background_image_url': 'http://abs.twimg.com/images/themes/theme1/bg.png', 'profile_background_image_url_https': 'https://abs.twimg.com/images/themes/theme1/bg.png', 'profile_background_tile': False, 'profile_image_url': 'http://pbs.twimg.com/profile_images/214156279/SamLowry_normal.jpg', 'profile_image_url_https': 'https://pbs.twimg.com/profile_images/214156279/SamLowry_normal.jpg', 'profile_link_color': '1DA1F2', 'profile_sidebar_border_color': 'C0DEED', 'profile_sidebar_fill_color': 'DDEEF6', 'profile_text_color': '333333', 'profile_use_background_image': True, 'has_extended_profile': False, 'default_profile': True, 'default_profile_image': False, 'following': False, 'follow_request_sent': False, 'notifications': False, 'translator_type': 'none'}, 'geo': None, 'coordinates': None, 'place': None, 'contributors': None, 'is_quote_status': False, 'retweet_count': 0, 'favorite_count': 1, 'favorited': False, 'retweeted': False, 'possibly_sensitive': False, 'lang': 'en'}, created_at=datetime.datetime(2021, 3, 10, 16, 51, 17), id=1369692345906716672, id_str='1369692345906716672', full_text='@splicedenergy @RedemptionUBI @ProudSocialist @JoeBiden Plus:\\n\\nYeah, all lies. Notice how fast he ran away from the \"most progressive platform ever\"? M4A, $15 minimum, no more kids in cages--hahaha.\\nhttps://t.co/7w4vpOCJuu', truncated=False, display_text_range=[56, 222], entities={'hashtags': [], 'symbols': [], 'user_mentions': [{'screen_name': 'splicedenergy', 'name': 'Natilie Roof', 'id': 95338782, 'id_str': '95338782', 'indices': [0, 14]}, {'screen_name': 'RedemptionUBI', 'name': 'M4AUBICANCELRENT', 'id': 1290135807899185152, 'id_str': '1290135807899185152', 'indices': [15, 29]}, {'screen_name': 'ProudSocialist', 'name': 'Ryan Knight ☭🌹', 'id': 755057897583804416, 'id_str': '755057897583804416', 'indices': [30, 45]}, {'screen_name': 'JoeBiden', 'name': 'Joe Biden', 'id': 939091, 'id_str': '939091', 'indices': [46, 55]}], 'urls': [{'url': 'https://t.co/7w4vpOCJuu', 'expanded_url': 'https://inews.co.uk/news/analysis/joe-biden-policy-platform-democrats-progressive-us-presidential-election-candidate-741678', 'display_url': 'inews.co.uk/news/analysis/…', 'indices': [199, 222]}]}, metadata={'iso_language_code': 'en', 'result_type': 'recent'}, source='Twitter Web App', source_url='https://mobile.twitter.com', in_reply_to_status_id=1369691705436475401, in_reply_to_status_id_str='1369691705436475401', in_reply_to_user_id=40406265, in_reply_to_user_id_str='40406265', in_reply_to_screen_name='RandyEischer', author=User(_api=<tweepy.api.API object at 0x000001C06D366EC8>, _json={'id': 40406265, 'id_str': '40406265', 'name': 'Randy Eischer', 'screen_name': 'RandyEischer', 'location': 'Radiant City', 'description': '#BelieveWomen #BernieWouldHaveWon #M4A #LivingWage #GreenNewDeal #BLM #FreePalestine #Socialist #Writer #Retail #Education', 'url': None, 'entities': {'description': {'urls': []}}, 'protected': False, 'followers_count': 409, 'friends_count': 127, 'listed_count': 5, 'created_at': 'Sat May 16 04:06:43 +0000 2009', 'favourites_count': 43445, 'utc_offset': None, 'time_zone': None, 'geo_enabled': False, 'verified': False, 'statuses_count': 11643, 'lang': None, 'contributors_enabled': False, 'is_translator': False, 'is_translation_enabled': False, 'profile_background_color': 'C0DEED', 'profile_background_image_url': 'http://abs.twimg.com/images/themes/theme1/bg.png', 'profile_background_image_url_https': 'https://abs.twimg.com/images/themes/theme1/bg.png', 'profile_background_tile': False, 'profile_image_url': 'http://pbs.twimg.com/profile_images/214156279/SamLowry_normal.jpg', 'profile_image_url_https': 'https://pbs.twimg.com/profile_images/214156279/SamLowry_normal.jpg', 'profile_link_color': '1DA1F2', 'profile_sidebar_border_color': 'C0DEED', 'profile_sidebar_fill_color': 'DDEEF6', 'profile_text_color': '333333', 'profile_use_background_image': True, 'has_extended_profile': False, 'default_profile': True, 'default_profile_image': False, 'following': False, 'follow_request_sent': False, 'notifications': False, 'translator_type': 'none'}, id=40406265, id_str='40406265', name='Randy Eischer', screen_name='RandyEischer', location='Radiant City', description='#BelieveWomen #BernieWouldHaveWon #M4A #LivingWage #GreenNewDeal #BLM #FreePalestine #Socialist #Writer #Retail #Education', url=None, entities={'description': {'urls': []}}, protected=False, followers_count=409, friends_count=127, listed_count=5, created_at=datetime.datetime(2009, 5, 16, 4, 6, 43), favourites_count=43445, utc_offset=None, time_zone=None, geo_enabled=False, verified=False, statuses_count=11643, lang=None, contributors_enabled=False, is_translator=False, is_translation_enabled=False, profile_background_color='C0DEED', profile_background_image_url='http://abs.twimg.com/images/themes/theme1/bg.png', profile_background_image_url_https='https://abs.twimg.com/images/themes/theme1/bg.png', profile_background_tile=False, profile_image_url='http://pbs.twimg.com/profile_images/214156279/SamLowry_normal.jpg', profile_image_url_https='https://pbs.twimg.com/profile_images/214156279/SamLowry_normal.jpg', profile_link_color='1DA1F2', profile_sidebar_border_color='C0DEED', profile_sidebar_fill_color='DDEEF6', profile_text_color='333333', profile_use_background_image=True, has_extended_profile=False, default_profile=True, default_profile_image=False, following=False, follow_request_sent=False, notifications=False, translator_type='none'), user=User(_api=<tweepy.api.API object at 0x000001C06D366EC8>, _json={'id': 40406265, 'id_str': '40406265', 'name': 'Randy Eischer', 'screen_name': 'RandyEischer', 'location': 'Radiant City', 'description': '#BelieveWomen #BernieWouldHaveWon #M4A #LivingWage #GreenNewDeal #BLM #FreePalestine #Socialist #Writer #Retail #Education', 'url': None, 'entities': {'description': {'urls': []}}, 'protected': False, 'followers_count': 409, 'friends_count': 127, 'listed_count': 5, 'created_at': 'Sat May 16 04:06:43 +0000 2009', 'favourites_count': 43445, 'utc_offset': None, 'time_zone': None, 'geo_enabled': False, 'verified': False, 'statuses_count': 11643, 'lang': None, 'contributors_enabled': False, 'is_translator': False, 'is_translation_enabled': False, 'profile_background_color': 'C0DEED', 'profile_background_image_url': 'http://abs.twimg.com/images/themes/theme1/bg.png', 'profile_background_image_url_https': 'https://abs.twimg.com/images/themes/theme1/bg.png', 'profile_background_tile': False, 'profile_image_url': 'http://pbs.twimg.com/profile_images/214156279/SamLowry_normal.jpg', 'profile_image_url_https': 'https://pbs.twimg.com/profile_images/214156279/SamLowry_normal.jpg', 'profile_link_color': '1DA1F2', 'profile_sidebar_border_color': 'C0DEED', 'profile_sidebar_fill_color': 'DDEEF6', 'profile_text_color': '333333', 'profile_use_background_image': True, 'has_extended_profile': False, 'default_profile': True, 'default_profile_image': False, 'following': False, 'follow_request_sent': False, 'notifications': False, 'translator_type': 'none'}, id=40406265, id_str='40406265', name='Randy Eischer', screen_name='RandyEischer', location='Radiant City', description='#BelieveWomen #BernieWouldHaveWon #M4A #LivingWage #GreenNewDeal #BLM #FreePalestine #Socialist #Writer #Retail #Education', url=None, entities={'description': {'urls': []}}, protected=False, followers_count=409, friends_count=127, listed_count=5, created_at=datetime.datetime(2009, 5, 16, 4, 6, 43), favourites_count=43445, utc_offset=None, time_zone=None, geo_enabled=False, verified=False, statuses_count=11643, lang=None, contributors_enabled=False, is_translator=False, is_translation_enabled=False, profile_background_color='C0DEED', profile_background_image_url='http://abs.twimg.com/images/themes/theme1/bg.png', profile_background_image_url_https='https://abs.twimg.com/images/themes/theme1/bg.png', profile_background_tile=False, profile_image_url='http://pbs.twimg.com/profile_images/214156279/SamLowry_normal.jpg', profile_image_url_https='https://pbs.twimg.com/profile_images/214156279/SamLowry_normal.jpg', profile_link_color='1DA1F2', profile_sidebar_border_color='C0DEED', profile_sidebar_fill_color='DDEEF6', profile_text_color='333333', profile_use_background_image=True, has_extended_profile=False, default_profile=True, default_profile_image=False, following=False, follow_request_sent=False, notifications=False, translator_type='none'), geo=None, coordinates=None, place=None, contributors=None, is_quote_status=False, retweet_count=0, favorite_count=1, favorited=False, retweeted=False, possibly_sensitive=False, lang='en')\n",
      "=================================================\n",
      "Status(_api=<tweepy.api.API object at 0x000001C06D366EC8>, _json={'created_at': 'Wed Mar 10 15:17:05 +0000 2021', 'id': 1369668638370848769, 'id_str': '1369668638370848769', 'full_text': 'Lindsey Graham Tells Joe Biden To Revive Remain in Mexico Policy or \\'Worst Is Yet To Come\\' https://t.co/3jiEOESYQZ Graham, is the \"Worst to ever come to the Senate\" Resign, &amp; get out of Washington. You tried to overturn this election in Trump\\'s favor, you failed. Never trust him!', 'truncated': False, 'display_text_range': [0, 284], 'entities': {'hashtags': [], 'symbols': [], 'user_mentions': [], 'urls': [{'url': 'https://t.co/3jiEOESYQZ', 'expanded_url': 'http://a.msn.com/01/en-us/BB1erJOG?ocid=st', 'display_url': 'a.msn.com/01/en-us/BB1er…', 'indices': [91, 114]}]}, 'metadata': {'iso_language_code': 'en', 'result_type': 'recent'}, 'source': '<a href=\"https://mobile.twitter.com\" rel=\"nofollow\">Twitter Web App</a>', 'in_reply_to_status_id': None, 'in_reply_to_status_id_str': None, 'in_reply_to_user_id': None, 'in_reply_to_user_id_str': None, 'in_reply_to_screen_name': None, 'user': {'id': 230634703, 'id_str': '230634703', 'name': \"cassandra colo'n\", 'screen_name': 'ctfighter4', 'location': '', 'description': 'Actress/Producer/Comedian', 'url': None, 'entities': {'description': {'urls': []}}, 'protected': False, 'followers_count': 187, 'friends_count': 1795, 'listed_count': 3, 'created_at': 'Sun Dec 26 05:34:44 +0000 2010', 'favourites_count': 214, 'utc_offset': None, 'time_zone': None, 'geo_enabled': True, 'verified': False, 'statuses_count': 2799, 'lang': None, 'contributors_enabled': False, 'is_translator': False, 'is_translation_enabled': False, 'profile_background_color': 'C0DEED', 'profile_background_image_url': 'http://abs.twimg.com/images/themes/theme1/bg.png', 'profile_background_image_url_https': 'https://abs.twimg.com/images/themes/theme1/bg.png', 'profile_background_tile': False, 'profile_image_url': 'http://pbs.twimg.com/profile_images/378800000616585495/45034be96fadc292030faabd285aab11_normal.jpeg', 'profile_image_url_https': 'https://pbs.twimg.com/profile_images/378800000616585495/45034be96fadc292030faabd285aab11_normal.jpeg', 'profile_link_color': '1DA1F2', 'profile_sidebar_border_color': 'C0DEED', 'profile_sidebar_fill_color': 'DDEEF6', 'profile_text_color': '333333', 'profile_use_background_image': True, 'has_extended_profile': False, 'default_profile': True, 'default_profile_image': False, 'following': False, 'follow_request_sent': False, 'notifications': False, 'translator_type': 'none'}, 'geo': None, 'coordinates': None, 'place': None, 'contributors': None, 'is_quote_status': False, 'retweet_count': 0, 'favorite_count': 0, 'favorited': False, 'retweeted': False, 'possibly_sensitive': False, 'lang': 'en'}, created_at=datetime.datetime(2021, 3, 10, 15, 17, 5), id=1369668638370848769, id_str='1369668638370848769', full_text='Lindsey Graham Tells Joe Biden To Revive Remain in Mexico Policy or \\'Worst Is Yet To Come\\' https://t.co/3jiEOESYQZ Graham, is the \"Worst to ever come to the Senate\" Resign, &amp; get out of Washington. You tried to overturn this election in Trump\\'s favor, you failed. Never trust him!', truncated=False, display_text_range=[0, 284], entities={'hashtags': [], 'symbols': [], 'user_mentions': [], 'urls': [{'url': 'https://t.co/3jiEOESYQZ', 'expanded_url': 'http://a.msn.com/01/en-us/BB1erJOG?ocid=st', 'display_url': 'a.msn.com/01/en-us/BB1er…', 'indices': [91, 114]}]}, metadata={'iso_language_code': 'en', 'result_type': 'recent'}, source='Twitter Web App', source_url='https://mobile.twitter.com', in_reply_to_status_id=None, in_reply_to_status_id_str=None, in_reply_to_user_id=None, in_reply_to_user_id_str=None, in_reply_to_screen_name=None, author=User(_api=<tweepy.api.API object at 0x000001C06D366EC8>, _json={'id': 230634703, 'id_str': '230634703', 'name': \"cassandra colo'n\", 'screen_name': 'ctfighter4', 'location': '', 'description': 'Actress/Producer/Comedian', 'url': None, 'entities': {'description': {'urls': []}}, 'protected': False, 'followers_count': 187, 'friends_count': 1795, 'listed_count': 3, 'created_at': 'Sun Dec 26 05:34:44 +0000 2010', 'favourites_count': 214, 'utc_offset': None, 'time_zone': None, 'geo_enabled': True, 'verified': False, 'statuses_count': 2799, 'lang': None, 'contributors_enabled': False, 'is_translator': False, 'is_translation_enabled': False, 'profile_background_color': 'C0DEED', 'profile_background_image_url': 'http://abs.twimg.com/images/themes/theme1/bg.png', 'profile_background_image_url_https': 'https://abs.twimg.com/images/themes/theme1/bg.png', 'profile_background_tile': False, 'profile_image_url': 'http://pbs.twimg.com/profile_images/378800000616585495/45034be96fadc292030faabd285aab11_normal.jpeg', 'profile_image_url_https': 'https://pbs.twimg.com/profile_images/378800000616585495/45034be96fadc292030faabd285aab11_normal.jpeg', 'profile_link_color': '1DA1F2', 'profile_sidebar_border_color': 'C0DEED', 'profile_sidebar_fill_color': 'DDEEF6', 'profile_text_color': '333333', 'profile_use_background_image': True, 'has_extended_profile': False, 'default_profile': True, 'default_profile_image': False, 'following': False, 'follow_request_sent': False, 'notifications': False, 'translator_type': 'none'}, id=230634703, id_str='230634703', name=\"cassandra colo'n\", screen_name='ctfighter4', location='', description='Actress/Producer/Comedian', url=None, entities={'description': {'urls': []}}, protected=False, followers_count=187, friends_count=1795, listed_count=3, created_at=datetime.datetime(2010, 12, 26, 5, 34, 44), favourites_count=214, utc_offset=None, time_zone=None, geo_enabled=True, verified=False, statuses_count=2799, lang=None, contributors_enabled=False, is_translator=False, is_translation_enabled=False, profile_background_color='C0DEED', profile_background_image_url='http://abs.twimg.com/images/themes/theme1/bg.png', profile_background_image_url_https='https://abs.twimg.com/images/themes/theme1/bg.png', profile_background_tile=False, profile_image_url='http://pbs.twimg.com/profile_images/378800000616585495/45034be96fadc292030faabd285aab11_normal.jpeg', profile_image_url_https='https://pbs.twimg.com/profile_images/378800000616585495/45034be96fadc292030faabd285aab11_normal.jpeg', profile_link_color='1DA1F2', profile_sidebar_border_color='C0DEED', profile_sidebar_fill_color='DDEEF6', profile_text_color='333333', profile_use_background_image=True, has_extended_profile=False, default_profile=True, default_profile_image=False, following=False, follow_request_sent=False, notifications=False, translator_type='none'), user=User(_api=<tweepy.api.API object at 0x000001C06D366EC8>, _json={'id': 230634703, 'id_str': '230634703', 'name': \"cassandra colo'n\", 'screen_name': 'ctfighter4', 'location': '', 'description': 'Actress/Producer/Comedian', 'url': None, 'entities': {'description': {'urls': []}}, 'protected': False, 'followers_count': 187, 'friends_count': 1795, 'listed_count': 3, 'created_at': 'Sun Dec 26 05:34:44 +0000 2010', 'favourites_count': 214, 'utc_offset': None, 'time_zone': None, 'geo_enabled': True, 'verified': False, 'statuses_count': 2799, 'lang': None, 'contributors_enabled': False, 'is_translator': False, 'is_translation_enabled': False, 'profile_background_color': 'C0DEED', 'profile_background_image_url': 'http://abs.twimg.com/images/themes/theme1/bg.png', 'profile_background_image_url_https': 'https://abs.twimg.com/images/themes/theme1/bg.png', 'profile_background_tile': False, 'profile_image_url': 'http://pbs.twimg.com/profile_images/378800000616585495/45034be96fadc292030faabd285aab11_normal.jpeg', 'profile_image_url_https': 'https://pbs.twimg.com/profile_images/378800000616585495/45034be96fadc292030faabd285aab11_normal.jpeg', 'profile_link_color': '1DA1F2', 'profile_sidebar_border_color': 'C0DEED', 'profile_sidebar_fill_color': 'DDEEF6', 'profile_text_color': '333333', 'profile_use_background_image': True, 'has_extended_profile': False, 'default_profile': True, 'default_profile_image': False, 'following': False, 'follow_request_sent': False, 'notifications': False, 'translator_type': 'none'}, id=230634703, id_str='230634703', name=\"cassandra colo'n\", screen_name='ctfighter4', location='', description='Actress/Producer/Comedian', url=None, entities={'description': {'urls': []}}, protected=False, followers_count=187, friends_count=1795, listed_count=3, created_at=datetime.datetime(2010, 12, 26, 5, 34, 44), favourites_count=214, utc_offset=None, time_zone=None, geo_enabled=True, verified=False, statuses_count=2799, lang=None, contributors_enabled=False, is_translator=False, is_translation_enabled=False, profile_background_color='C0DEED', profile_background_image_url='http://abs.twimg.com/images/themes/theme1/bg.png', profile_background_image_url_https='https://abs.twimg.com/images/themes/theme1/bg.png', profile_background_tile=False, profile_image_url='http://pbs.twimg.com/profile_images/378800000616585495/45034be96fadc292030faabd285aab11_normal.jpeg', profile_image_url_https='https://pbs.twimg.com/profile_images/378800000616585495/45034be96fadc292030faabd285aab11_normal.jpeg', profile_link_color='1DA1F2', profile_sidebar_border_color='C0DEED', profile_sidebar_fill_color='DDEEF6', profile_text_color='333333', profile_use_background_image=True, has_extended_profile=False, default_profile=True, default_profile_image=False, following=False, follow_request_sent=False, notifications=False, translator_type='none'), geo=None, coordinates=None, place=None, contributors=None, is_quote_status=False, retweet_count=0, favorite_count=0, favorited=False, retweeted=False, possibly_sensitive=False, lang='en')\n",
      "=================================================\n",
      "Status(_api=<tweepy.api.API object at 0x000001C06D366EC8>, _json={'created_at': 'Wed Mar 10 13:51:34 +0000 2021', 'id': 1369647117682216968, 'id_str': '1369647117682216968', 'full_text': 'The outlook of U.S. firms in China changed dramatically after Biden’s election:\\nChina Joe will certainly make things better for...China, not America!! https://t.co/68yEMuQSz2', 'truncated': False, 'display_text_range': [0, 174], 'entities': {'hashtags': [], 'symbols': [], 'user_mentions': [], 'urls': [{'url': 'https://t.co/68yEMuQSz2', 'expanded_url': 'https://www.newsbreakapp.com/n/0YqoaCVh?pd=02Nu9au3&lang=en_US&s=i2', 'display_url': 'newsbreakapp.com/n/0YqoaCVh?pd=…', 'indices': [151, 174]}]}, 'metadata': {'iso_language_code': 'en', 'result_type': 'recent'}, 'source': '<a href=\"http://twitter.com/#!/download/ipad\" rel=\"nofollow\">Twitter for iPad</a>', 'in_reply_to_status_id': None, 'in_reply_to_status_id_str': None, 'in_reply_to_user_id': None, 'in_reply_to_user_id_str': None, 'in_reply_to_screen_name': None, 'user': {'id': 898712108, 'id_str': '898712108', 'name': 'Doug Speights', 'screen_name': 'dougspeights', 'location': 'THE SOUTH', 'description': 'SUPPORTER OF DONALD J. TRUMP', 'url': None, 'entities': {'description': {'urls': []}}, 'protected': False, 'followers_count': 1023, 'friends_count': 1731, 'listed_count': 0, 'created_at': 'Mon Oct 22 23:57:02 +0000 2012', 'favourites_count': 242, 'utc_offset': None, 'time_zone': None, 'geo_enabled': True, 'verified': False, 'statuses_count': 24343, 'lang': None, 'contributors_enabled': False, 'is_translator': False, 'is_translation_enabled': False, 'profile_background_color': 'C0DEED', 'profile_background_image_url': 'http://abs.twimg.com/images/themes/theme1/bg.png', 'profile_background_image_url_https': 'https://abs.twimg.com/images/themes/theme1/bg.png', 'profile_background_tile': False, 'profile_image_url': 'http://pbs.twimg.com/profile_images/1313209341445648384/QRTvc2fg_normal.jpg', 'profile_image_url_https': 'https://pbs.twimg.com/profile_images/1313209341445648384/QRTvc2fg_normal.jpg', 'profile_banner_url': 'https://pbs.twimg.com/profile_banners/898712108/1605397353', 'profile_link_color': '1DA1F2', 'profile_sidebar_border_color': 'C0DEED', 'profile_sidebar_fill_color': 'DDEEF6', 'profile_text_color': '333333', 'profile_use_background_image': True, 'has_extended_profile': False, 'default_profile': True, 'default_profile_image': False, 'following': False, 'follow_request_sent': False, 'notifications': False, 'translator_type': 'none'}, 'geo': None, 'coordinates': None, 'place': None, 'contributors': None, 'is_quote_status': False, 'retweet_count': 0, 'favorite_count': 0, 'favorited': False, 'retweeted': False, 'possibly_sensitive': False, 'lang': 'en'}, created_at=datetime.datetime(2021, 3, 10, 13, 51, 34), id=1369647117682216968, id_str='1369647117682216968', full_text='The outlook of U.S. firms in China changed dramatically after Biden’s election:\\nChina Joe will certainly make things better for...China, not America!! https://t.co/68yEMuQSz2', truncated=False, display_text_range=[0, 174], entities={'hashtags': [], 'symbols': [], 'user_mentions': [], 'urls': [{'url': 'https://t.co/68yEMuQSz2', 'expanded_url': 'https://www.newsbreakapp.com/n/0YqoaCVh?pd=02Nu9au3&lang=en_US&s=i2', 'display_url': 'newsbreakapp.com/n/0YqoaCVh?pd=…', 'indices': [151, 174]}]}, metadata={'iso_language_code': 'en', 'result_type': 'recent'}, source='Twitter for iPad', source_url='http://twitter.com/#!/download/ipad', in_reply_to_status_id=None, in_reply_to_status_id_str=None, in_reply_to_user_id=None, in_reply_to_user_id_str=None, in_reply_to_screen_name=None, author=User(_api=<tweepy.api.API object at 0x000001C06D366EC8>, _json={'id': 898712108, 'id_str': '898712108', 'name': 'Doug Speights', 'screen_name': 'dougspeights', 'location': 'THE SOUTH', 'description': 'SUPPORTER OF DONALD J. TRUMP', 'url': None, 'entities': {'description': {'urls': []}}, 'protected': False, 'followers_count': 1023, 'friends_count': 1731, 'listed_count': 0, 'created_at': 'Mon Oct 22 23:57:02 +0000 2012', 'favourites_count': 242, 'utc_offset': None, 'time_zone': None, 'geo_enabled': True, 'verified': False, 'statuses_count': 24343, 'lang': None, 'contributors_enabled': False, 'is_translator': False, 'is_translation_enabled': False, 'profile_background_color': 'C0DEED', 'profile_background_image_url': 'http://abs.twimg.com/images/themes/theme1/bg.png', 'profile_background_image_url_https': 'https://abs.twimg.com/images/themes/theme1/bg.png', 'profile_background_tile': False, 'profile_image_url': 'http://pbs.twimg.com/profile_images/1313209341445648384/QRTvc2fg_normal.jpg', 'profile_image_url_https': 'https://pbs.twimg.com/profile_images/1313209341445648384/QRTvc2fg_normal.jpg', 'profile_banner_url': 'https://pbs.twimg.com/profile_banners/898712108/1605397353', 'profile_link_color': '1DA1F2', 'profile_sidebar_border_color': 'C0DEED', 'profile_sidebar_fill_color': 'DDEEF6', 'profile_text_color': '333333', 'profile_use_background_image': True, 'has_extended_profile': False, 'default_profile': True, 'default_profile_image': False, 'following': False, 'follow_request_sent': False, 'notifications': False, 'translator_type': 'none'}, id=898712108, id_str='898712108', name='Doug Speights', screen_name='dougspeights', location='THE SOUTH', description='SUPPORTER OF DONALD J. TRUMP', url=None, entities={'description': {'urls': []}}, protected=False, followers_count=1023, friends_count=1731, listed_count=0, created_at=datetime.datetime(2012, 10, 22, 23, 57, 2), favourites_count=242, utc_offset=None, time_zone=None, geo_enabled=True, verified=False, statuses_count=24343, lang=None, contributors_enabled=False, is_translator=False, is_translation_enabled=False, profile_background_color='C0DEED', profile_background_image_url='http://abs.twimg.com/images/themes/theme1/bg.png', profile_background_image_url_https='https://abs.twimg.com/images/themes/theme1/bg.png', profile_background_tile=False, profile_image_url='http://pbs.twimg.com/profile_images/1313209341445648384/QRTvc2fg_normal.jpg', profile_image_url_https='https://pbs.twimg.com/profile_images/1313209341445648384/QRTvc2fg_normal.jpg', profile_banner_url='https://pbs.twimg.com/profile_banners/898712108/1605397353', profile_link_color='1DA1F2', profile_sidebar_border_color='C0DEED', profile_sidebar_fill_color='DDEEF6', profile_text_color='333333', profile_use_background_image=True, has_extended_profile=False, default_profile=True, default_profile_image=False, following=False, follow_request_sent=False, notifications=False, translator_type='none'), user=User(_api=<tweepy.api.API object at 0x000001C06D366EC8>, _json={'id': 898712108, 'id_str': '898712108', 'name': 'Doug Speights', 'screen_name': 'dougspeights', 'location': 'THE SOUTH', 'description': 'SUPPORTER OF DONALD J. TRUMP', 'url': None, 'entities': {'description': {'urls': []}}, 'protected': False, 'followers_count': 1023, 'friends_count': 1731, 'listed_count': 0, 'created_at': 'Mon Oct 22 23:57:02 +0000 2012', 'favourites_count': 242, 'utc_offset': None, 'time_zone': None, 'geo_enabled': True, 'verified': False, 'statuses_count': 24343, 'lang': None, 'contributors_enabled': False, 'is_translator': False, 'is_translation_enabled': False, 'profile_background_color': 'C0DEED', 'profile_background_image_url': 'http://abs.twimg.com/images/themes/theme1/bg.png', 'profile_background_image_url_https': 'https://abs.twimg.com/images/themes/theme1/bg.png', 'profile_background_tile': False, 'profile_image_url': 'http://pbs.twimg.com/profile_images/1313209341445648384/QRTvc2fg_normal.jpg', 'profile_image_url_https': 'https://pbs.twimg.com/profile_images/1313209341445648384/QRTvc2fg_normal.jpg', 'profile_banner_url': 'https://pbs.twimg.com/profile_banners/898712108/1605397353', 'profile_link_color': '1DA1F2', 'profile_sidebar_border_color': 'C0DEED', 'profile_sidebar_fill_color': 'DDEEF6', 'profile_text_color': '333333', 'profile_use_background_image': True, 'has_extended_profile': False, 'default_profile': True, 'default_profile_image': False, 'following': False, 'follow_request_sent': False, 'notifications': False, 'translator_type': 'none'}, id=898712108, id_str='898712108', name='Doug Speights', screen_name='dougspeights', location='THE SOUTH', description='SUPPORTER OF DONALD J. TRUMP', url=None, entities={'description': {'urls': []}}, protected=False, followers_count=1023, friends_count=1731, listed_count=0, created_at=datetime.datetime(2012, 10, 22, 23, 57, 2), favourites_count=242, utc_offset=None, time_zone=None, geo_enabled=True, verified=False, statuses_count=24343, lang=None, contributors_enabled=False, is_translator=False, is_translation_enabled=False, profile_background_color='C0DEED', profile_background_image_url='http://abs.twimg.com/images/themes/theme1/bg.png', profile_background_image_url_https='https://abs.twimg.com/images/themes/theme1/bg.png', profile_background_tile=False, profile_image_url='http://pbs.twimg.com/profile_images/1313209341445648384/QRTvc2fg_normal.jpg', profile_image_url_https='https://pbs.twimg.com/profile_images/1313209341445648384/QRTvc2fg_normal.jpg', profile_banner_url='https://pbs.twimg.com/profile_banners/898712108/1605397353', profile_link_color='1DA1F2', profile_sidebar_border_color='C0DEED', profile_sidebar_fill_color='DDEEF6', profile_text_color='333333', profile_use_background_image=True, has_extended_profile=False, default_profile=True, default_profile_image=False, following=False, follow_request_sent=False, notifications=False, translator_type='none'), geo=None, coordinates=None, place=None, contributors=None, is_quote_status=False, retweet_count=0, favorite_count=0, favorited=False, retweeted=False, possibly_sensitive=False, lang='en')\n",
      "=================================================\n",
      "Status(_api=<tweepy.api.API object at 0x000001C06D366EC8>, _json={'created_at': 'Wed Mar 10 11:52:55 +0000 2021', 'id': 1369617258448711680, 'id_str': '1369617258448711680', 'full_text': \"@stillgray @JennaEllisEsq I hope she can show us some pictures with lots of fans around Joe Biden, not the amount of presidential election. Otherwise, she's a lier.\", 'truncated': False, 'display_text_range': [26, 164], 'entities': {'hashtags': [], 'symbols': [], 'user_mentions': [{'screen_name': 'stillgray', 'name': 'Ian Miles Cheong', 'id': 16106584, 'id_str': '16106584', 'indices': [0, 10]}, {'screen_name': 'JennaEllisEsq', 'name': 'Jenna Ellis', 'id': 778763106289758208, 'id_str': '778763106289758208', 'indices': [11, 25]}], 'urls': []}, 'metadata': {'iso_language_code': 'en', 'result_type': 'recent'}, 'source': '<a href=\"https://mobile.twitter.com\" rel=\"nofollow\">Twitter Web App</a>', 'in_reply_to_status_id': 1369473195145719813, 'in_reply_to_status_id_str': '1369473195145719813', 'in_reply_to_user_id': 16106584, 'in_reply_to_user_id_str': '16106584', 'in_reply_to_screen_name': 'stillgray', 'user': {'id': 1295138415206334470, 'id_str': '1295138415206334470', 'name': 'Porcupine Hoo', 'screen_name': 'HooPorcupine', 'location': '', 'description': '', 'url': None, 'entities': {'description': {'urls': []}}, 'protected': False, 'followers_count': 8, 'friends_count': 25, 'listed_count': 0, 'created_at': 'Sun Aug 16 23:21:10 +0000 2020', 'favourites_count': 2593, 'utc_offset': None, 'time_zone': None, 'geo_enabled': False, 'verified': False, 'statuses_count': 323, 'lang': None, 'contributors_enabled': False, 'is_translator': False, 'is_translation_enabled': False, 'profile_background_color': 'F5F8FA', 'profile_background_image_url': None, 'profile_background_image_url_https': None, 'profile_background_tile': False, 'profile_image_url': 'http://pbs.twimg.com/profile_images/1295138719704461313/kL-IUiGR_normal.jpg', 'profile_image_url_https': 'https://pbs.twimg.com/profile_images/1295138719704461313/kL-IUiGR_normal.jpg', 'profile_link_color': '1DA1F2', 'profile_sidebar_border_color': 'C0DEED', 'profile_sidebar_fill_color': 'DDEEF6', 'profile_text_color': '333333', 'profile_use_background_image': True, 'has_extended_profile': True, 'default_profile': True, 'default_profile_image': False, 'following': False, 'follow_request_sent': False, 'notifications': False, 'translator_type': 'none'}, 'geo': None, 'coordinates': None, 'place': None, 'contributors': None, 'is_quote_status': False, 'retweet_count': 0, 'favorite_count': 0, 'favorited': False, 'retweeted': False, 'lang': 'en'}, created_at=datetime.datetime(2021, 3, 10, 11, 52, 55), id=1369617258448711680, id_str='1369617258448711680', full_text=\"@stillgray @JennaEllisEsq I hope she can show us some pictures with lots of fans around Joe Biden, not the amount of presidential election. Otherwise, she's a lier.\", truncated=False, display_text_range=[26, 164], entities={'hashtags': [], 'symbols': [], 'user_mentions': [{'screen_name': 'stillgray', 'name': 'Ian Miles Cheong', 'id': 16106584, 'id_str': '16106584', 'indices': [0, 10]}, {'screen_name': 'JennaEllisEsq', 'name': 'Jenna Ellis', 'id': 778763106289758208, 'id_str': '778763106289758208', 'indices': [11, 25]}], 'urls': []}, metadata={'iso_language_code': 'en', 'result_type': 'recent'}, source='Twitter Web App', source_url='https://mobile.twitter.com', in_reply_to_status_id=1369473195145719813, in_reply_to_status_id_str='1369473195145719813', in_reply_to_user_id=16106584, in_reply_to_user_id_str='16106584', in_reply_to_screen_name='stillgray', author=User(_api=<tweepy.api.API object at 0x000001C06D366EC8>, _json={'id': 1295138415206334470, 'id_str': '1295138415206334470', 'name': 'Porcupine Hoo', 'screen_name': 'HooPorcupine', 'location': '', 'description': '', 'url': None, 'entities': {'description': {'urls': []}}, 'protected': False, 'followers_count': 8, 'friends_count': 25, 'listed_count': 0, 'created_at': 'Sun Aug 16 23:21:10 +0000 2020', 'favourites_count': 2593, 'utc_offset': None, 'time_zone': None, 'geo_enabled': False, 'verified': False, 'statuses_count': 323, 'lang': None, 'contributors_enabled': False, 'is_translator': False, 'is_translation_enabled': False, 'profile_background_color': 'F5F8FA', 'profile_background_image_url': None, 'profile_background_image_url_https': None, 'profile_background_tile': False, 'profile_image_url': 'http://pbs.twimg.com/profile_images/1295138719704461313/kL-IUiGR_normal.jpg', 'profile_image_url_https': 'https://pbs.twimg.com/profile_images/1295138719704461313/kL-IUiGR_normal.jpg', 'profile_link_color': '1DA1F2', 'profile_sidebar_border_color': 'C0DEED', 'profile_sidebar_fill_color': 'DDEEF6', 'profile_text_color': '333333', 'profile_use_background_image': True, 'has_extended_profile': True, 'default_profile': True, 'default_profile_image': False, 'following': False, 'follow_request_sent': False, 'notifications': False, 'translator_type': 'none'}, id=1295138415206334470, id_str='1295138415206334470', name='Porcupine Hoo', screen_name='HooPorcupine', location='', description='', url=None, entities={'description': {'urls': []}}, protected=False, followers_count=8, friends_count=25, listed_count=0, created_at=datetime.datetime(2020, 8, 16, 23, 21, 10), favourites_count=2593, utc_offset=None, time_zone=None, geo_enabled=False, verified=False, statuses_count=323, lang=None, contributors_enabled=False, is_translator=False, is_translation_enabled=False, profile_background_color='F5F8FA', profile_background_image_url=None, profile_background_image_url_https=None, profile_background_tile=False, profile_image_url='http://pbs.twimg.com/profile_images/1295138719704461313/kL-IUiGR_normal.jpg', profile_image_url_https='https://pbs.twimg.com/profile_images/1295138719704461313/kL-IUiGR_normal.jpg', profile_link_color='1DA1F2', profile_sidebar_border_color='C0DEED', profile_sidebar_fill_color='DDEEF6', profile_text_color='333333', profile_use_background_image=True, has_extended_profile=True, default_profile=True, default_profile_image=False, following=False, follow_request_sent=False, notifications=False, translator_type='none'), user=User(_api=<tweepy.api.API object at 0x000001C06D366EC8>, _json={'id': 1295138415206334470, 'id_str': '1295138415206334470', 'name': 'Porcupine Hoo', 'screen_name': 'HooPorcupine', 'location': '', 'description': '', 'url': None, 'entities': {'description': {'urls': []}}, 'protected': False, 'followers_count': 8, 'friends_count': 25, 'listed_count': 0, 'created_at': 'Sun Aug 16 23:21:10 +0000 2020', 'favourites_count': 2593, 'utc_offset': None, 'time_zone': None, 'geo_enabled': False, 'verified': False, 'statuses_count': 323, 'lang': None, 'contributors_enabled': False, 'is_translator': False, 'is_translation_enabled': False, 'profile_background_color': 'F5F8FA', 'profile_background_image_url': None, 'profile_background_image_url_https': None, 'profile_background_tile': False, 'profile_image_url': 'http://pbs.twimg.com/profile_images/1295138719704461313/kL-IUiGR_normal.jpg', 'profile_image_url_https': 'https://pbs.twimg.com/profile_images/1295138719704461313/kL-IUiGR_normal.jpg', 'profile_link_color': '1DA1F2', 'profile_sidebar_border_color': 'C0DEED', 'profile_sidebar_fill_color': 'DDEEF6', 'profile_text_color': '333333', 'profile_use_background_image': True, 'has_extended_profile': True, 'default_profile': True, 'default_profile_image': False, 'following': False, 'follow_request_sent': False, 'notifications': False, 'translator_type': 'none'}, id=1295138415206334470, id_str='1295138415206334470', name='Porcupine Hoo', screen_name='HooPorcupine', location='', description='', url=None, entities={'description': {'urls': []}}, protected=False, followers_count=8, friends_count=25, listed_count=0, created_at=datetime.datetime(2020, 8, 16, 23, 21, 10), favourites_count=2593, utc_offset=None, time_zone=None, geo_enabled=False, verified=False, statuses_count=323, lang=None, contributors_enabled=False, is_translator=False, is_translation_enabled=False, profile_background_color='F5F8FA', profile_background_image_url=None, profile_background_image_url_https=None, profile_background_tile=False, profile_image_url='http://pbs.twimg.com/profile_images/1295138719704461313/kL-IUiGR_normal.jpg', profile_image_url_https='https://pbs.twimg.com/profile_images/1295138719704461313/kL-IUiGR_normal.jpg', profile_link_color='1DA1F2', profile_sidebar_border_color='C0DEED', profile_sidebar_fill_color='DDEEF6', profile_text_color='333333', profile_use_background_image=True, has_extended_profile=True, default_profile=True, default_profile_image=False, following=False, follow_request_sent=False, notifications=False, translator_type='none'), geo=None, coordinates=None, place=None, contributors=None, is_quote_status=False, retweet_count=0, favorite_count=0, favorited=False, retweeted=False, lang='en')\n",
      "=================================================\n",
      "Status(_api=<tweepy.api.API object at 0x000001C06D366EC8>, _json={'created_at': 'Wed Mar 10 11:22:13 +0000 2021', 'id': 1369609531773353987, 'id_str': '1369609531773353987', 'full_text': 'Trump and Republicans lied about the election being stolen causing a violent insurrection on the US Capitol and lied about a pandemic that killed 500,000+ Americans.\\n\\nRepublicans: Joe Biden’s cat scratched someone.', 'truncated': False, 'display_text_range': [0, 214], 'entities': {'hashtags': [], 'symbols': [], 'user_mentions': [], 'urls': []}, 'metadata': {'iso_language_code': 'en', 'result_type': 'recent'}, 'source': '<a href=\"http://twitter.com/download/iphone\" rel=\"nofollow\">Twitter for iPhone</a>', 'in_reply_to_status_id': None, 'in_reply_to_status_id_str': None, 'in_reply_to_user_id': None, 'in_reply_to_user_id_str': None, 'in_reply_to_screen_name': None, 'user': {'id': 557334459, 'id_str': '557334459', 'name': 'Tim Hannan', 'screen_name': 'TimHannan', 'location': 'Islip Terrace, NY', 'description': 'New York, born & raised. Donald Trump tried to murder Congress.  #Resist #BLM', 'url': None, 'entities': {'description': {'urls': []}}, 'protected': False, 'followers_count': 71308, 'friends_count': 48242, 'listed_count': 307, 'created_at': 'Wed Apr 18 21:51:35 +0000 2012', 'favourites_count': 29371, 'utc_offset': None, 'time_zone': None, 'geo_enabled': False, 'verified': False, 'statuses_count': 53486, 'lang': None, 'contributors_enabled': False, 'is_translator': False, 'is_translation_enabled': False, 'profile_background_color': 'C0DEED', 'profile_background_image_url': 'http://abs.twimg.com/images/themes/theme1/bg.png', 'profile_background_image_url_https': 'https://abs.twimg.com/images/themes/theme1/bg.png', 'profile_background_tile': False, 'profile_image_url': 'http://pbs.twimg.com/profile_images/1339671702733803521/Mrf319XS_normal.jpg', 'profile_image_url_https': 'https://pbs.twimg.com/profile_images/1339671702733803521/Mrf319XS_normal.jpg', 'profile_banner_url': 'https://pbs.twimg.com/profile_banners/557334459/1611580214', 'profile_link_color': '1DA1F2', 'profile_sidebar_border_color': 'C0DEED', 'profile_sidebar_fill_color': 'DDEEF6', 'profile_text_color': '333333', 'profile_use_background_image': True, 'has_extended_profile': True, 'default_profile': True, 'default_profile_image': False, 'following': False, 'follow_request_sent': False, 'notifications': False, 'translator_type': 'none'}, 'geo': None, 'coordinates': None, 'place': None, 'contributors': None, 'is_quote_status': False, 'retweet_count': 73, 'favorite_count': 288, 'favorited': False, 'retweeted': False, 'lang': 'en'}, created_at=datetime.datetime(2021, 3, 10, 11, 22, 13), id=1369609531773353987, id_str='1369609531773353987', full_text='Trump and Republicans lied about the election being stolen causing a violent insurrection on the US Capitol and lied about a pandemic that killed 500,000+ Americans.\\n\\nRepublicans: Joe Biden’s cat scratched someone.', truncated=False, display_text_range=[0, 214], entities={'hashtags': [], 'symbols': [], 'user_mentions': [], 'urls': []}, metadata={'iso_language_code': 'en', 'result_type': 'recent'}, source='Twitter for iPhone', source_url='http://twitter.com/download/iphone', in_reply_to_status_id=None, in_reply_to_status_id_str=None, in_reply_to_user_id=None, in_reply_to_user_id_str=None, in_reply_to_screen_name=None, author=User(_api=<tweepy.api.API object at 0x000001C06D366EC8>, _json={'id': 557334459, 'id_str': '557334459', 'name': 'Tim Hannan', 'screen_name': 'TimHannan', 'location': 'Islip Terrace, NY', 'description': 'New York, born & raised. Donald Trump tried to murder Congress.  #Resist #BLM', 'url': None, 'entities': {'description': {'urls': []}}, 'protected': False, 'followers_count': 71308, 'friends_count': 48242, 'listed_count': 307, 'created_at': 'Wed Apr 18 21:51:35 +0000 2012', 'favourites_count': 29371, 'utc_offset': None, 'time_zone': None, 'geo_enabled': False, 'verified': False, 'statuses_count': 53486, 'lang': None, 'contributors_enabled': False, 'is_translator': False, 'is_translation_enabled': False, 'profile_background_color': 'C0DEED', 'profile_background_image_url': 'http://abs.twimg.com/images/themes/theme1/bg.png', 'profile_background_image_url_https': 'https://abs.twimg.com/images/themes/theme1/bg.png', 'profile_background_tile': False, 'profile_image_url': 'http://pbs.twimg.com/profile_images/1339671702733803521/Mrf319XS_normal.jpg', 'profile_image_url_https': 'https://pbs.twimg.com/profile_images/1339671702733803521/Mrf319XS_normal.jpg', 'profile_banner_url': 'https://pbs.twimg.com/profile_banners/557334459/1611580214', 'profile_link_color': '1DA1F2', 'profile_sidebar_border_color': 'C0DEED', 'profile_sidebar_fill_color': 'DDEEF6', 'profile_text_color': '333333', 'profile_use_background_image': True, 'has_extended_profile': True, 'default_profile': True, 'default_profile_image': False, 'following': False, 'follow_request_sent': False, 'notifications': False, 'translator_type': 'none'}, id=557334459, id_str='557334459', name='Tim Hannan', screen_name='TimHannan', location='Islip Terrace, NY', description='New York, born & raised. Donald Trump tried to murder Congress.  #Resist #BLM', url=None, entities={'description': {'urls': []}}, protected=False, followers_count=71308, friends_count=48242, listed_count=307, created_at=datetime.datetime(2012, 4, 18, 21, 51, 35), favourites_count=29371, utc_offset=None, time_zone=None, geo_enabled=False, verified=False, statuses_count=53486, lang=None, contributors_enabled=False, is_translator=False, is_translation_enabled=False, profile_background_color='C0DEED', profile_background_image_url='http://abs.twimg.com/images/themes/theme1/bg.png', profile_background_image_url_https='https://abs.twimg.com/images/themes/theme1/bg.png', profile_background_tile=False, profile_image_url='http://pbs.twimg.com/profile_images/1339671702733803521/Mrf319XS_normal.jpg', profile_image_url_https='https://pbs.twimg.com/profile_images/1339671702733803521/Mrf319XS_normal.jpg', profile_banner_url='https://pbs.twimg.com/profile_banners/557334459/1611580214', profile_link_color='1DA1F2', profile_sidebar_border_color='C0DEED', profile_sidebar_fill_color='DDEEF6', profile_text_color='333333', profile_use_background_image=True, has_extended_profile=True, default_profile=True, default_profile_image=False, following=False, follow_request_sent=False, notifications=False, translator_type='none'), user=User(_api=<tweepy.api.API object at 0x000001C06D366EC8>, _json={'id': 557334459, 'id_str': '557334459', 'name': 'Tim Hannan', 'screen_name': 'TimHannan', 'location': 'Islip Terrace, NY', 'description': 'New York, born & raised. Donald Trump tried to murder Congress.  #Resist #BLM', 'url': None, 'entities': {'description': {'urls': []}}, 'protected': False, 'followers_count': 71308, 'friends_count': 48242, 'listed_count': 307, 'created_at': 'Wed Apr 18 21:51:35 +0000 2012', 'favourites_count': 29371, 'utc_offset': None, 'time_zone': None, 'geo_enabled': False, 'verified': False, 'statuses_count': 53486, 'lang': None, 'contributors_enabled': False, 'is_translator': False, 'is_translation_enabled': False, 'profile_background_color': 'C0DEED', 'profile_background_image_url': 'http://abs.twimg.com/images/themes/theme1/bg.png', 'profile_background_image_url_https': 'https://abs.twimg.com/images/themes/theme1/bg.png', 'profile_background_tile': False, 'profile_image_url': 'http://pbs.twimg.com/profile_images/1339671702733803521/Mrf319XS_normal.jpg', 'profile_image_url_https': 'https://pbs.twimg.com/profile_images/1339671702733803521/Mrf319XS_normal.jpg', 'profile_banner_url': 'https://pbs.twimg.com/profile_banners/557334459/1611580214', 'profile_link_color': '1DA1F2', 'profile_sidebar_border_color': 'C0DEED', 'profile_sidebar_fill_color': 'DDEEF6', 'profile_text_color': '333333', 'profile_use_background_image': True, 'has_extended_profile': True, 'default_profile': True, 'default_profile_image': False, 'following': False, 'follow_request_sent': False, 'notifications': False, 'translator_type': 'none'}, id=557334459, id_str='557334459', name='Tim Hannan', screen_name='TimHannan', location='Islip Terrace, NY', description='New York, born & raised. Donald Trump tried to murder Congress.  #Resist #BLM', url=None, entities={'description': {'urls': []}}, protected=False, followers_count=71308, friends_count=48242, listed_count=307, created_at=datetime.datetime(2012, 4, 18, 21, 51, 35), favourites_count=29371, utc_offset=None, time_zone=None, geo_enabled=False, verified=False, statuses_count=53486, lang=None, contributors_enabled=False, is_translator=False, is_translation_enabled=False, profile_background_color='C0DEED', profile_background_image_url='http://abs.twimg.com/images/themes/theme1/bg.png', profile_background_image_url_https='https://abs.twimg.com/images/themes/theme1/bg.png', profile_background_tile=False, profile_image_url='http://pbs.twimg.com/profile_images/1339671702733803521/Mrf319XS_normal.jpg', profile_image_url_https='https://pbs.twimg.com/profile_images/1339671702733803521/Mrf319XS_normal.jpg', profile_banner_url='https://pbs.twimg.com/profile_banners/557334459/1611580214', profile_link_color='1DA1F2', profile_sidebar_border_color='C0DEED', profile_sidebar_fill_color='DDEEF6', profile_text_color='333333', profile_use_background_image=True, has_extended_profile=True, default_profile=True, default_profile_image=False, following=False, follow_request_sent=False, notifications=False, translator_type='none'), geo=None, coordinates=None, place=None, contributors=None, is_quote_status=False, retweet_count=73, favorite_count=288, favorited=False, retweeted=False, lang='en')\n",
      "=================================================\n",
      "Status(_api=<tweepy.api.API object at 0x000001C06D366EC8>, _json={'created_at': 'Wed Mar 10 10:26:42 +0000 2021', 'id': 1369595561742008322, 'id_str': '1369595561742008322', 'full_text': '@BKannigaa He will also tell Joe Biden had sought his advise on  US election', 'truncated': False, 'display_text_range': [11, 76], 'entities': {'hashtags': [], 'symbols': [], 'user_mentions': [{'screen_name': 'BKannigaa', 'name': 'Kannigaa', 'id': 1094449455862931456, 'id_str': '1094449455862931456', 'indices': [0, 10]}], 'urls': []}, 'metadata': {'iso_language_code': 'en', 'result_type': 'recent'}, 'source': '<a href=\"http://twitter.com/download/android\" rel=\"nofollow\">Twitter for Android</a>', 'in_reply_to_status_id': 1369517433258532864, 'in_reply_to_status_id_str': '1369517433258532864', 'in_reply_to_user_id': 1094449455862931456, 'in_reply_to_user_id_str': '1094449455862931456', 'in_reply_to_screen_name': 'BKannigaa', 'user': {'id': 1273629416887746563, 'id_str': '1273629416887746563', 'name': 'Indian', 'screen_name': 'Indian00597480', 'location': '', 'description': 'HR professional', 'url': None, 'entities': {'description': {'urls': []}}, 'protected': False, 'followers_count': 9, 'friends_count': 88, 'listed_count': 0, 'created_at': 'Thu Jun 18 14:51:45 +0000 2020', 'favourites_count': 1568, 'utc_offset': None, 'time_zone': None, 'geo_enabled': True, 'verified': False, 'statuses_count': 980, 'lang': None, 'contributors_enabled': False, 'is_translator': False, 'is_translation_enabled': False, 'profile_background_color': 'F5F8FA', 'profile_background_image_url': None, 'profile_background_image_url_https': None, 'profile_background_tile': False, 'profile_image_url': 'http://abs.twimg.com/sticky/default_profile_images/default_profile_normal.png', 'profile_image_url_https': 'https://abs.twimg.com/sticky/default_profile_images/default_profile_normal.png', 'profile_link_color': '1DA1F2', 'profile_sidebar_border_color': 'C0DEED', 'profile_sidebar_fill_color': 'DDEEF6', 'profile_text_color': '333333', 'profile_use_background_image': True, 'has_extended_profile': True, 'default_profile': True, 'default_profile_image': True, 'following': False, 'follow_request_sent': False, 'notifications': False, 'translator_type': 'none'}, 'geo': None, 'coordinates': None, 'place': None, 'contributors': None, 'is_quote_status': False, 'retweet_count': 0, 'favorite_count': 1, 'favorited': False, 'retweeted': False, 'lang': 'en'}, created_at=datetime.datetime(2021, 3, 10, 10, 26, 42), id=1369595561742008322, id_str='1369595561742008322', full_text='@BKannigaa He will also tell Joe Biden had sought his advise on  US election', truncated=False, display_text_range=[11, 76], entities={'hashtags': [], 'symbols': [], 'user_mentions': [{'screen_name': 'BKannigaa', 'name': 'Kannigaa', 'id': 1094449455862931456, 'id_str': '1094449455862931456', 'indices': [0, 10]}], 'urls': []}, metadata={'iso_language_code': 'en', 'result_type': 'recent'}, source='Twitter for Android', source_url='http://twitter.com/download/android', in_reply_to_status_id=1369517433258532864, in_reply_to_status_id_str='1369517433258532864', in_reply_to_user_id=1094449455862931456, in_reply_to_user_id_str='1094449455862931456', in_reply_to_screen_name='BKannigaa', author=User(_api=<tweepy.api.API object at 0x000001C06D366EC8>, _json={'id': 1273629416887746563, 'id_str': '1273629416887746563', 'name': 'Indian', 'screen_name': 'Indian00597480', 'location': '', 'description': 'HR professional', 'url': None, 'entities': {'description': {'urls': []}}, 'protected': False, 'followers_count': 9, 'friends_count': 88, 'listed_count': 0, 'created_at': 'Thu Jun 18 14:51:45 +0000 2020', 'favourites_count': 1568, 'utc_offset': None, 'time_zone': None, 'geo_enabled': True, 'verified': False, 'statuses_count': 980, 'lang': None, 'contributors_enabled': False, 'is_translator': False, 'is_translation_enabled': False, 'profile_background_color': 'F5F8FA', 'profile_background_image_url': None, 'profile_background_image_url_https': None, 'profile_background_tile': False, 'profile_image_url': 'http://abs.twimg.com/sticky/default_profile_images/default_profile_normal.png', 'profile_image_url_https': 'https://abs.twimg.com/sticky/default_profile_images/default_profile_normal.png', 'profile_link_color': '1DA1F2', 'profile_sidebar_border_color': 'C0DEED', 'profile_sidebar_fill_color': 'DDEEF6', 'profile_text_color': '333333', 'profile_use_background_image': True, 'has_extended_profile': True, 'default_profile': True, 'default_profile_image': True, 'following': False, 'follow_request_sent': False, 'notifications': False, 'translator_type': 'none'}, id=1273629416887746563, id_str='1273629416887746563', name='Indian', screen_name='Indian00597480', location='', description='HR professional', url=None, entities={'description': {'urls': []}}, protected=False, followers_count=9, friends_count=88, listed_count=0, created_at=datetime.datetime(2020, 6, 18, 14, 51, 45), favourites_count=1568, utc_offset=None, time_zone=None, geo_enabled=True, verified=False, statuses_count=980, lang=None, contributors_enabled=False, is_translator=False, is_translation_enabled=False, profile_background_color='F5F8FA', profile_background_image_url=None, profile_background_image_url_https=None, profile_background_tile=False, profile_image_url='http://abs.twimg.com/sticky/default_profile_images/default_profile_normal.png', profile_image_url_https='https://abs.twimg.com/sticky/default_profile_images/default_profile_normal.png', profile_link_color='1DA1F2', profile_sidebar_border_color='C0DEED', profile_sidebar_fill_color='DDEEF6', profile_text_color='333333', profile_use_background_image=True, has_extended_profile=True, default_profile=True, default_profile_image=True, following=False, follow_request_sent=False, notifications=False, translator_type='none'), user=User(_api=<tweepy.api.API object at 0x000001C06D366EC8>, _json={'id': 1273629416887746563, 'id_str': '1273629416887746563', 'name': 'Indian', 'screen_name': 'Indian00597480', 'location': '', 'description': 'HR professional', 'url': None, 'entities': {'description': {'urls': []}}, 'protected': False, 'followers_count': 9, 'friends_count': 88, 'listed_count': 0, 'created_at': 'Thu Jun 18 14:51:45 +0000 2020', 'favourites_count': 1568, 'utc_offset': None, 'time_zone': None, 'geo_enabled': True, 'verified': False, 'statuses_count': 980, 'lang': None, 'contributors_enabled': False, 'is_translator': False, 'is_translation_enabled': False, 'profile_background_color': 'F5F8FA', 'profile_background_image_url': None, 'profile_background_image_url_https': None, 'profile_background_tile': False, 'profile_image_url': 'http://abs.twimg.com/sticky/default_profile_images/default_profile_normal.png', 'profile_image_url_https': 'https://abs.twimg.com/sticky/default_profile_images/default_profile_normal.png', 'profile_link_color': '1DA1F2', 'profile_sidebar_border_color': 'C0DEED', 'profile_sidebar_fill_color': 'DDEEF6', 'profile_text_color': '333333', 'profile_use_background_image': True, 'has_extended_profile': True, 'default_profile': True, 'default_profile_image': True, 'following': False, 'follow_request_sent': False, 'notifications': False, 'translator_type': 'none'}, id=1273629416887746563, id_str='1273629416887746563', name='Indian', screen_name='Indian00597480', location='', description='HR professional', url=None, entities={'description': {'urls': []}}, protected=False, followers_count=9, friends_count=88, listed_count=0, created_at=datetime.datetime(2020, 6, 18, 14, 51, 45), favourites_count=1568, utc_offset=None, time_zone=None, geo_enabled=True, verified=False, statuses_count=980, lang=None, contributors_enabled=False, is_translator=False, is_translation_enabled=False, profile_background_color='F5F8FA', profile_background_image_url=None, profile_background_image_url_https=None, profile_background_tile=False, profile_image_url='http://abs.twimg.com/sticky/default_profile_images/default_profile_normal.png', profile_image_url_https='https://abs.twimg.com/sticky/default_profile_images/default_profile_normal.png', profile_link_color='1DA1F2', profile_sidebar_border_color='C0DEED', profile_sidebar_fill_color='DDEEF6', profile_text_color='333333', profile_use_background_image=True, has_extended_profile=True, default_profile=True, default_profile_image=True, following=False, follow_request_sent=False, notifications=False, translator_type='none'), geo=None, coordinates=None, place=None, contributors=None, is_quote_status=False, retweet_count=0, favorite_count=1, favorited=False, retweeted=False, lang='en')\n",
      "=================================================\n"
     ]
    }
   ],
   "source": [
    "# Lets provide the query which I need to search\n",
    "\n",
    "query = \"US election Joe Biden\"\n",
    "\n",
    "# Fetch tweets\n",
    "\n",
    "Tweets = api.search(query, count=10, lang= 'en', exclude= 'retweets', tweet_mode= 'extended')\n",
    "\n",
    "for tweet in Tweets:\n",
    "    print(tweet)\n",
    "    print(\"=================================================\")"
   ]
  },
  {
   "cell_type": "markdown",
   "metadata": {},
   "source": [
    "# Getting the Tweets and some of its related Attributes"
   ]
  },
  {
   "cell_type": "code",
   "execution_count": 8,
   "metadata": {},
   "outputs": [
    {
     "data": {
      "text/html": [
       "<div>\n",
       "<style scoped>\n",
       "    .dataframe tbody tr th:only-of-type {\n",
       "        vertical-align: middle;\n",
       "    }\n",
       "\n",
       "    .dataframe tbody tr th {\n",
       "        vertical-align: top;\n",
       "    }\n",
       "\n",
       "    .dataframe thead th {\n",
       "        text-align: right;\n",
       "    }\n",
       "</style>\n",
       "<table border=\"1\" class=\"dataframe\">\n",
       "  <thead>\n",
       "    <tr style=\"text-align: right;\">\n",
       "      <th></th>\n",
       "      <th>Tweets</th>\n",
       "      <th>User</th>\n",
       "      <th>User_statuses_count</th>\n",
       "      <th>user_followers</th>\n",
       "      <th>User_location</th>\n",
       "      <th>User_verified</th>\n",
       "      <th>fav_count</th>\n",
       "      <th>rt_count</th>\n",
       "      <th>tweet_date</th>\n",
       "    </tr>\n",
       "  </thead>\n",
       "  <tbody>\n",
       "  </tbody>\n",
       "</table>\n",
       "</div>"
      ],
      "text/plain": [
       "Empty DataFrame\n",
       "Columns: [Tweets, User, User_statuses_count, user_followers, User_location, User_verified, fav_count, rt_count, tweet_date]\n",
       "Index: []"
      ]
     },
     "execution_count": 8,
     "metadata": {},
     "output_type": "execute_result"
    }
   ],
   "source": [
    "df = pd.DataFrame(columns=[\n",
    "    'Tweets', 'User', 'User_statuses_count',\n",
    "    'user_followers', 'User_location', 'User_verified',\n",
    "    'fav_count', 'rt_count', 'tweet_date'\n",
    "])\n",
    "df"
   ]
  },
  {
   "cell_type": "code",
   "execution_count": 9,
   "metadata": {},
   "outputs": [],
   "source": [
    "def stream(data, file_name):\n",
    "    i=0\n",
    "    for tweet in tweepy.Cursor(api.search, q=data, count=100, lang='en').items():\n",
    "        print(i, end='\\r')\n",
    "        df.loc[i, 'Tweets'] = tweet.text\n",
    "        df.loc[i, 'User'] = tweet.user.name\n",
    "        df.loc[i, 'User_statuses_count'] = tweet.user.statuses_count\n",
    "        df.loc[i, 'user_followers'] = tweet.user.followers_count\n",
    "        df.loc[i, 'User_location'] = tweet.user.location\n",
    "        df.loc[i, 'User_verified'] = tweet.user.verified\n",
    "        df.loc[i, 'fav_count'] = tweet.favorite_count\n",
    "        df.loc[i, 'rt_count'] = tweet.retweet_count\n",
    "        df.loc[i, 'tweet_date'] = tweet.created_at\n",
    "        df.to_excel('{}.xlsx'.format(file_name))\n",
    "        i = i+1\n",
    "        if i == 1000:\n",
    "            break\n",
    "        else:\n",
    "            pass"
   ]
  },
  {
   "cell_type": "code",
   "execution_count": 10,
   "metadata": {
    "scrolled": true
   },
   "outputs": [],
   "source": [
    "stream(data=[\"Arnab Goswami’s leaked WhatsApp chats\"], file_name='my_tweets')"
   ]
  },
  {
   "cell_type": "code",
   "execution_count": 11,
   "metadata": {},
   "outputs": [
    {
     "data": {
      "text/html": [
       "<div>\n",
       "<style scoped>\n",
       "    .dataframe tbody tr th:only-of-type {\n",
       "        vertical-align: middle;\n",
       "    }\n",
       "\n",
       "    .dataframe tbody tr th {\n",
       "        vertical-align: top;\n",
       "    }\n",
       "\n",
       "    .dataframe thead th {\n",
       "        text-align: right;\n",
       "    }\n",
       "</style>\n",
       "<table border=\"1\" class=\"dataframe\">\n",
       "  <thead>\n",
       "    <tr style=\"text-align: right;\">\n",
       "      <th></th>\n",
       "      <th>Tweets</th>\n",
       "      <th>User</th>\n",
       "      <th>User_statuses_count</th>\n",
       "      <th>user_followers</th>\n",
       "      <th>User_location</th>\n",
       "      <th>User_verified</th>\n",
       "      <th>fav_count</th>\n",
       "      <th>rt_count</th>\n",
       "      <th>tweet_date</th>\n",
       "    </tr>\n",
       "  </thead>\n",
       "  <tbody>\n",
       "  </tbody>\n",
       "</table>\n",
       "</div>"
      ],
      "text/plain": [
       "Empty DataFrame\n",
       "Columns: [Tweets, User, User_statuses_count, user_followers, User_location, User_verified, fav_count, rt_count, tweet_date]\n",
       "Index: []"
      ]
     },
     "execution_count": 11,
     "metadata": {},
     "output_type": "execute_result"
    }
   ],
   "source": [
    "df.head()"
   ]
  },
  {
   "cell_type": "code",
   "execution_count": 81,
   "metadata": {},
   "outputs": [
    {
     "data": {
      "text/plain": [
       "(946, 9)"
      ]
     },
     "execution_count": 81,
     "metadata": {},
     "output_type": "execute_result"
    }
   ],
   "source": [
    "df.shape"
   ]
  },
  {
   "cell_type": "code",
   "execution_count": 82,
   "metadata": {},
   "outputs": [],
   "source": [
    "from textblob import TextBlob"
   ]
  },
  {
   "cell_type": "markdown",
   "metadata": {},
   "source": [
    "Textblob has built-in sentiment property\n",
    "\n",
    "Sentiment(polarity, subjectivity)\n",
    "\n",
    "Polarity: It is a float score withan a range [-1, 1]\n",
    "\n",
    "Subjectivity: It is a float value in the range [0,1] where  0 means very Objective and 1 means very Subjective."
   ]
  },
  {
   "cell_type": "code",
   "execution_count": 83,
   "metadata": {},
   "outputs": [],
   "source": [
    "import re\n",
    "def clean_tweet(tweet):\n",
    "    return ' '.join(re.sub('(@[A-Za-z0-9]+)|([^0-9A-Za-z \\t])|(\\w+:\\/\\/\\S+)', ' ', tweet).split())"
   ]
  },
  {
   "cell_type": "code",
   "execution_count": 84,
   "metadata": {},
   "outputs": [],
   "source": [
    "def analyze_sentiment(tweet):\n",
    "    analysis = TextBlob(tweet)\n",
    "    if analysis.sentiment.polarity>0:\n",
    "        return 'Positive'\n",
    "    elif analysis.sentiment.polarity==0:\n",
    "        return 'Neutral'\n",
    "    else:\n",
    "        return 'Negative'"
   ]
  },
  {
   "cell_type": "code",
   "execution_count": 85,
   "metadata": {},
   "outputs": [],
   "source": [
    "df['clean_tweet'] = df['Tweets'].apply(lambda x: clean_tweet(x))"
   ]
  },
  {
   "cell_type": "code",
   "execution_count": 86,
   "metadata": {},
   "outputs": [
    {
     "data": {
      "text/html": [
       "<div>\n",
       "<style scoped>\n",
       "    .dataframe tbody tr th:only-of-type {\n",
       "        vertical-align: middle;\n",
       "    }\n",
       "\n",
       "    .dataframe tbody tr th {\n",
       "        vertical-align: top;\n",
       "    }\n",
       "\n",
       "    .dataframe thead th {\n",
       "        text-align: right;\n",
       "    }\n",
       "</style>\n",
       "<table border=\"1\" class=\"dataframe\">\n",
       "  <thead>\n",
       "    <tr style=\"text-align: right;\">\n",
       "      <th></th>\n",
       "      <th>Tweets</th>\n",
       "      <th>clean_tweet</th>\n",
       "    </tr>\n",
       "  </thead>\n",
       "  <tbody>\n",
       "    <tr>\n",
       "      <th>0</th>\n",
       "      <td>RT @karanbirtinna: Wow Arnab Goswami's WhatsAp...</td>\n",
       "      <td>RT Wow Arnab Goswami s WhatsApp chats leaked a...</td>\n",
       "    </tr>\n",
       "    <tr>\n",
       "      <th>1</th>\n",
       "      <td>Many believe that anyone can snoop into one's ...</td>\n",
       "      <td>Many believe that anyone can snoop into one s ...</td>\n",
       "    </tr>\n",
       "    <tr>\n",
       "      <th>2</th>\n",
       "      <td>RT @dhruv_rathee: More than 500 pages of Arnab...</td>\n",
       "      <td>RT rathee More than 500 pages of Arnab Goswami...</td>\n",
       "    </tr>\n",
       "    <tr>\n",
       "      <th>3</th>\n",
       "      <td>RT @AnuragK35539521: Leaked WhatsApp chats bet...</td>\n",
       "      <td>RT Leaked WhatsApp chats between BARC Ceo amp ...</td>\n",
       "    </tr>\n",
       "    <tr>\n",
       "      <th>4</th>\n",
       "      <td>RT @LogicalIndians: One week has passed since ...</td>\n",
       "      <td>RT One week has passed since Editor in chief A...</td>\n",
       "    </tr>\n",
       "  </tbody>\n",
       "</table>\n",
       "</div>"
      ],
      "text/plain": [
       "                                              Tweets                                        clean_tweet\n",
       "0  RT @karanbirtinna: Wow Arnab Goswami's WhatsAp...  RT Wow Arnab Goswami s WhatsApp chats leaked a...\n",
       "1  Many believe that anyone can snoop into one's ...  Many believe that anyone can snoop into one s ...\n",
       "2  RT @dhruv_rathee: More than 500 pages of Arnab...  RT rathee More than 500 pages of Arnab Goswami...\n",
       "3  RT @AnuragK35539521: Leaked WhatsApp chats bet...  RT Leaked WhatsApp chats between BARC Ceo amp ...\n",
       "4  RT @LogicalIndians: One week has passed since ...  RT One week has passed since Editor in chief A..."
      ]
     },
     "execution_count": 86,
     "metadata": {},
     "output_type": "execute_result"
    }
   ],
   "source": [
    "df[['Tweets','clean_tweet']].head()"
   ]
  },
  {
   "cell_type": "code",
   "execution_count": 87,
   "metadata": {},
   "outputs": [],
   "source": [
    "df['Sentiment'] = df['clean_tweet'].apply(lambda x: analyze_sentiment(x))"
   ]
  },
  {
   "cell_type": "code",
   "execution_count": 88,
   "metadata": {},
   "outputs": [
    {
     "data": {
      "text/html": [
       "<div>\n",
       "<style scoped>\n",
       "    .dataframe tbody tr th:only-of-type {\n",
       "        vertical-align: middle;\n",
       "    }\n",
       "\n",
       "    .dataframe tbody tr th {\n",
       "        vertical-align: top;\n",
       "    }\n",
       "\n",
       "    .dataframe thead th {\n",
       "        text-align: right;\n",
       "    }\n",
       "</style>\n",
       "<table border=\"1\" class=\"dataframe\">\n",
       "  <thead>\n",
       "    <tr style=\"text-align: right;\">\n",
       "      <th></th>\n",
       "      <th>clean_tweet</th>\n",
       "      <th>Sentiment</th>\n",
       "    </tr>\n",
       "  </thead>\n",
       "  <tbody>\n",
       "    <tr>\n",
       "      <th>0</th>\n",
       "      <td>RT Wow Arnab Goswami s WhatsApp chats leaked a...</td>\n",
       "      <td>Positive</td>\n",
       "    </tr>\n",
       "    <tr>\n",
       "      <th>1</th>\n",
       "      <td>Many believe that anyone can snoop into one s ...</td>\n",
       "      <td>Positive</td>\n",
       "    </tr>\n",
       "    <tr>\n",
       "      <th>2</th>\n",
       "      <td>RT rathee More than 500 pages of Arnab Goswami...</td>\n",
       "      <td>Positive</td>\n",
       "    </tr>\n",
       "    <tr>\n",
       "      <th>3</th>\n",
       "      <td>RT Leaked WhatsApp chats between BARC Ceo amp ...</td>\n",
       "      <td>Neutral</td>\n",
       "    </tr>\n",
       "    <tr>\n",
       "      <th>4</th>\n",
       "      <td>RT One week has passed since Editor in chief A...</td>\n",
       "      <td>Negative</td>\n",
       "    </tr>\n",
       "  </tbody>\n",
       "</table>\n",
       "</div>"
      ],
      "text/plain": [
       "                                         clean_tweet Sentiment\n",
       "0  RT Wow Arnab Goswami s WhatsApp chats leaked a...  Positive\n",
       "1  Many believe that anyone can snoop into one s ...  Positive\n",
       "2  RT rathee More than 500 pages of Arnab Goswami...  Positive\n",
       "3  RT Leaked WhatsApp chats between BARC Ceo amp ...   Neutral\n",
       "4  RT One week has passed since Editor in chief A...  Negative"
      ]
     },
     "execution_count": 88,
     "metadata": {},
     "output_type": "execute_result"
    }
   ],
   "source": [
    "df[['clean_tweet','Sentiment']].head()"
   ]
  },
  {
   "cell_type": "code",
   "execution_count": 89,
   "metadata": {},
   "outputs": [],
   "source": [
    "pd.set_option('display.max_rows', 500)\n",
    "pd.set_option('display.max_columns', 500)\n",
    "pd.set_option('display.width', 1000)"
   ]
  },
  {
   "cell_type": "code",
   "execution_count": 90,
   "metadata": {},
   "outputs": [
    {
     "data": {
      "text/html": [
       "<div>\n",
       "<style scoped>\n",
       "    .dataframe tbody tr th:only-of-type {\n",
       "        vertical-align: middle;\n",
       "    }\n",
       "\n",
       "    .dataframe tbody tr th {\n",
       "        vertical-align: top;\n",
       "    }\n",
       "\n",
       "    .dataframe thead th {\n",
       "        text-align: right;\n",
       "    }\n",
       "</style>\n",
       "<table border=\"1\" class=\"dataframe\">\n",
       "  <thead>\n",
       "    <tr style=\"text-align: right;\">\n",
       "      <th></th>\n",
       "      <th>clean_tweet</th>\n",
       "      <th>Sentiment</th>\n",
       "    </tr>\n",
       "  </thead>\n",
       "  <tbody>\n",
       "    <tr>\n",
       "      <th>0</th>\n",
       "      <td>RT Wow Arnab Goswami s WhatsApp chats leaked a...</td>\n",
       "      <td>Positive</td>\n",
       "    </tr>\n",
       "    <tr>\n",
       "      <th>1</th>\n",
       "      <td>Many believe that anyone can snoop into one s ...</td>\n",
       "      <td>Positive</td>\n",
       "    </tr>\n",
       "    <tr>\n",
       "      <th>2</th>\n",
       "      <td>RT rathee More than 500 pages of Arnab Goswami...</td>\n",
       "      <td>Positive</td>\n",
       "    </tr>\n",
       "    <tr>\n",
       "      <th>3</th>\n",
       "      <td>RT Leaked WhatsApp chats between BARC Ceo amp ...</td>\n",
       "      <td>Neutral</td>\n",
       "    </tr>\n",
       "    <tr>\n",
       "      <th>4</th>\n",
       "      <td>RT One week has passed since Editor in chief A...</td>\n",
       "      <td>Negative</td>\n",
       "    </tr>\n",
       "  </tbody>\n",
       "</table>\n",
       "</div>"
      ],
      "text/plain": [
       "                                         clean_tweet Sentiment\n",
       "0  RT Wow Arnab Goswami s WhatsApp chats leaked a...  Positive\n",
       "1  Many believe that anyone can snoop into one s ...  Positive\n",
       "2  RT rathee More than 500 pages of Arnab Goswami...  Positive\n",
       "3  RT Leaked WhatsApp chats between BARC Ceo amp ...   Neutral\n",
       "4  RT One week has passed since Editor in chief A...  Negative"
      ]
     },
     "execution_count": 90,
     "metadata": {},
     "output_type": "execute_result"
    }
   ],
   "source": [
    "df[['clean_tweet','Sentiment']].head()"
   ]
  },
  {
   "cell_type": "code",
   "execution_count": 91,
   "metadata": {},
   "outputs": [
    {
     "data": {
      "text/html": [
       "<div>\n",
       "<style scoped>\n",
       "    .dataframe tbody tr th:only-of-type {\n",
       "        vertical-align: middle;\n",
       "    }\n",
       "\n",
       "    .dataframe tbody tr th {\n",
       "        vertical-align: top;\n",
       "    }\n",
       "\n",
       "    .dataframe thead th {\n",
       "        text-align: right;\n",
       "    }\n",
       "</style>\n",
       "<table border=\"1\" class=\"dataframe\">\n",
       "  <thead>\n",
       "    <tr style=\"text-align: right;\">\n",
       "      <th></th>\n",
       "      <th>Tweets</th>\n",
       "      <th>User</th>\n",
       "      <th>User_statuses_count</th>\n",
       "      <th>user_followers</th>\n",
       "      <th>User_location</th>\n",
       "      <th>User_verified</th>\n",
       "      <th>fav_count</th>\n",
       "      <th>rt_count</th>\n",
       "      <th>tweet_date</th>\n",
       "      <th>clean_tweet</th>\n",
       "      <th>Sentiment</th>\n",
       "    </tr>\n",
       "  </thead>\n",
       "  <tbody>\n",
       "    <tr>\n",
       "      <th>0</th>\n",
       "      <td>RT @karanbirtinna: Wow Arnab Goswami's WhatsAp...</td>\n",
       "      <td>Discombobulated.</td>\n",
       "      <td>314381</td>\n",
       "      <td>375</td>\n",
       "      <td>North-Mid Earth</td>\n",
       "      <td>False</td>\n",
       "      <td>0</td>\n",
       "      <td>17</td>\n",
       "      <td>2021-01-24 13:59:12</td>\n",
       "      <td>RT Wow Arnab Goswami s WhatsApp chats leaked a...</td>\n",
       "      <td>Positive</td>\n",
       "    </tr>\n",
       "    <tr>\n",
       "      <th>1</th>\n",
       "      <td>Many believe that anyone can snoop into one's ...</td>\n",
       "      <td>Praveen Kumar</td>\n",
       "      <td>130</td>\n",
       "      <td>60</td>\n",
       "      <td>🇮🇳</td>\n",
       "      <td>False</td>\n",
       "      <td>1</td>\n",
       "      <td>0</td>\n",
       "      <td>2021-01-24 08:41:39</td>\n",
       "      <td>Many believe that anyone can snoop into one s ...</td>\n",
       "      <td>Positive</td>\n",
       "    </tr>\n",
       "    <tr>\n",
       "      <th>2</th>\n",
       "      <td>RT @dhruv_rathee: More than 500 pages of Arnab...</td>\n",
       "      <td>Samir Khan</td>\n",
       "      <td>9735</td>\n",
       "      <td>51</td>\n",
       "      <td>Jamnagar, India</td>\n",
       "      <td>False</td>\n",
       "      <td>0</td>\n",
       "      <td>5461</td>\n",
       "      <td>2021-01-24 05:54:38</td>\n",
       "      <td>RT rathee More than 500 pages of Arnab Goswami...</td>\n",
       "      <td>Positive</td>\n",
       "    </tr>\n",
       "    <tr>\n",
       "      <th>3</th>\n",
       "      <td>RT @AnuragK35539521: Leaked WhatsApp chats bet...</td>\n",
       "      <td>surekha gupta</td>\n",
       "      <td>9681</td>\n",
       "      <td>2371</td>\n",
       "      <td>Ahmadabad City, India</td>\n",
       "      <td>False</td>\n",
       "      <td>0</td>\n",
       "      <td>3</td>\n",
       "      <td>2021-01-24 03:50:36</td>\n",
       "      <td>RT Leaked WhatsApp chats between BARC Ceo amp ...</td>\n",
       "      <td>Neutral</td>\n",
       "    </tr>\n",
       "    <tr>\n",
       "      <th>4</th>\n",
       "      <td>RT @LogicalIndians: One week has passed since ...</td>\n",
       "      <td>Raj Grewal</td>\n",
       "      <td>5168</td>\n",
       "      <td>186</td>\n",
       "      <td>Germany</td>\n",
       "      <td>False</td>\n",
       "      <td>0</td>\n",
       "      <td>5</td>\n",
       "      <td>2021-01-23 21:08:07</td>\n",
       "      <td>RT One week has passed since Editor in chief A...</td>\n",
       "      <td>Negative</td>\n",
       "    </tr>\n",
       "  </tbody>\n",
       "</table>\n",
       "</div>"
      ],
      "text/plain": [
       "                                              Tweets              User User_statuses_count user_followers          User_location User_verified fav_count rt_count           tweet_date                                        clean_tweet Sentiment\n",
       "0  RT @karanbirtinna: Wow Arnab Goswami's WhatsAp...  Discombobulated.              314381            375        North-Mid Earth         False         0       17  2021-01-24 13:59:12  RT Wow Arnab Goswami s WhatsApp chats leaked a...  Positive\n",
       "1  Many believe that anyone can snoop into one's ...     Praveen Kumar                 130             60                     🇮🇳         False         1        0  2021-01-24 08:41:39  Many believe that anyone can snoop into one s ...  Positive\n",
       "2  RT @dhruv_rathee: More than 500 pages of Arnab...        Samir Khan                9735             51        Jamnagar, India         False         0     5461  2021-01-24 05:54:38  RT rathee More than 500 pages of Arnab Goswami...  Positive\n",
       "3  RT @AnuragK35539521: Leaked WhatsApp chats bet...     surekha gupta                9681           2371  Ahmadabad City, India         False         0        3  2021-01-24 03:50:36  RT Leaked WhatsApp chats between BARC Ceo amp ...   Neutral\n",
       "4  RT @LogicalIndians: One week has passed since ...        Raj Grewal                5168            186                Germany         False         0        5  2021-01-23 21:08:07  RT One week has passed since Editor in chief A...  Negative"
      ]
     },
     "execution_count": 91,
     "metadata": {},
     "output_type": "execute_result"
    }
   ],
   "source": [
    "df.head()"
   ]
  },
  {
   "cell_type": "code",
   "execution_count": 92,
   "metadata": {},
   "outputs": [
    {
     "name": "stdout",
     "output_type": "stream",
     "text": [
      "Original Tweet:\n",
      "RT @dhruv_rathee: More than 500 pages of Arnab Goswami's WhatsApp chat has been leaked! \n",
      "\n",
      "Not only is there clear cut evidence of abuse of…\n",
      "\n",
      "Clean Tweet:\n",
      "RT rathee More than 500 pages of Arnab Goswami s WhatsApp chat has been leaked Not only is there clear cut evidence of abuse of\n",
      "\n",
      "Sentiment:\n",
      "Positive\n"
     ]
    }
   ],
   "source": [
    "n = 20\n",
    "print('Original Tweet:\\n'+df['Tweets'][n])\n",
    "print()\n",
    "print('Clean Tweet:\\n'+df['clean_tweet'][n])\n",
    "print()\n",
    "print(\"Sentiment:\\n\"+df['Sentiment'][n])"
   ]
  },
  {
   "cell_type": "code",
   "execution_count": 93,
   "metadata": {},
   "outputs": [
    {
     "name": "stdout",
     "output_type": "stream",
     "text": [
      "Original Tweet:\n",
      "The leaked WhatsApp chats of Arnab Goswami, an anchorperson of Indian Republic TV, exposed the sinister designs hat… https://t.co/F3vXQYmA6o\n",
      "\n",
      "Clean Tweet:\n",
      "The leaked WhatsApp chats of Arnab Goswami an anchorperson of Indian Republic TV exposed the sinister designs hat\n",
      "\n",
      "Sentiment:\n",
      "Negative\n"
     ]
    }
   ],
   "source": [
    "n = 202\n",
    "print('Original Tweet:\\n'+df['Tweets'][n])\n",
    "print()\n",
    "print('Clean Tweet:\\n'+df['clean_tweet'][n])\n",
    "print()\n",
    "print(\"Sentiment:\\n\"+df['Sentiment'][n])"
   ]
  },
  {
   "cell_type": "code",
   "execution_count": 94,
   "metadata": {},
   "outputs": [
    {
     "name": "stdout",
     "output_type": "stream",
     "text": [
      "Original Tweet:\n",
      "RT @RiaRevealed: Republic TV's Arnab Goswami has been slammed by the grieving kin of Pulwama attack martyrs. They demanded strict action ag…\n",
      "\n",
      "Clean Tweet:\n",
      "RT Republic TV s Arnab Goswami has been slammed by the grieving kin of Pulwama attack martyrs They demanded strict action ag\n",
      "\n",
      "Sentiment:\n",
      "Positive\n"
     ]
    }
   ],
   "source": [
    "n = 50\n",
    "print('Original Tweet:\\n'+df['Tweets'][n])\n",
    "print()\n",
    "print('Clean Tweet:\\n'+df['clean_tweet'][n])\n",
    "print()\n",
    "print(\"Sentiment:\\n\"+df['Sentiment'][n])"
   ]
  },
  {
   "cell_type": "code",
   "execution_count": 95,
   "metadata": {},
   "outputs": [
    {
     "data": {
      "text/plain": [
       "246"
      ]
     },
     "execution_count": 95,
     "metadata": {},
     "output_type": "execute_result"
    }
   ],
   "source": [
    "df[df.Sentiment=='Positive'].shape[0]"
   ]
  },
  {
   "cell_type": "code",
   "execution_count": 96,
   "metadata": {},
   "outputs": [
    {
     "data": {
      "text/plain": [
       "346"
      ]
     },
     "execution_count": 96,
     "metadata": {},
     "output_type": "execute_result"
    }
   ],
   "source": [
    "df[df.Sentiment=='Neutral'].shape[0]"
   ]
  },
  {
   "cell_type": "code",
   "execution_count": 97,
   "metadata": {},
   "outputs": [
    {
     "data": {
      "text/plain": [
       "354"
      ]
     },
     "execution_count": 97,
     "metadata": {},
     "output_type": "execute_result"
    }
   ],
   "source": [
    "df[df.Sentiment=='Negative'].shape[0]"
   ]
  },
  {
   "cell_type": "raw",
   "metadata": {},
   "source": [
    "data= \"US election Joe Biden\"\n",
    "Positive = 476\n",
    "Neutral = 400\n",
    "Negative = 124\n",
    "\n",
    "data= \"covid vaccine india\"\n",
    "Positive = 468\n",
    "Neutral = 460\n",
    "Negative = 72\n",
    "\n",
    "data= \"Chelsea sack Frank Lampard\"\n",
    "Positive = 366\n",
    "Neutral = 572\n",
    "Negative = 62\n",
    "\n",
    "data= \"Arnab Goswami’s leaked WhatsApp chats\"\n",
    "Positive = 246\n",
    "Neutral = 346\n",
    "Negative = 354"
   ]
  }
 ],
 "metadata": {
  "kernelspec": {
   "display_name": "Python 3",
   "language": "python",
   "name": "python3"
  },
  "language_info": {
   "codemirror_mode": {
    "name": "ipython",
    "version": 3
   },
   "file_extension": ".py",
   "mimetype": "text/x-python",
   "name": "python",
   "nbconvert_exporter": "python",
   "pygments_lexer": "ipython3",
   "version": "3.7.4"
  },
  "toc": {
   "base_numbering": 1,
   "nav_menu": {},
   "number_sections": true,
   "sideBar": true,
   "skip_h1_title": false,
   "title_cell": "Table of Contents",
   "title_sidebar": "Contents",
   "toc_cell": false,
   "toc_position": {},
   "toc_section_display": true,
   "toc_window_display": false
  }
 },
 "nbformat": 4,
 "nbformat_minor": 4
}
