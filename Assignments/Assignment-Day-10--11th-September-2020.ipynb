{
 "cells": [
  {
   "cell_type": "markdown",
   "metadata": {},
   "source": [
    "# Question 1:\n",
    "Create an element-wise comparison (greater, greater_equal, less and less_equal) of two given arrays"
   ]
  },
  {
   "cell_type": "code",
   "execution_count": 1,
   "metadata": {},
   "outputs": [],
   "source": [
    "import numpy as np"
   ]
  },
  {
   "cell_type": "code",
   "execution_count": 2,
   "metadata": {},
   "outputs": [
    {
     "name": "stdout",
     "output_type": "stream",
     "text": [
      "Original array:\n",
      " [7 6 8 2] \n",
      " [3 6 7 9]\n",
      "Comparison - greater\n",
      " [ True False  True False]\n",
      "Comparison - greater_equal\n",
      " [ True  True  True False]\n",
      "Comparison - less\n",
      " [False False False  True]\n",
      "Comparison - less_equal\n",
      " [False  True False  True]\n"
     ]
    }
   ],
   "source": [
    "a = np.array([7, 6, 8, 2])\n",
    "b = np.array([3, 6, 7, 9])\n",
    "print('Original array:\\n', a, '\\n', b)\n",
    "print('Comparison - greater\\n', np.greater(a, b))\n",
    "print('Comparison - greater_equal\\n', np.greater_equal(a, b))\n",
    "print('Comparison - less\\n', np.less(a, b))\n",
    "print('Comparison - less_equal\\n', np.less_equal(a, b))"
   ]
  },
  {
   "cell_type": "markdown",
   "metadata": {},
   "source": [
    "# Question 2:\n",
    "Write a NumPy program to create an array of 10 zeros,10 ones, 10 fives"
   ]
  },
  {
   "cell_type": "code",
   "execution_count": 3,
   "metadata": {},
   "outputs": [
    {
     "name": "stdout",
     "output_type": "stream",
     "text": [
      "An array of 10 zeros:\n",
      " [0. 0. 0. 0. 0. 0. 0. 0. 0. 0.]\n",
      "An array of 10 ones:\n",
      " [1. 1. 1. 1. 1. 1. 1. 1. 1. 1.]\n",
      "An array of 10 fives:\n",
      " [5. 5. 5. 5. 5. 5. 5. 5. 5. 5.]\n"
     ]
    }
   ],
   "source": [
    "# array of 10 zeros\n",
    "a = np.zeros((10))\n",
    "print('An array of 10 zeros:\\n', a)\n",
    "\n",
    "# array of 10 ones\n",
    "b = np.ones((10))\n",
    "print('An array of 10 ones:\\n', b)\n",
    "\n",
    "# array of 10 fives\n",
    "c = np.ones((10))*5\n",
    "print('An array of 10 fives:\\n', c)"
   ]
  },
  {
   "cell_type": "markdown",
   "metadata": {},
   "source": [
    "# Question 3:\n",
    "Write a NumPy program to compute sum of all elements, sum of each column and sum of each row of a\n",
    "given array"
   ]
  },
  {
   "cell_type": "code",
   "execution_count": 4,
   "metadata": {},
   "outputs": [
    {
     "name": "stdout",
     "output_type": "stream",
     "text": [
      "Original array:\n",
      " [[0 1 2]\n",
      " [3 4 5]\n",
      " [6 7 8]]\n",
      "Sum of all elements:\n",
      " 36\n",
      "Sum of each column:\n",
      " [ 9 12 15]\n",
      "Sum of each row:\n",
      " [ 3 12 21]\n"
     ]
    }
   ],
   "source": [
    "a = np.arange(9).reshape(3,3)\n",
    "print('Original array:\\n', a)\n",
    "print('Sum of all elements:\\n', np.sum(a))\n",
    "print('Sum of each column:\\n', np.sum(a, axis=0))\n",
    "print('Sum of each row:\\n', np.sum(a, axis=1))"
   ]
  },
  {
   "cell_type": "markdown",
   "metadata": {},
   "source": [
    "# Question 4:\n",
    "Write a NumPy program to add, subtract, multiply, divide arguments element-wise."
   ]
  },
  {
   "cell_type": "code",
   "execution_count": 5,
   "metadata": {
    "scrolled": false
   },
   "outputs": [
    {
     "name": "stdout",
     "output_type": "stream",
     "text": [
      "Add:\n",
      " 8.0\n",
      "Subtract:\n",
      " 2.0\n",
      "Multiply:\n",
      " 15.0\n",
      "Divide:\n",
      " 1.6666666666666667\n"
     ]
    }
   ],
   "source": [
    "print('Add:\\n', np.add(5.0, 3.0))\n",
    "print('Subtract:\\n', np.subtract(5.0, 3.0))\n",
    "print('Multiply:\\n', np.multiply(5.0, 3.0))\n",
    "print('Divide:\\n', np.divide(5.0, 3.0))"
   ]
  },
  {
   "cell_type": "markdown",
   "metadata": {},
   "source": [
    "# Question 5:\n",
    "Write a NumPy program to compute the trigonometric sine, cosine and tangent array of angles given in\n",
    "degree."
   ]
  },
  {
   "cell_type": "code",
   "execution_count": 6,
   "metadata": {},
   "outputs": [
    {
     "name": "stdout",
     "output_type": "stream",
     "text": [
      "sine: array of angles given in degrees\n",
      " [0.         0.5        0.70710678 0.8660254  1.        ]\n",
      "cosine: array of angles given in degrees\n",
      " [1.00000000e+00 8.66025404e-01 7.07106781e-01 5.00000000e-01\n",
      " 6.12323400e-17]\n",
      "tangent: array of angles given in degrees\n",
      " [0.00000000e+00 5.77350269e-01 1.00000000e+00 1.73205081e+00\n",
      " 1.63312394e+16]\n"
     ]
    }
   ],
   "source": [
    "print('sine: array of angles given in degrees\\n', np.sin(np.array((0., 30., 45., 60., 90.)) * np.pi / 180.))\n",
    "print('cosine: array of angles given in degrees\\n', np.cos(np.array((0., 30., 45., 60., 90.)) * np.pi / 180.))\n",
    "print('tangent: array of angles given in degrees\\n', np.tan(np.array((0., 30., 45., 60., 90.)) * np.pi / 180.))"
   ]
  }
 ],
 "metadata": {
  "kernelspec": {
   "display_name": "Python 3",
   "language": "python",
   "name": "python3"
  },
  "language_info": {
   "codemirror_mode": {
    "name": "ipython",
    "version": 3
   },
   "file_extension": ".py",
   "mimetype": "text/x-python",
   "name": "python",
   "nbconvert_exporter": "python",
   "pygments_lexer": "ipython3",
   "version": "3.7.4"
  }
 },
 "nbformat": 4,
 "nbformat_minor": 2
}
