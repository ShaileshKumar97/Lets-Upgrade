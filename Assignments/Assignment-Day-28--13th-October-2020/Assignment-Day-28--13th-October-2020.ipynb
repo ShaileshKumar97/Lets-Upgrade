{
 "cells": [
  {
   "cell_type": "markdown",
   "metadata": {},
   "source": [
    "# Question 1:\n",
    "Create one array of actual values and another array of predicted values. Compare the two sets\n",
    "with the confusion matrix."
   ]
  },
  {
   "cell_type": "code",
   "execution_count": 1,
   "metadata": {},
   "outputs": [],
   "source": [
    "from sklearn.metrics import confusion_matrix\n",
    "from sklearn.metrics import classification_report\n",
    "import numpy as np"
   ]
  },
  {
   "cell_type": "code",
   "execution_count": 2,
   "metadata": {},
   "outputs": [
    {
     "name": "stdout",
     "output_type": "stream",
     "text": [
      "Confusion matrix: \n",
      " [[5 2]\n",
      " [4 9]]\n",
      "Outcome values :  5 2 4 9\n",
      "Classification report : \n",
      "               precision    recall  f1-score   support\n",
      "\n",
      "           1       0.56      0.71      0.63         7\n",
      "           0       0.82      0.69      0.75        13\n",
      "\n",
      "    accuracy                           0.70        20\n",
      "   macro avg       0.69      0.70      0.69        20\n",
      "weighted avg       0.73      0.70      0.71        20\n",
      "\n"
     ]
    }
   ],
   "source": [
    "#actual values\n",
    "actual_val = [1,0,1,1,0,0,1,0,0,1,0,0,0,1,0,0,1,0,0,0]\n",
    "\n",
    "#predicted values\n",
    "pred_val = [1,0,1,0,0,0,0,0,1,1,0,1,1,1,0,0,1,0,0,1]\n",
    "\n",
    "#confusion matrix\n",
    "matrix = confusion_matrix(actual_val, pred_val, labels=[1,0])\n",
    "print('Confusion matrix: \\n',matrix)\n",
    "\n",
    "# outcome values order in sklearn\n",
    "tp, fn, fp, tn = confusion_matrix(actual_val,pred_val,labels=[1,0]).reshape(-1)\n",
    "print('Outcome values : ', tp, fn, fp, tn)\n",
    "\n",
    "# classification report for precision, recall f1-score and accuracy\n",
    "report = classification_report(actual_val,pred_val,labels=[1,0])\n",
    "print('Classification report : \\n',report)"
   ]
  },
  {
   "cell_type": "markdown",
   "metadata": {},
   "source": [
    "# Question 2:\n",
    "Find out the recall, precision, F1 score and confusion matrix with picture"
   ]
  },
  {
   "cell_type": "markdown",
   "metadata": {},
   "source": [
    "![](https://github.com/ShaileshKumar97/Lets-Upgrade/blob/master/Assignments/Assignment-Day-28--13th-October-2020/confusion_matrix.png?raw=true)"
   ]
  },
  {
   "cell_type": "code",
   "execution_count": 3,
   "metadata": {},
   "outputs": [
    {
     "name": "stdout",
     "output_type": "stream",
     "text": [
      "Recall:  0.84\n",
      "\n",
      "Precision:  0.7\n",
      "\n",
      "F1 Score: 0.76\n",
      "\n",
      "Accuracy:  0.74\n",
      "\n",
      "Confusion Matrix: \n",
      " [[42  8]\n",
      " [18 32]]\n"
     ]
    }
   ],
   "source": [
    "#from above picture we can extract TP, FN, FP, TN\n",
    "tp = 42\n",
    "fn = 8\n",
    "fp = 18\n",
    "tn = 32\n",
    "\n",
    "#recall\n",
    "recall = tp/(tp+fn)\n",
    "print('Recall: ', recall)\n",
    "\n",
    "#precision\n",
    "precision = tp/(tp+fp)\n",
    "print('\\nPrecision: ', precision)\n",
    "\n",
    "#f1 score\n",
    "f1_score = 2*recall*precision/(recall+precision)\n",
    "print(f'\\nF1 Score: {f1_score:.2f}')\n",
    "\n",
    "#accuracy\n",
    "accuracy = (tp+tn)/(tp+tn+fp+fn)\n",
    "print('\\nAccuracy: ', accuracy)\n",
    "\n",
    "#confusion matrix\n",
    "print('\\nConfusion Matrix: \\n', np.array([[tp, fn],[fp, tn]]))"
   ]
  }
 ],
 "metadata": {
  "kernelspec": {
   "display_name": "Python 3",
   "language": "python",
   "name": "python3"
  },
  "language_info": {
   "codemirror_mode": {
    "name": "ipython",
    "version": 3
   },
   "file_extension": ".py",
   "mimetype": "text/x-python",
   "name": "python",
   "nbconvert_exporter": "python",
   "pygments_lexer": "ipython3",
   "version": "3.7.4"
  },
  "toc": {
   "base_numbering": 1,
   "nav_menu": {},
   "number_sections": true,
   "sideBar": true,
   "skip_h1_title": false,
   "title_cell": "Table of Contents",
   "title_sidebar": "Contents",
   "toc_cell": false,
   "toc_position": {},
   "toc_section_display": true,
   "toc_window_display": false
  }
 },
 "nbformat": 4,
 "nbformat_minor": 2
}
