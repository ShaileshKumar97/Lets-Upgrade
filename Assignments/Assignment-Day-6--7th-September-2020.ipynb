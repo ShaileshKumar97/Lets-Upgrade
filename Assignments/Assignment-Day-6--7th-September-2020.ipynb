{
 "cells": [
  {
   "cell_type": "markdown",
   "metadata": {},
   "source": [
    "# Question 1 :\n",
    "\n",
    "Assuming that we have some email addresses in the \"username@companyname.com\" format, please\n",
    "write a program to print the company name of a given email address. Both user names and company\n",
    "names are composed of letters only.\n",
    "\n",
    "#### Input Format:\n",
    "The first line of the input contains an email address.\n",
    "\n",
    "#### Output Format:\n",
    "Print the company name in a single line.\n",
    "\n",
    "#### Example;\n",
    "Input:\n",
    "john@google.com\n",
    "\n",
    "Output:\n",
    "google."
   ]
  },
  {
   "cell_type": "code",
   "execution_count": 1,
   "metadata": {},
   "outputs": [
    {
     "name": "stdout",
     "output_type": "stream",
     "text": [
      "john@google.com\n",
      "google\n"
     ]
    }
   ],
   "source": [
    "email = list(input())\n",
    "a = []\n",
    "i = email.index('@') # Here index() method returns the index of '@' from the list\n",
    "j = email.index('.') # Here index() method returns the index of '.' from the list\n",
    "a += (email[i+1:j])  # Here we add the characters between '@' and '.' in the empty list a\n",
    "print(''.join(a))    # Here we converts the list elements into the string by using join() method"
   ]
  },
  {
   "cell_type": "markdown",
   "metadata": {},
   "source": [
    "# Question 2 :\n",
    "\n",
    "Write a program that accepts a comma-separated sequence of words as input and prints the words in a\n",
    "comma-separated sequence after sorting them alphabetically.\n",
    "\n",
    "#### Input Format:\n",
    "The first line of input contains words separated by the comma.\n",
    "\n",
    "#### Output Format:\n",
    "Print the sorted words separated by the comma.\n",
    "\n",
    "#### Example:\n",
    "Input:\n",
    "without,hello,bag,world\n",
    "\n",
    "Output:\n",
    "bag,hello,without,world"
   ]
  },
  {
   "cell_type": "code",
   "execution_count": 2,
   "metadata": {},
   "outputs": [
    {
     "name": "stdout",
     "output_type": "stream",
     "text": [
      "without,hello,bag,world\n",
      "bag,hello,without,world\n"
     ]
    }
   ],
   "source": [
    "a = list(input().split(',')) # Here we splitted the inputs by commas(,) and returns in the form of list \n",
    "print(','.join(sorted(a)))   # Here we converts the list elements into the string by using join() method"
   ]
  },
  {
   "cell_type": "markdown",
   "metadata": {},
   "source": [
    "# Question 3:\n",
    "\n",
    "Create your own Jupyter Notebook for Sets."
   ]
  },
  {
   "cell_type": "markdown",
   "metadata": {},
   "source": [
    "## Sets\n",
    "\n",
    "A set is a collection which is unordered and unindexed. In Python, sets are written with curly brackets."
   ]
  },
  {
   "cell_type": "code",
   "execution_count": 3,
   "metadata": {},
   "outputs": [
    {
     "name": "stdout",
     "output_type": "stream",
     "text": [
      "{'upgrade', 'AI-ML', 'lets'}\n"
     ]
    }
   ],
   "source": [
    "# create a set\n",
    "a = {\"lets\", \"upgrade\", \"AI-ML\"}\n",
    "print(a)"
   ]
  },
  {
   "cell_type": "markdown",
   "metadata": {},
   "source": [
    "**Note:** Sets are unordered, so you cannot be sure in which order the items will appear."
   ]
  },
  {
   "cell_type": "code",
   "execution_count": 4,
   "metadata": {},
   "outputs": [
    {
     "name": "stdout",
     "output_type": "stream",
     "text": [
      "upgrade\n",
      "AI-ML\n",
      "lets\n"
     ]
    }
   ],
   "source": [
    "# Access Items\n",
    "for i in a:\n",
    "    print(i)"
   ]
  },
  {
   "cell_type": "markdown",
   "metadata": {},
   "source": [
    "### Change Items:\n",
    "\n",
    "Once a set is created, you cannot change its items, but you can add new items.\n"
   ]
  },
  {
   "cell_type": "markdown",
   "metadata": {},
   "source": [
    "**Add Items**: \n",
    "1. To add one item to a set use the add() method.\n",
    "\n",
    "2. To add more than one item to a set use the update() method."
   ]
  },
  {
   "cell_type": "code",
   "execution_count": 5,
   "metadata": {},
   "outputs": [
    {
     "name": "stdout",
     "output_type": "stream",
     "text": [
      "{'upgrade', 'AI-ML', 'lets', 'Batch-2'}\n",
      "{'upgrade', 'AI-ML', 'Mahcine', 'for', 'Learning', 'lets'}\n"
     ]
    }
   ],
   "source": [
    "# adding one item\n",
    "a = {\"lets\", \"upgrade\", \"AI-ML\"}\n",
    "a.add(\"Batch-2\")\n",
    "print(a)\n",
    "\n",
    "# adding multiple items\n",
    "b = {\"lets\", \"upgrade\", \"AI-ML\"}\n",
    "b.update(['for', 'Mahcine', 'Learning'])\n",
    "print(b)"
   ]
  },
  {
   "cell_type": "markdown",
   "metadata": {},
   "source": [
    "### Get the Length of a Set:\n",
    "To determine how many items a set has, use the len() method."
   ]
  },
  {
   "cell_type": "code",
   "execution_count": 6,
   "metadata": {},
   "outputs": [
    {
     "name": "stdout",
     "output_type": "stream",
     "text": [
      "3\n"
     ]
    }
   ],
   "source": [
    "a = {\"lets\", \"upgrade\", \"AI-ML\"}\n",
    "print(len(a))"
   ]
  },
  {
   "cell_type": "markdown",
   "metadata": {},
   "source": [
    "### Remove Item:\n",
    "To remove an item in a set, use the remove(), or the discard() method."
   ]
  },
  {
   "cell_type": "markdown",
   "metadata": {},
   "source": [
    "- Remove \"lets\" by using the remove() method:"
   ]
  },
  {
   "cell_type": "code",
   "execution_count": 7,
   "metadata": {},
   "outputs": [
    {
     "name": "stdout",
     "output_type": "stream",
     "text": [
      "{'upgrade', 'AI-ML'}\n"
     ]
    }
   ],
   "source": [
    "a = {\"lets\", \"upgrade\", \"AI-ML\"}\n",
    "a.remove('lets')\n",
    "print(a)"
   ]
  },
  {
   "cell_type": "markdown",
   "metadata": {},
   "source": [
    "**Note:** If the item to remove does not exist, remove() will raise an error."
   ]
  },
  {
   "cell_type": "markdown",
   "metadata": {},
   "source": [
    "- Remove \"lets\" by using the discard() method:"
   ]
  },
  {
   "cell_type": "code",
   "execution_count": 8,
   "metadata": {},
   "outputs": [
    {
     "name": "stdout",
     "output_type": "stream",
     "text": [
      "{'upgrade', 'AI-ML'}\n"
     ]
    }
   ],
   "source": [
    "a = {\"lets\", \"upgrade\", \"AI-ML\"}\n",
    "a.discard('lets')\n",
    "print(a)"
   ]
  },
  {
   "cell_type": "markdown",
   "metadata": {},
   "source": [
    "**Note:** If the item to remove does not exist, discard() will NOT raise an error."
   ]
  },
  {
   "cell_type": "markdown",
   "metadata": {},
   "source": [
    "### Join Two Sets\n",
    "\n",
    "There are several ways to join two or more sets in Python.\n",
    "\n",
    "- You can use the union() method that returns a new set containing all items from both sets, or the update() method that inserts all the items from one set into another:\n"
   ]
  },
  {
   "cell_type": "markdown",
   "metadata": {},
   "source": [
    "- The union() method returns a new set with all items from both sets:"
   ]
  },
  {
   "cell_type": "code",
   "execution_count": 9,
   "metadata": {},
   "outputs": [
    {
     "name": "stdout",
     "output_type": "stream",
     "text": [
      "{1, 'upgrade', 2, 'AI-ML', 3, 'lets'}\n"
     ]
    }
   ],
   "source": [
    "s1 = {\"lets\", \"upgrade\", \"AI-ML\"}\n",
    "s2 = {1, 2, 3}\n",
    "\n",
    "s3 = s1.union(s2)\n",
    "print(s3)"
   ]
  },
  {
   "cell_type": "markdown",
   "metadata": {},
   "source": [
    "**Note:** Both union() and update() will exclude any duplicate items."
   ]
  },
  {
   "cell_type": "markdown",
   "metadata": {},
   "source": [
    "### The set() Constructor\n",
    "\n",
    "It is also possible to use the set() constructor to make a set."
   ]
  },
  {
   "cell_type": "code",
   "execution_count": 10,
   "metadata": {},
   "outputs": [
    {
     "name": "stdout",
     "output_type": "stream",
     "text": [
      "{'upgrade', 'AI-ML', 'lets'}\n"
     ]
    }
   ],
   "source": [
    "a = set(('lets', 'upgrade', 'AI-ML'))\n",
    "print(a)"
   ]
  },
  {
   "cell_type": "markdown",
   "metadata": {},
   "source": [
    "# Question 4:\n",
    "\n",
    "Given a list of n-1 numbers ranging from 1 to n, your task is to find the missing number. There are no\n",
    "duplicates.\n",
    "\n",
    "#### Input Format:\n",
    "The first line contains n-1 numbers with each number separated by a space.\n",
    "\n",
    "#### Output Format:\n",
    "Print the missing number\n",
    "\n",
    "#### Example:\n",
    "Input:\n",
    "1 2 4 6 3 7 8\n",
    "\n",
    "Output:\n",
    "5\n",
    "\n",
    "Explanation:\n",
    "In the above list of numbers 5 is missing and hence 5 is the input\n"
   ]
  },
  {
   "cell_type": "code",
   "execution_count": 11,
   "metadata": {},
   "outputs": [
    {
     "name": "stdout",
     "output_type": "stream",
     "text": [
      "1 2 4 6 3 7 8\n",
      "5\n"
     ]
    }
   ],
   "source": [
    "num = sorted(list(map(int, input().split()))) # Here we are taking space separated inputs in a list and then sorted them\n",
    "j = 1 \n",
    "for i in range(1,num[-1]+1):\n",
    "    if i == num[j-1]:\n",
    "        j += 1\n",
    "    else :\n",
    "        print(i) "
   ]
  },
  {
   "cell_type": "markdown",
   "metadata": {},
   "source": [
    "# Question 5:\n",
    "\n",
    "With a given list L, write a program to print this list L after removing all duplicate values with original order\n",
    "reserved.\n",
    "\n",
    "#### Example:\n",
    "\n",
    "If the input list is\n",
    "12 24 35 24 88 120 155 88 120 155\n",
    "\n",
    "Then the output should be\n",
    "12 24 35 88 120 155\n",
    "\n",
    "#### Explanation:\n",
    "\n",
    "Third, the seventh and ninth element of the list L has been removed because it was already present.\n",
    "\n",
    "#### Input Format:\n",
    "\n",
    "In one line take the elements of the list L with each element separated by a space.\n",
    "\n",
    "#### Output Format:\n",
    "\n",
    "Print the elements of the modified list in one line with each element separated by a space.\n",
    "\n",
    "#### Example:\n",
    "\n",
    "Input:\n",
    "12 24 35 24\n",
    "\n",
    "Output:\n",
    "12 24 35"
   ]
  },
  {
   "cell_type": "code",
   "execution_count": 12,
   "metadata": {},
   "outputs": [
    {
     "name": "stdout",
     "output_type": "stream",
     "text": [
      "12 24 35 24 88 120 155 88 120 155\n",
      "[12, 24, 35, 88, 120, 155]\n"
     ]
    }
   ],
   "source": [
    "elements = list(map(int, input().split()))\n",
    "original = []\n",
    "[original.append(item) for item in elements if item not in original]\n",
    "print(original)"
   ]
  }
 ],
 "metadata": {
  "kernelspec": {
   "display_name": "Python 3",
   "language": "python",
   "name": "python3"
  },
  "language_info": {
   "codemirror_mode": {
    "name": "ipython",
    "version": 3
   },
   "file_extension": ".py",
   "mimetype": "text/x-python",
   "name": "python",
   "nbconvert_exporter": "python",
   "pygments_lexer": "ipython3",
   "version": "3.7.4"
  }
 },
 "nbformat": 4,
 "nbformat_minor": 2
}
