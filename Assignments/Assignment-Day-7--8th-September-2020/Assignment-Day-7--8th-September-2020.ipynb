{
 "cells": [
  {
   "cell_type": "markdown",
   "metadata": {},
   "source": [
    "# Question 1:\n",
    "\n",
    "Write a program to copy the contents of one file to another using a for loop. (Don’t use built-in copy\n",
    "function)"
   ]
  },
  {
   "cell_type": "code",
   "execution_count": 1,
   "metadata": {},
   "outputs": [],
   "source": [
    "# Here i am creating file and then writing some lines\n",
    "f = open('Assignment-Day-7--8th-September-2020-main.txt', 'w')\n",
    "f.write('GOOGLE: Global Organization of Oriented Group Language of Earth')\n",
    "f.write('\\nYAHOO: Yet Another Hierarchically Organized Oracle')\n",
    "f.write('\\nCOMPUTER: Common Operating Machine Purposely Used for Technological and Educational Research')\n",
    "f.close()"
   ]
  },
  {
   "cell_type": "code",
   "execution_count": 2,
   "metadata": {},
   "outputs": [],
   "source": [
    "# Here i am opening my previously created file and copying or writing on to the new file line by line using for loop\n",
    "with open(\"Assignment-Day-7--8th-September-2020-main.txt\") as f:\n",
    "    with open(\"Assignment-Day-7--8th-September-2020-copy.txt\", \"w\") as f1:\n",
    "        for line in f:\n",
    "            f1.write(line)"
   ]
  },
  {
   "cell_type": "markdown",
   "metadata": {},
   "source": [
    "# Question 2:\n",
    "\n",
    "Write a Python program to find maximum and minimum values in the dictionary. Do not use built-in min\n",
    "and max functions."
   ]
  },
  {
   "cell_type": "code",
   "execution_count": 3,
   "metadata": {},
   "outputs": [
    {
     "name": "stdout",
     "output_type": "stream",
     "text": [
      "maximum value of the dictionary is 5874 & minimum value of the dictionary is 500\n"
     ]
    }
   ],
   "source": [
    "my_dict = {'x':500, 'y':5874, 'z': 560}\n",
    "max = sorted(my_dict.values())[-1]\n",
    "min = sorted(my_dict.values())[0]\n",
    "print(f'maximum value of the dictionary is {max} & minimum value of the dictionary is {min}')"
   ]
  },
  {
   "cell_type": "markdown",
   "metadata": {},
   "source": [
    "**Note:** In above code i used sorted() method for sorting values of the dictionary and then by using indexing we can get max and min values of dictionary without using in built-in functions."
   ]
  }
 ],
 "metadata": {
  "kernelspec": {
   "display_name": "Python 3",
   "language": "python",
   "name": "python3"
  },
  "language_info": {
   "codemirror_mode": {
    "name": "ipython",
    "version": 3
   },
   "file_extension": ".py",
   "mimetype": "text/x-python",
   "name": "python",
   "nbconvert_exporter": "python",
   "pygments_lexer": "ipython3",
   "version": "3.7.4"
  }
 },
 "nbformat": 4,
 "nbformat_minor": 2
}
