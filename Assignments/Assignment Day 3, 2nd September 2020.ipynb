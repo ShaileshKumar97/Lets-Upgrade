{
 "cells": [
  {
   "cell_type": "markdown",
   "metadata": {},
   "source": [
    "### Assignment Day 3 | 2nd September 2020"
   ]
  },
  {
   "cell_type": "markdown",
   "metadata": {},
   "source": [
    "### Question 1:\n",
    "Write a program to subtract two complex numbers in Python.\n"
   ]
  },
  {
   "cell_type": "code",
   "execution_count": 1,
   "metadata": {},
   "outputs": [
    {
     "name": "stdout",
     "output_type": "stream",
     "text": [
      "(-3-3j)\n"
     ]
    }
   ],
   "source": [
    "a = 2+3j #or we can simply use complex(2, 3) takes two values x,y-real value and automatically coverts to complex no. x=2, y=3 \n",
    "b = 5+6j #or we can simply use complex(5, 6) takes two values x,y-real value and automatically coverts to complex no. x=5, y=6\n",
    "print(a-b)"
   ]
  },
  {
   "cell_type": "markdown",
   "metadata": {},
   "source": [
    "### Question 2 :\n",
    "Write a program to find the fourth root of a number."
   ]
  },
  {
   "cell_type": "code",
   "execution_count": 2,
   "metadata": {},
   "outputs": [
    {
     "name": "stdout",
     "output_type": "stream",
     "text": [
      "81\n",
      "3.0\n"
     ]
    }
   ],
   "source": [
    "a = int(input()) # Enter the number for which you want fourth root\n",
    "print(a**0.25)"
   ]
  },
  {
   "cell_type": "markdown",
   "metadata": {},
   "source": [
    "### Question 3:\n",
    "Write a program to swap two numbers in Python with the help of a temporary variable."
   ]
  },
  {
   "cell_type": "code",
   "execution_count": 3,
   "metadata": {},
   "outputs": [
    {
     "name": "stdout",
     "output_type": "stream",
     "text": [
      "1 9\n",
      "Swapped Values of a and b with temporary variable: 9, 1\n"
     ]
    }
   ],
   "source": [
    "a, b = map(int,input().split()) #Given input should be space-separated values, here map(function, iterables) is used to \n",
    "                                #reduce extralines to take inputs\n",
    "c = a                           #Here c is the temporary variable\n",
    "a = b\n",
    "b = c\n",
    "print(f'Swapped Values of a and b with temporary variable: {a}, {b}') #formatted string used in the print function"
   ]
  },
  {
   "cell_type": "markdown",
   "metadata": {},
   "source": [
    "### Question 4:\n",
    "Write a program to swap two numbers in Python without using a temporary variable."
   ]
  },
  {
   "cell_type": "code",
   "execution_count": 4,
   "metadata": {},
   "outputs": [
    {
     "name": "stdout",
     "output_type": "stream",
     "text": [
      "1 9\n",
      "Swapped Values of a and b without using temporary variable: 9, 1\n"
     ]
    }
   ],
   "source": [
    "a, b = map(int,input().split()) #Given input should be space-separated values, here map(function, iterables) is used to \n",
    "                                #reduce extralines to take inputs\n",
    "a, b = b, a\n",
    "print(f'Swapped Values of a and b without using temporary variable: {a}, {b}')"
   ]
  },
  {
   "cell_type": "markdown",
   "metadata": {},
   "source": [
    "### Question 5:\n",
    "Write a program to convert Fahrenheit to kelvin and celsius both."
   ]
  },
  {
   "cell_type": "code",
   "execution_count": 5,
   "metadata": {},
   "outputs": [
    {
     "name": "stdout",
     "output_type": "stream",
     "text": [
      "98\n",
      "Converted Fahrenheit to kelvin value is: 309.82K\n",
      "Converted Fahrenheit to celsius value is: 36.67C\n"
     ]
    }
   ],
   "source": [
    "fahrenheit = float(input()) \n",
    "print(f'Converted Fahrenheit to kelvin value is: {(fahrenheit-32)*5/9 + 273.15:.2f}K') #formatted string used in the print function\n",
    "print(f'Converted Fahrenheit to celsius value is: {(fahrenheit-32)*5/9:.2f}C') #formatted string used in the print function"
   ]
  },
  {
   "cell_type": "markdown",
   "metadata": {},
   "source": [
    "### Question 6:\n",
    "Write a program to demonstrate all the available data types in Python. Hint: Use type() function."
   ]
  },
  {
   "cell_type": "code",
   "execution_count": 6,
   "metadata": {},
   "outputs": [
    {
     "name": "stdout",
     "output_type": "stream",
     "text": [
      "Let's Upgrade\n",
      "str data type for given text: <class 'str'>\n",
      "2020\n",
      "int data type for given no.: <class 'int'>\n",
      "3.8\n",
      "float data type for given no.: <class 'float'>\n",
      "4\n",
      "4\n",
      "complex data type for given complex no.: <class 'complex'>\n",
      "5 2 6 1\n",
      "list data type for given list: <class 'list'>\n",
      "9 6 3 8\n",
      "tuple data type for given tuple: <class 'tuple'>\n",
      "12\n",
      "range data type for given range: <class 'range'>\n",
      "\n",
      "dict data type for given dictionary: <class 'dict'>\n",
      "\n",
      "set data type for given set: <class 'set'>\n",
      "\n",
      "bool data type for given boolian value: <class 'bool'>\n",
      "6\n",
      "bytes data type for given value: <class 'bytes'>\n"
     ]
    }
   ],
   "source": [
    "print(f'str data type for given text: {type(input())}')                                       #input() takes input as string \n",
    "print(f'int data type for given no.: {type(int(input()))}')                                   # it takes input as int value\n",
    "print(f'float data type for given no.: {type(float(input( )))}')                              #it takes input as float value\n",
    "print(f'complex data type for given complex no.: {type(complex(int(input()),int(input())))}') #it takes two inputs \n",
    "print(f'list data type for given list: {type(list(map(int,input().split())))}')               #it takes space separated values as input\n",
    "print(f'tuple data type for given tuple: {type(tuple(map(int,input().split())))}')            #it takes space separated values as input\n",
    "print(f'range data type for given range: {type(range(int(input())))}\\n')                        #it takes input as int value\n",
    "A = {'a':1,'b':2}\n",
    "print(f'dict data type for given dictionary: {type(A)}\\n')                                    #it takes A as a input variable defined just above\n",
    "print(f'set data type for given set: {type({1,2,3})}\\n')                                      #{} acts as set and store 1,2,3 values\n",
    "print(f'bool data type for given boolian value: {type(True)}')                                # True and False acts as boolian value\n",
    "print(f'bytes data type for given value: {type(bytes(int(input())))}')                        #interconversion of different data types to bytes()"
   ]
  }
 ],
 "metadata": {
  "kernelspec": {
   "display_name": "Python 3",
   "language": "python",
   "name": "python3"
  },
  "language_info": {
   "codemirror_mode": {
    "name": "ipython",
    "version": 3
   },
   "file_extension": ".py",
   "mimetype": "text/x-python",
   "name": "python",
   "nbconvert_exporter": "python",
   "pygments_lexer": "ipython3",
   "version": "3.7.4"
  }
 },
 "nbformat": 4,
 "nbformat_minor": 2
}
