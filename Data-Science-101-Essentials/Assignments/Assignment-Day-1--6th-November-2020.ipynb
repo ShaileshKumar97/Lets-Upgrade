{
 "cells": [
  {
   "cell_type": "markdown",
   "metadata": {},
   "source": [
    "# Questions 1:\n",
    "\n",
    "Given the following jumbled word, OBANWRI guess the correct English word.\n",
    "\n",
    "A. RANIBOW \n",
    "\n",
    "B. RAINBOW\n",
    "\n",
    "C. BOWRANI \n",
    "\n",
    "D. ROBWANI"
   ]
  },
  {
   "cell_type": "code",
   "execution_count": 1,
   "metadata": {},
   "outputs": [],
   "source": [
    "# Option B: RAINBOW"
   ]
  },
  {
   "cell_type": "markdown",
   "metadata": {},
   "source": [
    "# Questions 2:\n",
    "\n",
    "Write a program which prints “LETS UPGRADE”. (Please note that you have to\n",
    "print in ALL CAPS as given)"
   ]
  },
  {
   "cell_type": "code",
   "execution_count": 2,
   "metadata": {},
   "outputs": [
    {
     "name": "stdout",
     "output_type": "stream",
     "text": [
      "LETS UPGRADE\n"
     ]
    }
   ],
   "source": [
    "print('LETS UPGRADE')"
   ]
  },
  {
   "cell_type": "markdown",
   "metadata": {},
   "source": [
    "# Questions 3:\n",
    "\n",
    "Write a program that takes cost price and selling price as input and displays whether the transaction is a\n",
    "Profit or a Loss or Neither.\n",
    "\n",
    "INPUT FORMAT\n",
    "\n",
    "- The first line contains the cost price.\n",
    "- The second line contains the selling price.\n",
    "\n",
    "OUTPUT FORMAT\n",
    "\n",
    "Print \"Profit\" if the transaction is a profit or \"Loss\" if it is a loss. If it is neither\n",
    "profit nor loss, print \"Neither\". (You must not have quotes in your output)\n",
    "\n",
    "NOTE:\n",
    "Please stick to the input and output format. Don't add anything extra like\n",
    "'Enter cost price', 'Enter selling price', etc.\n",
    "\n",
    "![Sample Test Cases:](https://github.com/ShaileshKumar97/Lets-Upgrade/blob/master/Data-Science-101-Essentials/Assignments/Sample_Test_Cases.png?raw=true)"
   ]
  },
  {
   "cell_type": "code",
   "execution_count": 5,
   "metadata": {},
   "outputs": [
    {
     "name": "stdout",
     "output_type": "stream",
     "text": [
      "20\n",
      "30\n",
      "Profit\n",
      "20\n",
      "10\n",
      "Loss\n",
      "20\n",
      "20\n",
      "Neither\n",
      "19\n",
      "19\n",
      "Neither\n",
      "23\n",
      "7\n",
      "Loss\n",
      "19\n",
      "95\n",
      "Profit\n"
     ]
    }
   ],
   "source": [
    "for test_cases in range(6):\n",
    "    cp = int(input())\n",
    "    sp = int(input())\n",
    "    diff = sp - cp\n",
    "    if diff > 0 :\n",
    "        print('Profit')\n",
    "    if diff < 0 :\n",
    "        print('Loss')\n",
    "    if diff == 0 :\n",
    "        print('Neither')"
   ]
  },
  {
   "cell_type": "markdown",
   "metadata": {},
   "source": [
    "# Questions 4:\n",
    "\n",
    "Write a program that takes an amount in Euros as input. You need to find its equivalent in Rupees and display it. Assume 1 Euro equals Rs. 80.\n",
    "\n",
    "Please note that you are expected to stick to the given input and output format as in sample test cases. Please don't add any extra lines such as 'Enter a number', etc.\n",
    "\n",
    "Your program should take only one number as input and display the output.\n",
    "\n",
    "![Sample Test Cases](https://github.com/ShaileshKumar97/Lets-Upgrade/blob/master/Data-Science-101-Essentials/Assignments/Sample_Test_Cases2.png?raw=true)"
   ]
  },
  {
   "cell_type": "code",
   "execution_count": 7,
   "metadata": {},
   "outputs": [
    {
     "name": "stdout",
     "output_type": "stream",
     "text": [
      "20\n",
      "1600\n",
      "50\n",
      "4000\n",
      "72\n",
      "5760\n",
      "7\n",
      "560\n",
      "35\n",
      "2800\n",
      "23\n",
      "1840\n",
      "95\n",
      "7600\n",
      "18\n",
      "1440\n"
     ]
    }
   ],
   "source": [
    "Euro = 80\n",
    "for test_cases in range(8):\n",
    "    e = int(input())\n",
    "    print(e*Euro)"
   ]
  }
 ],
 "metadata": {
  "kernelspec": {
   "display_name": "Python 3",
   "language": "python",
   "name": "python3"
  },
  "language_info": {
   "codemirror_mode": {
    "name": "ipython",
    "version": 3
   },
   "file_extension": ".py",
   "mimetype": "text/x-python",
   "name": "python",
   "nbconvert_exporter": "python",
   "pygments_lexer": "ipython3",
   "version": "3.7.4"
  },
  "toc": {
   "base_numbering": 1,
   "nav_menu": {},
   "number_sections": true,
   "sideBar": true,
   "skip_h1_title": false,
   "title_cell": "Table of Contents",
   "title_sidebar": "Contents",
   "toc_cell": false,
   "toc_position": {},
   "toc_section_display": true,
   "toc_window_display": false
  }
 },
 "nbformat": 4,
 "nbformat_minor": 4
}
